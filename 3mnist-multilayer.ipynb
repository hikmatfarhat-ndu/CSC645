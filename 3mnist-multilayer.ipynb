{
  "nbformat": 4,
  "nbformat_minor": 0,
  "metadata": {
    "orig_nbformat": 2,
    "kernelspec": {
      "name": "python3",
      "display_name": "Python 3"
    },
    "colab": {
      "name": "mnist-multilayer.ipynb",
      "provenance": [],
      "include_colab_link": true
    },
    "accelerator": "GPU"
  },
  "cells": [
    {
      "cell_type": "markdown",
      "metadata": {
        "id": "view-in-github",
        "colab_type": "text"
      },
      "source": [
        "<a href=\"https://colab.research.google.com/github/hikmatfarhat-ndu/CSC645/blob/master/3mnist-multilayer.ipynb\" target=\"_parent\"><img src=\"https://colab.research.google.com/assets/colab-badge.svg\" alt=\"Open In Colab\"/></a>"
      ]
    },
    {
      "cell_type": "markdown",
      "metadata": {
        "id": "cbDWs8GDdCPB"
      },
      "source": [
        "<a href=\"https://colab.research.google.com/github/hikmatfarhat-ndu/CSC645/blob/master/3mnist-multilayer.ipynb\" target=\"_parent\"><img src=\"https://colab.research.google.com/assets/colab-badge.svg\" alt=\"Open In Colab\"/></a>"
      ]
    },
    {
      "cell_type": "markdown",
      "metadata": {
        "id": "_pRwpeuRdCPG"
      },
      "source": [
        "# A deep feedforward network with arbitrary depth\n",
        "\n",
        "In this exercise we build a deep feedforward neural network to recognize handwrittne digits (the MNIST data). The code has many tweekable parameters, in particular the number and width of layers. But as you will see adding more layers slows down the convergence considerably.\n"
      ]
    },
    {
      "cell_type": "markdown",
      "metadata": {
        "id": "5AsZFi1WdCPI"
      },
      "source": [
        "### Packages\n",
        "\n",
        "Since we are building the network from scratch (i.e. without using any framework) we take advantaged of the GPU on collab by using __cupy__ instead of __numpy__"
      ]
    },
    {
      "cell_type": "code",
      "metadata": {
        "id": "8IE6Iu3NdCPL"
      },
      "source": [
        "using_cupy=1\n",
        "\n",
        "if using_cupy:\n",
        " import cupy as np\n",
        "else:\n",
        " import numpy as np\n",
        "\n",
        "import matplotlib.pyplot as plt\n",
        "import random\n",
        "import tensorflow as tf"
      ],
      "execution_count": 1,
      "outputs": []
    },
    {
      "cell_type": "markdown",
      "metadata": {
        "id": "pjGvLGMYdCPf"
      },
      "source": [
        "Important to be able to diplay matplotlib plots inline in the notebook"
      ]
    },
    {
      "cell_type": "code",
      "metadata": {
        "id": "7xZzopv8dCPh"
      },
      "source": [
        "%matplotlib inline"
      ],
      "execution_count": 2,
      "outputs": []
    },
    {
      "cell_type": "markdown",
      "metadata": {
        "id": "hqvMrrX8dCPs"
      },
      "source": [
        "## The data\n",
        "\n",
        "The MNIST data are images of handwritten digits (0 to 9) and is available as an example dataset in keras. It contains a training set (60000) and a test set (10000). Each set contains pairs of (image,label) where the image is a gray scale with dimension 28x28 and the labels are from 0 to 9.\n",
        "\n"
      ]
    },
    {
      "cell_type": "code",
      "metadata": {
        "id": "-sRy8P6aE60T",
        "outputId": "8bb34020-61b8-42c3-9139-41d162705286",
        "colab": {
          "base_uri": "https://localhost:8080/"
        }
      },
      "source": [
        "(img_train,label_train),(img_test_,label_test)=tf.keras.datasets.mnist.load_data()\n",
        "\n"
      ],
      "execution_count": 3,
      "outputs": [
        {
          "output_type": "stream",
          "text": [
            "Downloading data from https://storage.googleapis.com/tensorflow/tf-keras-datasets/mnist.npz\n",
            "11493376/11490434 [==============================] - 0s 0us/step\n"
          ],
          "name": "stdout"
        }
      ]
    },
    {
      "cell_type": "code",
      "metadata": {
        "id": "6y7T1q9jF56N",
        "outputId": "1716eb00-3afa-449b-efba-703b608edf08",
        "colab": {
          "base_uri": "https://localhost:8080/",
          "height": 268
        }
      },
      "source": [
        "fig=plt.figure()\n",
        "fig.tight_layout()\n",
        "plt.subplots_adjust( wspace=1, hspace=1)\n",
        "for i in range(20):\n",
        "            t=fig.add_subplot(4,5,i+1)\n",
        "            # set the title of the image equal to its label\n",
        "            t.set_title(str(label_train[i]))\n",
        "            t.axes.get_xaxis().set_visible(False)\n",
        "            t.axes.get_yaxis().set_visible(False)\n",
        "            plt.imshow(img_train[i],cmap='gray_r')\n"
      ],
      "execution_count": 4,
      "outputs": [
        {
          "output_type": "display_data",
          "data": {
            "image/png": "[encoded data removed]",
            "text/plain": [
              "<Figure size 432x288 with 20 Axes>"
            ]
          },
          "metadata": {
            "tags": [],
            "needs_background": "light"
          }
        }
      ]
    },
    {
      "cell_type": "markdown",
      "metadata": {
        "id": "n83D1KUCk7a9"
      },
      "source": [
        "### Data preprocessing\n",
        "\n",
        "It is almost always advisable to divide the pixel values by 255 for better convergence. Also we convert the trainning labels to one-hot encoding. As an example run the code below to familiarize yourself with one-hot encoding.\n",
        "#### One-hot example"
      ]
    },
    {
      "cell_type": "code",
      "metadata": {
        "id": "Go7AfPdGmLZ8",
        "outputId": "49092b2d-529b-415d-8813-a8561e5d562d",
        "colab": {
          "base_uri": "https://localhost:8080/"
        }
      },
      "source": [
        "## suppose we have 3 classes: 0,1,2\n",
        "num_classes=3\n",
        "x=[[1,2,0],[1,1,2]]\n",
        "tf.one_hot(x,num_classes)"
      ],
      "execution_count": 5,
      "outputs": [
        {
          "output_type": "execute_result",
          "data": {
            "text/plain": [
              "<tf.Tensor: shape=(2, 3, 3), dtype=float32, numpy=\n",
              "array([[[0., 1., 0.],\n",
              "        [0., 0., 1.],\n",
              "        [1., 0., 0.]],\n",
              "\n",
              "       [[0., 1., 0.],\n",
              "        [0., 1., 0.],\n",
              "        [0., 0., 1.]]], dtype=float32)>"
            ]
          },
          "metadata": {
            "tags": []
          },
          "execution_count": 5
        }
      ]
    },
    {
      "cell_type": "markdown",
      "metadata": {
        "id": "9llXeQTgmkQ6"
      },
      "source": [
        "### Function to read the dataset"
      ]
    },
    {
      "cell_type": "code",
      "metadata": {
        "id": "s3oAnz2VdCPu"
      },
      "source": [
        "def load_dataset():\n",
        "\n",
        "    (X,Y),(test_data,test_labels)=tf.keras.datasets.mnist.load_data()\n",
        "\n",
        "    X=X.astype(\"float32\")/255\n",
        "    test_data=test_data.astype(\"float32\")/255\n",
        "\n",
        "    Y=Y.astype(\"float32\")\n",
        "    test_labels=test_labels.astype(\"float32\")\n",
        "\n",
        "   \n",
        "    Y=tf.one_hot(Y,10)\n",
        "    test_labels=test_labels.reshape(len(test_labels),1)\n",
        "    ## tf.one_hot returns an eagerTensor type for Y\n",
        "    ## convert to numpy array\n",
        "    return X,Y.numpy(),test_data,test_labels\n"
      ],
      "execution_count": 6,
      "outputs": []
    },
    {
      "cell_type": "markdown",
      "metadata": {
        "id": "-WDY7ZG9ktjW"
      },
      "source": [
        "### Load and Inspect the Data"
      ]
    },
    {
      "cell_type": "code",
      "metadata": {
        "id": "TCCd-Mi1oxJb",
        "outputId": "c6c8e99b-14a3-4d8c-feec-bc1d53cfd017",
        "colab": {
          "base_uri": "https://localhost:8080/"
        }
      },
      "source": [
        "X, Y,test_data,test_labels = load_dataset()\n",
        "print(X.shape)\n",
        "print(Y.shape)\n",
        "print(test_data.shape)\n",
        "print(test_labels.shape)"
      ],
      "execution_count": 7,
      "outputs": [
        {
          "output_type": "stream",
          "text": [
            "(60000, 28, 28)\n",
            "(60000, 10)\n",
            "(10000, 28, 28)\n",
            "(10000, 1)\n"
          ],
          "name": "stdout"
        }
      ]
    },
    {
      "cell_type": "markdown",
      "metadata": {
        "id": "bdhVYpgYdCP7"
      },
      "source": [
        "### Activation Functions\n",
        "\n",
        "Typically in such a setting the activation function for the inner layers could be sigmoid, relu,... and the activation for the last layer would be softmax which is a generalization of the sigmoid for multiclass inputs. Let $C$ be the set of classes and $c_1\\in C$ a given class the probability of $c_1$ becomes (where $z_i$ is the logit corrsponding to class $i$)\n",
        "\\begin{align*}\n",
        "softmax=\\frac{e^{z_1\\cdot w}}{\\sum_i e^{z_i\\cdot w}}\n",
        "\\end{align*}"
      ]
    },
    {
      "cell_type": "code",
      "metadata": {
        "id": "yLYWfHridCP-"
      },
      "source": [
        "def sigmoid(x):\n",
        "    s = 1/(1+np.exp(-x))\n",
        "    return s\n",
        "def softmax(x):\n",
        "    return np.exp(x)/np.sum(np.exp(x),axis=-1).reshape(x.shape[0],1)\n"
      ],
      "execution_count": 8,
      "outputs": []
    },
    {
      "cell_type": "markdown",
      "metadata": {
        "id": "DR4gi1H-dCQn"
      },
      "source": [
        "The usual cross Entropy cost. Unlike the evaluate function both the \"true\" labels and the output of our model are in one-hot encoding"
      ]
    },
    {
      "cell_type": "code",
      "metadata": {
        "id": "mA_ge60UdCQq"
      },
      "source": [
        "def compute_cost(Y,b,w):\n",
        "    \n",
        "    m = Y.shape[0] # number of example\n",
        "\n",
        "    # Compute the cross-entropy cost\n",
        "    As=forward_propagation(X,b,w)\n",
        "    # recall that As contains the \"output\" of all layers\n",
        "    # including the input As[0] and the final output As[-1]\n",
        "    output=As[-1]\n",
        "    logprobs = np.log(output)*Y\n",
        "    #+np.log(1-output)*(1-Y)\n",
        "    cost = -np.sum(logprobs)/m\n",
        "\n",
        "    count=0\n",
        "    for i in range(output.shape[0]):\n",
        "        if (np.argmax(output[i,:])==np.argmax(Y[i,:])):\n",
        "            count=count+1\n",
        "\n",
        "    \n",
        "    cost = np.squeeze(cost)     # makes sure cost is the dimension we expect. \n",
        "                                # E.g., turns [[17]] into 17 \n",
        "    #assert(isinstance(cost, float))\n",
        "    \n",
        "    return cost,count\n"
      ],
      "execution_count": 9,
      "outputs": []
    },
    {
      "cell_type": "markdown",
      "metadata": {
        "id": "iQbNBETTdCQ0"
      },
      "source": [
        "The weights are initialized randomly and the biases are initially set to zero"
      ]
    },
    {
      "cell_type": "code",
      "metadata": {
        "id": "XU6wZ7Q_dCQ2"
      },
      "source": [
        "def initialize_parameters(width):    \n",
        "    weights=[]\n",
        "    biases=[]\n",
        "    for i in range(len(width)-1):\n",
        "        w=np.random.randn(width[i],width[i+1])\n",
        "        b=np.zeros((width[i+1],))\n",
        "        weights.append(w)\n",
        "        biases.append(b)\n",
        "\n",
        "    return biases,weights\n"
      ],
      "execution_count": 10,
      "outputs": []
    },
    {
      "cell_type": "markdown",
      "metadata": {
        "id": "ZOMuTirBdCQ_"
      },
      "source": [
        "Forward propagation over all the layers but also retain the intermediate results.\n",
        "For example below As[0] is the input, As[1] is the output of the first layer,..., and As[-1] (the last) is the output"
      ]
    },
    {
      "cell_type": "code",
      "metadata": {
        "id": "XZy75zCkdCRB"
      },
      "source": [
        "def forward_propagation(X,biases,weights):\n",
        "    a=X\n",
        "    As=[X]\n",
        "    para=zip(weights,biases)\n",
        "    for i,(w,b) in enumerate(para):\n",
        "       z=np.dot(a,w)+b\n",
        "       if i==len(biases)-1:\n",
        "         #a=np.array(tf.nn.softmax(np.asnumpy(z)).numpy())\n",
        "         a=softmax(z)\n",
        "       else:\n",
        "         a=sigmoid(z)\n",
        "       As.append(a)\n",
        "\n",
        "    return As"
      ],
      "execution_count": 11,
      "outputs": []
    },
    {
      "cell_type": "markdown",
      "metadata": {
        "id": "K6cM8jih2MHF"
      },
      "source": [
        "## Backpropagation\n",
        "\n",
        "Note how the gradient of a given layer depends on the gradient of the __next__ layer. This means that when computing the gradients we start from the __last__ layer and move __backwards__.\n",
        "\\begin{align*}\n",
        "\\Delta^l_{mn}&=\\sum_k \\Delta^{l+1}_{mk}W^l_{nk}\\theta^l_{mn}\\\\\n",
        "dW_{ij}&=\\frac{1}{m}\\sum_m\\Delta^{l+1}_{mj}A^l_{mi}\\\\\n",
        "dB_{j}&=\\frac{1}{m}\\sum_m\\Delta^{l+1}_{mj}\n",
        "\\end{align*}\n",
        "\n",
        "Or in matrix notation\n",
        "\\begin{align*}\n",
        "\\Delta^l&=\\Delta^{l+1}\\cdot (W^l)^T\\theta^l\\\\\n",
        "dW^l&=\\frac{1}{m}(A^l)^T\\cdot \\Delta^{l+1}\n",
        "\\end{align*}"
      ]
    },
    {
      "cell_type": "code",
      "metadata": {
        "id": "HYzG_NTYdCRL"
      },
      "source": [
        "def backward_propagation(X,Y,biases,weights):\n",
        "    \n",
        "    As=forward_propagation(X,biases,weights)\n",
        "    m = X.shape[0]\n",
        "    \n",
        "    nlayers=len(biases)\n",
        "    # Error of the last layer\n",
        "    dz=As[nlayers]-Y\n",
        "\n",
        "    gradb=[]\n",
        "    gradw=[]\n",
        "    for i in range(nlayers,0,-1):\n",
        "        db=np.sum(dz,axis=0,keepdims=True)/m\n",
        "        dw=np.dot(As[i-1].T,dz)/m\n",
        "        dz=np.dot(dz,weights[i-1].T)*As[i-1]*(1-As[i-1])\n",
        "        gradb.insert(0,db)\n",
        "        gradw.insert(0,dw)\n",
        "    \n",
        "    return gradb,gradw"
      ],
      "execution_count": 12,
      "outputs": []
    },
    {
      "cell_type": "code",
      "metadata": {
        "id": "X-9o_pyWdCRY"
      },
      "source": [
        "def update_parameters(biases,weights, gradb,gradw, learning_rate):\n",
        "\n",
        "\n",
        "    for i in range(len(biases)):\n",
        "        weights[i]=weights[i]-learning_rate*gradw[i]\n",
        "        biases[i]=biases[i]-learning_rate*gradb[i]\n",
        "\n",
        "    return biases,weights"
      ],
      "execution_count": 13,
      "outputs": []
    },
    {
      "cell_type": "markdown",
      "metadata": {
        "id": "sQ86sIZGngbZ"
      },
      "source": [
        "### Stochastic Gradient Descent\n",
        "\n",
        "We deal with the input data in __random batches__. We select a set of random indices and take a slice from X and Y"
      ]
    },
    {
      "cell_type": "code",
      "metadata": {
        "id": "45Uo0DJvdCRr"
      },
      "source": [
        "def GD(X, Y, test_data,width,batch_size,num_iterations, learning_rate,print_cost=False):\n",
        "\n",
        "    biases,weights=initialize_parameters(width)\n",
        "    \n",
        "    for i in range(0, num_iterations):\n",
        "        cost,count = compute_cost(Y,biases,weights)\n",
        "        for k in range(0,X.shape[0],batch_size):\n",
        "            idx=[random.randint(0,Y.shape[0]-1) for s in range(batch_size)]\n",
        "            yb=Y[idx,:]\n",
        "            xb=X[idx,:]\n",
        "            gradb,gradw=backward_propagation(xb,yb,biases,weights)\n",
        "            biases,weights=update_parameters(biases,weights,gradb,gradw,learning_rate)    \n",
        "\n",
        "        if i%1 ==0 : \n",
        "            #count_test=evaluate(test_data,test_labels,biases,weights)\n",
        "            count=count/Y.shape[0]\n",
        "            if using_cupy:\n",
        "                print (\"Epoch {}: cost={:.2f},train accuracy={:.2f}\".\n",
        "                       format(i,np.asnumpy(cost),np.asnumpy(count)))\n",
        "            else:\n",
        "                print (\"Epoch {}: cost={:.2f},train accuracy={:.2f}\".format(i,cost,count))\n",
        "                \n",
        "    return biases,weights"
      ],
      "execution_count": 14,
      "outputs": []
    },
    {
      "cell_type": "markdown",
      "metadata": {
        "id": "zfalzdA4n2e7"
      },
      "source": [
        "#### Run SGD"
      ]
    },
    {
      "cell_type": "code",
      "metadata": {
        "tags": [],
        "id": "TnZzq_kRdCRw",
        "outputId": "4b25db6c-83f9-4b5d-9e2d-96b683979ac3",
        "colab": {
          "base_uri": "https://localhost:8080/"
        }
      },
      "source": [
        "X, Y,test_data,test_labels = load_dataset()\n",
        "X=X.reshape(60000,784)\n",
        "test_data=test_data.reshape(10000,784)\n",
        "## load_dataset returns objects as type numpy array\n",
        "## we need to convert them to be used by cupy\n",
        "if using_cupy:\n",
        "   X=np.array(X)\n",
        "   test_data=np.array(test_data)\n",
        "   Y=np.array(Y)\n",
        "\n",
        "n_x=X.shape[1]\n",
        "n_y=Y.shape[1]\n",
        "width=[n_x,128,64,n_y]\n",
        "\n",
        "biases,weights= GD(X, Y,test_data,width,batch_size=512,learning_rate=3,\n",
        "                num_iterations =10, print_cost=True)"
      ],
      "execution_count": 15,
      "outputs": [
        {
          "output_type": "stream",
          "text": [
            "Epoch 0: cost=8.33,train accuracy=0.09\n",
            "Epoch 1: cost=0.51,train accuracy=0.84\n",
            "Epoch 2: cost=0.37,train accuracy=0.89\n",
            "Epoch 3: cost=0.31,train accuracy=0.91\n",
            "Epoch 4: cost=0.27,train accuracy=0.92\n",
            "Epoch 5: cost=0.24,train accuracy=0.93\n",
            "Epoch 6: cost=0.22,train accuracy=0.94\n",
            "Epoch 7: cost=0.20,train accuracy=0.94\n",
            "Epoch 8: cost=0.18,train accuracy=0.95\n",
            "Epoch 9: cost=0.17,train accuracy=0.95\n"
          ],
          "name": "stdout"
        }
      ]
    },
    {
      "cell_type": "markdown",
      "metadata": {
        "id": "gxOUWgcCn7DB"
      },
      "source": [
        "### Evaluation"
      ]
    },
    {
      "cell_type": "markdown",
      "metadata": {
        "id": "fNS_L9N5dCQY"
      },
      "source": [
        "Returns the number of correct predictions. Note that the output of our model is in one-hot encoding so it has 10 columns and N rows where N is the number of data points whereas test_labels is NOT in one-hot encoding so it has a single column and N rows. For a given row i, argmax returns the column index which has the largest value, i.e. the largest likelyhood\n"
      ]
    },
    {
      "cell_type": "code",
      "metadata": {
        "id": "WhUZc1rDdCQa"
      },
      "source": [
        "def evaluate(test_data,test_labels,biases,weights):\n",
        "    As=forward_propagation(test_data,biases,weights)\n",
        "    output=As[-1]\n",
        "    count=0\n",
        "    #the output is in one-hot encoding so it has 10 rows\n",
        "    # and number of data columns where as test_tables \n",
        "    # is NOT in one-hot encoding so it has a single row\n",
        "    for i in range(output.shape[0]):\n",
        "        if np.argmax(output[i,:])==test_labels[i,0]:\n",
        "            count=count+1\n",
        "    return count/test_labels.shape[0]"
      ],
      "execution_count": 16,
      "outputs": []
    },
    {
      "cell_type": "code",
      "metadata": {
        "id": "3zGkU74R37wg",
        "outputId": "bf3ae69f-6d47-4538-df79-26e9416612b6",
        "colab": {
          "base_uri": "https://localhost:8080/"
        }
      },
      "source": [
        "evaluate(test_data,test_labels,biases,weights)"
      ],
      "execution_count": 17,
      "outputs": [
        {
          "output_type": "execute_result",
          "data": {
            "text/plain": [
              "0.9325"
            ]
          },
          "metadata": {
            "tags": []
          },
          "execution_count": 17
        }
      ]
    },
    {
      "cell_type": "markdown",
      "metadata": {
        "id": "AF934OeUn9xQ"
      },
      "source": [
        "### Missclassified inputs"
      ]
    },
    {
      "cell_type": "markdown",
      "metadata": {
        "id": "XQPz1c9bdCQJ"
      },
      "source": [
        "This function plots some of the misclassified data in order for us to have an idea what when wrong."
      ]
    },
    {
      "cell_type": "code",
      "metadata": {
        "id": "pJ1MkdQ8dCQL"
      },
      "source": [
        "def print_misclassified(test_data,test_labels,biases,weights):\n",
        "    As=forward_propagation(test_data,biases,weights)\n",
        "    output=As[-1]\n",
        "    count=0\n",
        "    fig=plt.figure()\n",
        "    fig.tight_layout()\n",
        "    plt.subplots_adjust( wspace=1, hspace=1)\n",
        "\n",
        "    for i in range(output.shape[0]):\n",
        "        label=np.argmax(output[i,:])\n",
        "        if label != test_labels[i,0]:\n",
        "            if count>40:\n",
        "                break\n",
        "            subfig=count%40+1\n",
        "            count=count+1\n",
        "            img=np.asnumpy(test_data[i,:]).reshape(28,28)\n",
        "            t=fig.add_subplot(4,10,subfig)\n",
        "            #t.set_title(str(i))\n",
        "            t.set_title(str(label))\n",
        "            t.axes.get_xaxis().set_visible(False)\n",
        "            t.axes.get_yaxis().set_visible(False)\n",
        "            plt.imshow(img,cmap='gray_r')\n",
        "\n"
      ],
      "execution_count": 18,
      "outputs": []
    },
    {
      "cell_type": "markdown",
      "metadata": {
        "id": "a47ChPTOdCR1"
      },
      "source": [
        "Prints some of the misclassified digits. The top on each digit shows the (wrong) prediction."
      ]
    },
    {
      "cell_type": "code",
      "metadata": {
        "id": "qM9byvUDdCR2",
        "outputId": "d063e71b-25a3-4e60-c0f3-1eeff8bca2c1",
        "colab": {
          "base_uri": "https://localhost:8080/",
          "height": 291
        }
      },
      "source": [
        "print_misclassified(test_data,test_labels,biases,weights)\n"
      ],
      "execution_count": 19,
      "outputs": [
        {
          "output_type": "stream",
          "text": [
            "/usr/local/lib/python3.6/dist-packages/ipykernel_launcher.py:17: MatplotlibDeprecationWarning: Adding an axes using the same arguments as a previous axes currently reuses the earlier instance.  In a future version, a new instance will always be created and returned.  Meanwhile, this warning can be suppressed, and the future behavior ensured, by passing a unique label to each axes instance.\n"
          ],
          "name": "stderr"
        },
        {
          "output_type": "display_data",
          "data": {
            "image/png": "[encoded data removed]",
            "text/plain": [
              "<Figure size 432x288 with 40 Axes>"
            ]
          },
          "metadata": {
            "tags": [],
            "needs_background": "light"
          }
        }
      ]
    }
  ]
}