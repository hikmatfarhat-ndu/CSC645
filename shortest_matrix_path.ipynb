{
  "nbformat": 4,
  "nbformat_minor": 0,
  "metadata": {
    "language_info": {
      "name": "python",
      "codemirror_mode": {
        "name": "ipython",
        "version": 3
      },
      "version": "3.6.8"
    },
    "orig_nbformat": 2,
    "file_extension": ".py",
    "mimetype": "text/x-python",
    "name": "python",
    "npconvert_exporter": "python",
    "pygments_lexer": "ipython3",
    "version": 3,
    "colab": {
      "name": "shortest-matrix-path.ipynb",
      "provenance": [],
      "include_colab_link": true
    }
  },
  "cells": [
    {
      "cell_type": "markdown",
      "metadata": {
        "id": "view-in-github",
        "colab_type": "text"
      },
      "source": [
        "<a href=\"https://colab.research.google.com/github/hikmatfarhat-ndu/CSC645/blob/master/shortest_matrix_path.ipynb\" target=\"_parent\"><img src=\"https://colab.research.google.com/assets/colab-badge.svg\" alt=\"Open In Colab\"/></a>"
      ]
    },
    {
      "cell_type": "markdown",
      "metadata": {
        "id": "TMEK5hPodc3_",
        "colab_type": "text"
      },
      "source": [
        " given a nxm matrix with numberical entries\n",
        " for each cell. Find the shortest path from cell (0,0)\n",
        "to cell (n-1,m-1). You are allowed to move right or down only (no left or up)\n",
        "the final cost of reaching a given cell is the sum of all costs of the cells\n",
        "on its path, including itself. \n"
      ]
    },
    {
      "cell_type": "code",
      "metadata": {
        "id": "B_HlglLtdc4D",
        "colab_type": "code",
        "colab": {}
      },
      "source": [
        "import numpy as np \n",
        "n=4\n",
        "m=4\n",
        "cost=np.array([[3,6,1,4],[2,9,1,4],[5,3,9,2],[4,4,6,2]])\n",
        "\n",
        "T=np.zeros((n,m))\n",
        "T[0][0]=cost[0][0]\n"
      ],
      "execution_count": null,
      "outputs": []
    },
    {
      "cell_type": "code",
      "metadata": {
        "id": "HDtelO2Rdc4W",
        "colab_type": "code",
        "colab": {}
      },
      "source": [
        "for j in range(1,m):\n",
        "    T[0][j]=T[0][j-1]+cost[0][j]\n",
        "for i in range(1,n):\n",
        "    T[i][0]=T[i-1][0]+cost[i][0]\n",
        "\n",
        "for i in range(1,n):\n",
        "    for j in range(1,m):\n",
        "        T[i][j]+=cost[i][j]+min(T[i][j-1],T[i-1][j])"
      ],
      "execution_count": null,
      "outputs": []
    },
    {
      "cell_type": "code",
      "metadata": {
        "id": "TtnJ4Ymhdc4i",
        "colab_type": "code",
        "colab": {},
        "outputId": "634bdeed-31a6-4920-ccd1-0761bd3663a5"
      },
      "source": [
        "print(T)"
      ],
      "execution_count": null,
      "outputs": [
        {
          "output_type": "stream",
          "text": [
            "[[ 3.  9. 10. 14.]\n",
            " [ 5. 14. 11. 15.]\n",
            " [10. 13. 20. 17.]\n",
            " [14. 17. 23. 19.]]\n"
          ],
          "name": "stdout"
        }
      ]
    },
    {
      "cell_type": "markdown",
      "metadata": {
        "id": "hCCXuEksdc43",
        "colab_type": "text"
      },
      "source": [
        ""
      ]
    }
  ]
}