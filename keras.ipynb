{
  "nbformat": 4,
  "nbformat_minor": 0,
  "metadata": {
    "colab": {
      "name": "Untitled0.ipynb",
      "provenance": [],
      "collapsed_sections": [],
      "authorship_tag": "ABX9TyMdfzYfog6NhMes6RAX6zDf",
      "include_colab_link": true
    },
    "kernelspec": {
      "name": "python3",
      "display_name": "Python 3"
    }
  },
  "cells": [
    {
      "cell_type": "markdown",
      "metadata": {
        "id": "view-in-github",
        "colab_type": "text"
      },
      "source": [
        "<a href=\"https://colab.research.google.com/github/hikmatfarhat-ndu/CSC645/blob/master/keras.ipynb\" target=\"_parent\"><img src=\"https://colab.research.google.com/assets/colab-badge.svg\" alt=\"Open In Colab\"/></a>"
      ]
    },
    {
      "cell_type": "code",
      "metadata": {
        "id": "Wxn309X9dUHT",
        "colab_type": "code",
        "colab": {}
      },
      "source": [
        "import numpy as np\n",
        "import matplotlib.pyplot as plt\n",
        "import random\n",
        "import gzip\n",
        "import pickle\n",
        "import tensorflow as tf\n",
        "from tensorflow import keras\n",
        "from tensorflow.keras import layers"
      ],
      "execution_count": null,
      "outputs": []
    },
    {
      "cell_type": "code",
      "metadata": {
        "id": "HlppWpptdZwA",
        "colab_type": "code",
        "colab": {}
      },
      "source": [
        "from google.colab import drive\n",
        "drive.mount('/content/drive')"
      ],
      "execution_count": null,
      "outputs": []
    },
    {
      "cell_type": "code",
      "metadata": {
        "id": "-R5raOpLdkRs",
        "colab_type": "code",
        "colab": {}
      },
      "source": [
        "def load_dataset():\n",
        "    with gzip.open(\"/content/drive/My Drive/mnist.pkl.gz\") as f:\n",
        "        data=pickle._Unpickler(f)\n",
        "        data.encoding='latin1'\n",
        "        tr,_,te=data.load()\n",
        "    X=tr[0]\n",
        "    Y=tr[1]\n",
        "    X=X.T\n",
        "    Y=Y.reshape(1,len(Y))\n",
        "    V=np.zeros((10,Y.shape[1]))\n",
        "    for j in range(Y.shape[1]):\n",
        "        V[Y[0,j],j]=1\n",
        "        \n",
        "    Y=V\n",
        "    test_data=te[0]\n",
        "    test_labels=te[1]\n",
        "    test_data=test_data.T\n",
        "    test_labels=test_labels.reshape(1,len(test_labels))\n",
        "    return X,Y,test_data,test_labels\n"
      ],
      "execution_count": null,
      "outputs": []
    },
    {
      "cell_type": "code",
      "metadata": {
        "id": "I2TO1rtdfxFj",
        "colab_type": "code",
        "colab": {}
      },
      "source": [
        "inputs = keras.Input(shape=(784,), name=\"digits\")\n",
        "x = layers.Dense(128, activation=\"sigmoid\", name=\"dense_1\")(inputs)\n",
        "x = layers.Dense(64, activation=\"sigmoid\", name=\"dense_2\")(x)\n",
        "outputs = layers.Dense(10, activation=\"sigmoid\", name=\"predictions\")(x)\n",
        "\n",
        "model = keras.Model(inputs=inputs, outputs=outputs)"
      ],
      "execution_count": null,
      "outputs": []
    },
    {
      "cell_type": "code",
      "metadata": {
        "id": "lZ-fcE1gf6Di",
        "colab_type": "code",
        "colab": {}
      },
      "source": [
        "X,Y,test_data,test_labels = load_dataset()\n",
        "#(X, Y), (test_data, test_labels) = keras.datasets.mnist.load_data()\n",
        "print(X.shape)\n",
        "print(Y.shape)\n",
        "print(a.shape)\n",
        "print(b.shape)\n",
        "X=X.T\n",
        "Y=Y.T\n",
        "test_data=test_data.T\n",
        "test_labels=test_labels.T\n",
        "\n",
        "Y=Y.astype(\"float32\")\n",
        "test_labels=test_labels.astype(\"float32\")\n",
        "\n",
        "X= X.reshape(50000, 784).astype(\"float32\") / 255\n",
        "test_data = test_data.reshape(10000, 784).astype(\"float32\") / 255\n"
      ],
      "execution_count": null,
      "outputs": []
    },
    {
      "cell_type": "code",
      "metadata": {
        "id": "oO72TEvcgNmK",
        "colab_type": "code",
        "colab": {}
      },
      "source": [
        "model.compile(\n",
        "    optimizer=keras.optimizers.RMSprop(),  # Optimizer\n",
        "    # Loss function to minimize\n",
        "    #loss=keras.losses.SparseCategoricalCrossentropy(),\n",
        "    loss=keras.losses.CategoricalCrossentropy(),\n",
        "    # List of metrics to monitor\n",
        "    #metrics=[keras.metrics.SparseCategoricalAccuracy()],\n",
        "\n",
        "    metrics=[keras.metrics.CategoricalAccuracy()],\n",
        ")\n"
      ],
      "execution_count": null,
      "outputs": []
    },
    {
      "cell_type": "code",
      "metadata": {
        "id": "O3fi-5KogPCp",
        "colab_type": "code",
        "colab": {}
      },
      "source": [
        "print(\"Fit model on training data\")\n",
        "history = model.fit(\n",
        "    X,\n",
        "    Y,\n",
        "    batch_size=64,\n",
        "    epochs=10,\n",
        "   \n",
        ")"
      ],
      "execution_count": null,
      "outputs": []
    }
  ]
}