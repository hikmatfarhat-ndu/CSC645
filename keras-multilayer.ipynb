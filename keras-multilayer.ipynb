{
  "nbformat": 4,
  "nbformat_minor": 0,
  "metadata": {
    "colab": {
      "name": "keras-multilayer.ipynb",
      "provenance": [],
      "collapsed_sections": [],
      "include_colab_link": true
    },
    "kernelspec": {
      "name": "python3",
      "display_name": "Python 3"
    }
  },
  "cells": [
    {
      "cell_type": "markdown",
      "metadata": {
        "id": "view-in-github",
        "colab_type": "text"
      },
      "source": [
        "<a href=\"https://colab.research.google.com/github/hikmatfarhat-ndu/CSC645/blob/master/keras-multilayer.ipynb\" target=\"_parent\"><img src=\"https://colab.research.google.com/assets/colab-badge.svg\" alt=\"Open In Colab\"/></a>"
      ]
    },
    {
      "cell_type": "code",
      "metadata": {
        "id": "Wxn309X9dUHT",
        "colab_type": "code",
        "colab": {}
      },
      "source": [
        "import numpy as np\n",
        "import matplotlib.pyplot as plt\n",
        "import random\n",
        "import tensorflow as tf\n",
        "from tensorflow import keras\n",
        "from tensorflow.keras import layers"
      ],
      "execution_count": 13,
      "outputs": []
    },
    {
      "cell_type": "code",
      "metadata": {
        "id": "HlppWpptdZwA",
        "colab_type": "code",
        "colab": {}
      },
      "source": [
        "#from google.colab import drive\n",
        "#drive.mount('/content/drive')"
      ],
      "execution_count": 14,
      "outputs": []
    },
    {
      "cell_type": "code",
      "metadata": {
        "id": "-R5raOpLdkRs",
        "colab_type": "code",
        "colab": {}
      },
      "source": [
        "def load_dataset():\n",
        "  # tensorflow assumes the input and output are row vectors\n",
        "  # where as in our implementation we use them as column vectors\n",
        "    tr,te=keras.datasets.mnist.load_data()\n",
        "    X=tr[0].astype(\"float32\")/255\n",
        "    Y=tr[1]\n",
        "    #X=X.T\n",
        "    Y=Y.reshape(1,len(Y))\n",
        "    V=np.zeros((10,Y.shape[1]))\n",
        "    for j in range(Y.shape[1]):\n",
        "        V[Y[0,j],j]=1\n",
        "        \n",
        "    Y=V.astype(\"float32\")\n",
        "    test_data=te[0].astype(\"float32\")/255\n",
        "    test_labels=te[1].astype(\"float32\")\n",
        "    test_labels=test_labels.reshape(1,len(test_labels))\n",
        "    return X,Y.T,test_data,test_labels.T\n"
      ],
      "execution_count": 15,
      "outputs": []
    },
    {
      "cell_type": "code",
      "metadata": {
        "id": "I2TO1rtdfxFj",
        "colab_type": "code",
        "colab": {}
      },
      "source": [
        "inputs = keras.Input(shape=(784,), name=\"digits\")\n",
        "x = layers.Dense(128, activation=\"sigmoid\", name=\"dense_1\")(inputs)\n",
        "x = layers.Dense(64, activation=\"sigmoid\", name=\"dense_2\")(x)\n",
        "outputs = layers.Dense(10, activation=\"sigmoid\", name=\"predictions\")(x)\n",
        "\n",
        "model = keras.Model(inputs=inputs, outputs=outputs)"
      ],
      "execution_count": 16,
      "outputs": []
    },
    {
      "cell_type": "code",
      "metadata": {
        "id": "lZ-fcE1gf6Di",
        "colab_type": "code",
        "colab": {}
      },
      "source": [
        "X,Y,test_data,test_labels = load_dataset()\n",
        "\n",
        "X=X.reshape(60000,784)\n",
        "test_data=test_data.reshape(10000,784)\n"
      ],
      "execution_count": 17,
      "outputs": []
    },
    {
      "cell_type": "code",
      "metadata": {
        "id": "oO72TEvcgNmK",
        "colab_type": "code",
        "colab": {}
      },
      "source": [
        "model.compile(\n",
        "    optimizer=keras.optimizers.RMSprop(),  # Optimizer\n",
        "    # Loss function to minimize\n",
        "    #loss=keras.losses.SparseCategoricalCrossentropy(),\n",
        "    loss=keras.losses.CategoricalCrossentropy(),\n",
        "    # List of metrics to monitor\n",
        "    #metrics=[keras.metrics.SparseCategoricalAccuracy()],\n",
        "\n",
        "    metrics=[keras.metrics.CategoricalAccuracy()],\n",
        ")\n"
      ],
      "execution_count": 18,
      "outputs": []
    },
    {
      "cell_type": "code",
      "metadata": {
        "id": "O3fi-5KogPCp",
        "colab_type": "code",
        "colab": {
          "base_uri": "https://localhost:8080/",
          "height": 381
        },
        "outputId": "c4d88aa4-2184-496a-bdfa-ff2fc1e3f978"
      },
      "source": [
        "print(\"Fit model on training data\")\n",
        "history = model.fit(\n",
        "    X,\n",
        "    Y,\n",
        "    batch_size=64,\n",
        "    epochs=10,\n",
        "   \n",
        ")"
      ],
      "execution_count": 19,
      "outputs": [
        {
          "output_type": "stream",
          "text": [
            "Fit model on training data\n",
            "Epoch 1/10\n",
            "938/938 [==============================] - 3s 3ms/step - loss: 0.6146 - categorical_accuracy: 0.8639\n",
            "Epoch 2/10\n",
            "938/938 [==============================] - 3s 3ms/step - loss: 0.2133 - categorical_accuracy: 0.9370\n",
            "Epoch 3/10\n",
            "938/938 [==============================] - 3s 3ms/step - loss: 0.1600 - categorical_accuracy: 0.9523\n",
            "Epoch 4/10\n",
            "938/938 [==============================] - 3s 3ms/step - loss: 0.1277 - categorical_accuracy: 0.9615\n",
            "Epoch 5/10\n",
            "938/938 [==============================] - 3s 3ms/step - loss: 0.1057 - categorical_accuracy: 0.9685\n",
            "Epoch 6/10\n",
            "938/938 [==============================] - 3s 3ms/step - loss: 0.0896 - categorical_accuracy: 0.9733\n",
            "Epoch 7/10\n",
            "938/938 [==============================] - 3s 3ms/step - loss: 0.0774 - categorical_accuracy: 0.9764\n",
            "Epoch 8/10\n",
            "938/938 [==============================] - 3s 3ms/step - loss: 0.0670 - categorical_accuracy: 0.9800\n",
            "Epoch 9/10\n",
            "938/938 [==============================] - 3s 3ms/step - loss: 0.0592 - categorical_accuracy: 0.9820\n",
            "Epoch 10/10\n",
            "938/938 [==============================] - 3s 3ms/step - loss: 0.0526 - categorical_accuracy: 0.9843\n"
          ],
          "name": "stdout"
        }
      ]
    }
  ]
}