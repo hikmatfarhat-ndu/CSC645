{
  "nbformat": 4,
  "nbformat_minor": 0,
  "metadata": {
    "orig_nbformat": 2,
    "kernelspec": {
      "name": "python3",
      "display_name": "Python 3"
    },
    "colab": {
      "name": "mnist-multilayer.ipynb",
      "provenance": []
    },
    "accelerator": "GPU"
  },
  "cells": [
    {
      "cell_type": "markdown",
      "metadata": {
        "id": "cbDWs8GDdCPB",
        "colab_type": "text"
      },
      "source": [
        "<a href=\"https://colab.research.google.com/github/hikmatfarhat-ndu/CSC645/blob/master/mnist-multilayer.ipynb\" target=\"_parent\"><img src=\"https://colab.research.google.com/assets/colab-badge.svg\" alt=\"Open In Colab\"/></a>"
      ]
    },
    {
      "cell_type": "markdown",
      "metadata": {
        "id": "_pRwpeuRdCPG",
        "colab_type": "text"
      },
      "source": [
        "# A deep feedforward network with arbitrary depth\n",
        "\n",
        "In this exercise we build a deep feedforward neural network to recognize handwrittne digits (the MNIST data). The code has many tweekable parameters, in particular the number and width of layers. But as you will see adding more layers slows down the convergence considerably.\n"
      ]
    },
    {
      "cell_type": "markdown",
      "metadata": {
        "id": "5AsZFi1WdCPI",
        "colab_type": "text"
      },
      "source": [
        "The usual imports plus gzip and pickle to read the data"
      ]
    },
    {
      "cell_type": "code",
      "metadata": {
        "id": "8IE6Iu3NdCPL",
        "colab_type": "code",
        "colab": {}
      },
      "source": [
        "import numpy as np\n",
        "import matplotlib.pyplot as plt\n",
        "import random\n",
        "#import tensorflow as tf\n",
        "from tensorflow import keras\n",
        "#from tensorflow.keras import layers"
      ],
      "execution_count": 1,
      "outputs": []
    },
    {
      "cell_type": "markdown",
      "metadata": {
        "id": "pjGvLGMYdCPf",
        "colab_type": "text"
      },
      "source": [
        "Important to be able to diplay matplotlib plots inline in the notebook"
      ]
    },
    {
      "cell_type": "code",
      "metadata": {
        "id": "7xZzopv8dCPh",
        "colab_type": "code",
        "colab": {}
      },
      "source": [
        "%matplotlib inline"
      ],
      "execution_count": 2,
      "outputs": []
    },
    {
      "cell_type": "code",
      "metadata": {
        "id": "l_ysbGnUdJOE",
        "colab_type": "code",
        "colab": {}
      },
      "source": [
        "#from google.colab import drive\n",
        "#drive.mount('/content/drive')"
      ],
      "execution_count": 3,
      "outputs": []
    },
    {
      "cell_type": "markdown",
      "metadata": {
        "id": "hqvMrrX8dCPs",
        "colab_type": "text"
      },
      "source": [
        "The data are in compressed pickle format. "
      ]
    },
    {
      "cell_type": "code",
      "metadata": {
        "id": "GA2yg4C_dKvd",
        "colab_type": "code",
        "colab": {}
      },
      "source": [
        ""
      ],
      "execution_count": 3,
      "outputs": []
    },
    {
      "cell_type": "code",
      "metadata": {
        "id": "s3oAnz2VdCPu",
        "colab_type": "code",
        "colab": {}
      },
      "source": [
        "def load_dataset():\n",
        "  # tensorflow assumes the input and output are row vectors\n",
        "  # where as in our implementation we use them as column vectors\n",
        "    tr,te=keras.datasets.mnist.load_data()\n",
        "    X=tr[0].astype(\"float32\")/255\n",
        "    Y=tr[1]\n",
        "    Y=Y.reshape(1,len(Y))\n",
        "    V=np.zeros((10,Y.shape[1]))\n",
        "    for j in range(Y.shape[1]):\n",
        "        V[Y[0,j],j]=1\n",
        "        \n",
        "    Y=V.astype(\"float32\")\n",
        "    test_data=te[0].astype(\"float32\")/255\n",
        "    test_labels=te[1].astype(\"float32\")\n",
        "    test_labels=test_labels.reshape(1,len(test_labels))\n",
        "    return X,Y.T,test_data,test_labels.T\n"
      ],
      "execution_count": 4,
      "outputs": []
    },
    {
      "cell_type": "markdown",
      "metadata": {
        "id": "bdhVYpgYdCP7",
        "colab_type": "text"
      },
      "source": [
        "The activation function is sigmoid"
      ]
    },
    {
      "cell_type": "code",
      "metadata": {
        "id": "yLYWfHridCP-",
        "colab_type": "code",
        "colab": {}
      },
      "source": [
        "def sigmoid(x):\n",
        "    s = 1/(1+np.exp(-x))\n",
        "    return s"
      ],
      "execution_count": 5,
      "outputs": []
    },
    {
      "cell_type": "markdown",
      "metadata": {
        "id": "XQPz1c9bdCQJ",
        "colab_type": "text"
      },
      "source": [
        "This function plots some of the misclassified data in order for us to have an idea what when wrong."
      ]
    },
    {
      "cell_type": "code",
      "metadata": {
        "id": "pJ1MkdQ8dCQL",
        "colab_type": "code",
        "colab": {}
      },
      "source": [
        "def print_misclassified(test_data,test_labels,biases,weights):\n",
        "    As=forward_propagation(test_data,biases,weights)\n",
        "    output=As[-1]\n",
        "    count=0\n",
        "    fig=plt.figure()\n",
        "    fig.tight_layout()\n",
        "    plt.subplots_adjust( wspace=1, hspace=1)\n",
        "\n",
        "    for i in range(output.shape[1]):\n",
        "        label=np.argmax(output[:,i])\n",
        "        if label != test_labels[0,i]:\n",
        "            if count>40:\n",
        "                break\n",
        "            subfig=count%40+1\n",
        "            count=count+1\n",
        "            img=test_data[:,i].reshape(28,28)\n",
        "            t=fig.add_subplot(4,10,subfig)\n",
        "            #t.set_title(str(i))\n",
        "            t.set_title(str(label))\n",
        "            t.axes.get_xaxis().set_visible(False)\n",
        "            t.axes.get_yaxis().set_visible(False)\n",
        "            plt.imshow(img,cmap='gray_r')\n",
        "\n"
      ],
      "execution_count": 6,
      "outputs": []
    },
    {
      "cell_type": "markdown",
      "metadata": {
        "id": "fNS_L9N5dCQY",
        "colab_type": "text"
      },
      "source": [
        "Returns the number of correct predictions"
      ]
    },
    {
      "cell_type": "code",
      "metadata": {
        "id": "WhUZc1rDdCQa",
        "colab_type": "code",
        "colab": {}
      },
      "source": [
        "def evaluate(test_data,biases,weights):\n",
        "    As=forward_propagation(test_data,biases,weights)\n",
        "    output=As[-1]\n",
        "    count=0\n",
        "    for i in range(output.shape[1]):\n",
        "        if np.argmax(output[:,i])==test_labels[0,i]:\n",
        "            count=count+1\n",
        "    return count"
      ],
      "execution_count": 7,
      "outputs": []
    },
    {
      "cell_type": "markdown",
      "metadata": {
        "id": "DR4gi1H-dCQn",
        "colab_type": "text"
      },
      "source": [
        "The usual cross Entropy cost"
      ]
    },
    {
      "cell_type": "code",
      "metadata": {
        "id": "mA_ge60UdCQq",
        "colab_type": "code",
        "colab": {}
      },
      "source": [
        "def compute_cost(Y,b,w):\n",
        "    \n",
        "    m = Y.shape[1] # number of example\n",
        "\n",
        "    # Compute the cross-entropy cost\n",
        "    As=forward_propagation(X,b,w)\n",
        "    # recall that As contains the \"output\" of all layers\n",
        "    # including the input As[0] and the final output As[-1]\n",
        "    output=As[-1]\n",
        "    logprobs = np.log(output)*Y+np.log(1-output)*(1-Y)\n",
        "    cost = -np.sum(logprobs)/m\n",
        "\n",
        "    count=0\n",
        "    for i in range(output.shape[1]):\n",
        "        if (np.argmax(output[:,i])==np.argmax(Y[:,i])):\n",
        "            count=count+1\n",
        "\n",
        "    \n",
        "    cost = np.squeeze(cost)     # makes sure cost is the dimension we expect. \n",
        "                                # E.g., turns [[17]] into 17 \n",
        "    assert(isinstance(cost, float))\n",
        "    \n",
        "    return cost,count\n"
      ],
      "execution_count": 8,
      "outputs": []
    },
    {
      "cell_type": "markdown",
      "metadata": {
        "id": "iQbNBETTdCQ0",
        "colab_type": "text"
      },
      "source": [
        "The weights are initialized randomly and the biases are initially set to zero"
      ]
    },
    {
      "cell_type": "code",
      "metadata": {
        "id": "XU6wZ7Q_dCQ2",
        "colab_type": "code",
        "colab": {}
      },
      "source": [
        "def initialize_parameters(width):    \n",
        "    weights=[]\n",
        "    biases=[]\n",
        "    for i in range(len(width)-1):\n",
        "        print(\"size {},{}\".format(width[i+1],width[i]))\n",
        "        w=np.random.randn(width[i+1],width[i])\n",
        "        b=np.zeros((width[i+1],1))\n",
        "        weights.append(w)\n",
        "        biases.append(b)\n",
        "\n",
        "    return biases,weights\n"
      ],
      "execution_count": 9,
      "outputs": []
    },
    {
      "cell_type": "markdown",
      "metadata": {
        "id": "ZOMuTirBdCQ_",
        "colab_type": "text"
      },
      "source": [
        "Forward propagation over all the layers but also retain the intermediate results.\n",
        "For example below As[0] is the input, As[1] is the output of the first layer,..., and As[-1] (the last) is the output"
      ]
    },
    {
      "cell_type": "code",
      "metadata": {
        "id": "XZy75zCkdCRB",
        "colab_type": "code",
        "colab": {}
      },
      "source": [
        "def forward_propagation(X,biases,weights):\n",
        "    a=X\n",
        "    As=[X]\n",
        "    for w,b in zip(weights,biases):\n",
        "       z=np.dot(w,a)+b\n",
        "       a=sigmoid(z)\n",
        "       As.append(a)\n",
        "\n",
        "    return As"
      ],
      "execution_count": 10,
      "outputs": []
    },
    {
      "cell_type": "code",
      "metadata": {
        "id": "HYzG_NTYdCRL",
        "colab_type": "code",
        "colab": {}
      },
      "source": [
        "def backward_propagation(X,Y,biases,weights):\n",
        "\n",
        "    As=forward_propagation(X,biases,weights)\n",
        "    m = X.shape[1]\n",
        "    \n",
        "    nlayers=len(biases)\n",
        "    dz=As[nlayers]-Y\n",
        "#   uncomment below if you want to use mean squared error\n",
        "#    dz=dz*As[nlayers]*(1-As[nlayers])\n",
        "    gradb=[]\n",
        "    gradw=[]\n",
        "    for i in range(nlayers,0,-1):\n",
        "        db=np.sum(dz,axis=1,keepdims=True)/m\n",
        "        dw=np.dot(dz,As[i-1].T)/m\n",
        "        dz=np.dot(weights[i-1].T,dz)*As[i-1]*(1-As[i-1])\n",
        "        gradb.insert(0,db)\n",
        "        gradw.insert(0,dw)\n",
        "    \n",
        "    return gradb,gradw"
      ],
      "execution_count": 11,
      "outputs": []
    },
    {
      "cell_type": "code",
      "metadata": {
        "id": "X-9o_pyWdCRY",
        "colab_type": "code",
        "colab": {}
      },
      "source": [
        "def update_parameters(biases,weights, gradb,gradw, learning_rate):\n",
        "\n",
        "\n",
        "    for i in range(len(biases)):\n",
        "        weights[i]=weights[i]-learning_rate*gradw[i]\n",
        "        biases[i]=biases[i]-learning_rate*gradb[i]\n",
        "\n",
        "    return biases,weights"
      ],
      "execution_count": 12,
      "outputs": []
    },
    {
      "cell_type": "markdown",
      "metadata": {
        "id": "IAGM-I57dCRj",
        "colab_type": "text"
      },
      "source": [
        "Initialize the parameters\n"
      ]
    },
    {
      "cell_type": "code",
      "metadata": {
        "id": "l0LSeMtvdCRl",
        "colab_type": "code",
        "colab": {}
      },
      "source": [
        ""
      ],
      "execution_count": 12,
      "outputs": []
    },
    {
      "cell_type": "code",
      "metadata": {
        "id": "45Uo0DJvdCRr",
        "colab_type": "code",
        "colab": {}
      },
      "source": [
        "def GD(X, Y, test_data,width,batch_size,num_iterations, learning_rate,print_cost=False):\n",
        "\n",
        "    #n_x=X.shape[0]\n",
        "    #n_y=Y.shape[0]\n",
        "    biases,weights=initialize_parameters(width)\n",
        "    \n",
        "    for i in range(0, num_iterations):\n",
        "        cost,count = compute_cost(Y,biases,weights)\n",
        "        for k in range(0,X.shape[1],batch_size):\n",
        "            idx=[random.randint(0,Y.shape[1]-1) for s in range(batch_size)]\n",
        "            yb=Y[:,idx]\n",
        "            xb=X[:,idx]\n",
        "            gradb,gradw=backward_propagation(xb,yb,biases,weights)\n",
        "            biases,weights=update_parameters(biases,weights,gradb,gradw,learning_rate)    \n",
        "\n",
        "        if i%1 ==0 : \n",
        "            print(len(weights))   \n",
        "            count_test=evaluate(test_data,biases,weights)\n",
        "            print (\"Cost after iteration %i: %f\" %(i, cost))\n",
        "            print(\"count after iteration %i is %i\" %(i,count))\n",
        "            print(\"test count after iteration %i is %i\" %(i,count_test))\n",
        "    return biases,weights"
      ],
      "execution_count": 13,
      "outputs": []
    },
    {
      "cell_type": "code",
      "metadata": {
        "tags": [],
        "id": "TnZzq_kRdCRw",
        "colab_type": "code",
        "colab": {
          "base_uri": "https://localhost:8080/",
          "height": 831
        },
        "outputId": "82c4ac73-6ba4-4755-a71f-36fb88f6e18e"
      },
      "source": [
        "X, Y,test_data,test_labels = load_dataset()\n",
        "X=X.reshape(60000,784)\n",
        "test_data=test_data.reshape(10000,784)\n",
        "X=X.T\n",
        "Y=Y.T\n",
        "test_data=test_data.T\n",
        "test_labels=test_labels.T\n",
        "\n",
        "n_x=X.shape[0]\n",
        "n_y=Y.shape[0]\n",
        "width=[n_x,128,64,n_y]\n",
        "biases,weights= GD(X, Y,test_data,width,batch_size=64,learning_rate=3,\n",
        "                num_iterations =10, print_cost=True)\n",
        "\n",
        "\n",
        "count=evaluate(test_data,biases,weights)\n",
        "A=forward_propagation(X,biases,weights)\n",
        "print(A[-1].shape)\n",
        "print(len(A))\n"
      ],
      "execution_count": 14,
      "outputs": [
        {
          "output_type": "stream",
          "text": [
            "Downloading data from https://storage.googleapis.com/tensorflow/tf-keras-datasets/mnist.npz\n",
            "11493376/11490434 [==============================] - 0s 0us/step\n",
            "size 128,784\n",
            "size 64,128\n",
            "size 10,64\n",
            "3\n",
            "Cost after iteration 0: 30.129112\n",
            "count after iteration 0 is 5755\n",
            "test count after iteration 0 is 9152\n",
            "3\n",
            "Cost after iteration 1: 0.514947\n",
            "count after iteration 1 is 55177\n",
            "test count after iteration 1 is 9314\n",
            "3\n",
            "Cost after iteration 2: 0.395329\n",
            "count after iteration 2 is 56357\n",
            "test count after iteration 2 is 9416\n",
            "3\n",
            "Cost after iteration 3: 0.307875\n",
            "count after iteration 3 is 57191\n",
            "test count after iteration 3 is 9462\n",
            "3\n",
            "Cost after iteration 4: 0.265603\n",
            "count after iteration 4 is 57555\n",
            "test count after iteration 4 is 9499\n",
            "3\n",
            "Cost after iteration 5: 0.230051\n",
            "count after iteration 5 is 57906\n",
            "test count after iteration 5 is 9496\n",
            "3\n",
            "Cost after iteration 6: 0.223979\n",
            "count after iteration 6 is 57996\n",
            "test count after iteration 6 is 9538\n",
            "3\n",
            "Cost after iteration 7: 0.207892\n",
            "count after iteration 7 is 58139\n",
            "test count after iteration 7 is 9562\n",
            "3\n",
            "Cost after iteration 8: 0.171490\n",
            "count after iteration 8 is 58465\n",
            "test count after iteration 8 is 9537\n",
            "3\n",
            "Cost after iteration 9: 0.182860\n",
            "count after iteration 9 is 58405\n",
            "test count after iteration 9 is 9554\n",
            "(10, 60000)\n",
            "4\n"
          ],
          "name": "stdout"
        }
      ]
    },
    {
      "cell_type": "markdown",
      "metadata": {
        "id": "a47ChPTOdCR1",
        "colab_type": "text"
      },
      "source": [
        "Prints some of the misclassified digits. The top on each digit shows the (wrong) prediction."
      ]
    },
    {
      "cell_type": "code",
      "metadata": {
        "id": "qM9byvUDdCR2",
        "colab_type": "code",
        "colab": {
          "base_uri": "https://localhost:8080/",
          "height": 291
        },
        "outputId": "57e264a7-6b21-488f-99c6-6bfabea11831"
      },
      "source": [
        "print_misclassified(test_data,test_labels,biases,weights)\n"
      ],
      "execution_count": 15,
      "outputs": [
        {
          "output_type": "stream",
          "text": [
            "/usr/local/lib/python3.6/dist-packages/ipykernel_launcher.py:17: MatplotlibDeprecationWarning: Adding an axes using the same arguments as a previous axes currently reuses the earlier instance.  In a future version, a new instance will always be created and returned.  Meanwhile, this warning can be suppressed, and the future behavior ensured, by passing a unique label to each axes instance.\n"
          ],
          "name": "stderr"
        },
        {
          "output_type": "display_data",
          "data": {
            "image/png": "[encoded data removed]",
            "text/plain": [
              "<Figure size 432x288 with 40 Axes>"
            ]
          },
          "metadata": {
            "tags": [],
            "needs_background": "light"
          }
        }
      ]
    },
    {
      "cell_type": "code",
      "metadata": {
        "id": "qeqLB7jKdCR6",
        "colab_type": "code",
        "colab": {}
      },
      "source": [
        ""
      ],
      "execution_count": 15,
      "outputs": []
    }
  ]
}