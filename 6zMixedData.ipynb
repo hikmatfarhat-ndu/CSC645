{
  "nbformat": 4,
  "nbformat_minor": 0,
  "metadata": {
    "colab": {
      "name": "6zMixedData.ipynb",
      "provenance": [],
      "authorship_tag": "ABX9TyP70wCdciThAttvDCvghiWX",
      "include_colab_link": true
    },
    "kernelspec": {
      "name": "python3",
      "display_name": "Python 3"
    }
  },
  "cells": [
    {
      "cell_type": "markdown",
      "metadata": {
        "id": "view-in-github",
        "colab_type": "text"
      },
      "source": [
        "<a href=\"https://colab.research.google.com/github/hikmatfarhat-ndu/CSC645/blob/master/6zMixedData.ipynb\" target=\"_parent\"><img src=\"https://colab.research.google.com/assets/colab-badge.svg\" alt=\"Open In Colab\"/></a>"
      ]
    },
    {
      "cell_type": "code",
      "metadata": {
        "id": "xir1Ek3CGKnI"
      },
      "source": [
        "import tensorflow as tf"
      ],
      "execution_count": 31,
      "outputs": []
    },
    {
      "cell_type": "code",
      "metadata": {
        "id": "PFGlUp4kGPfz"
      },
      "source": [
        "!git clone https://github.com/emanhamed/Houses-dataset\n"
      ],
      "execution_count": null,
      "outputs": []
    },
    {
      "cell_type": "code",
      "metadata": {
        "id": "48KwRMrkG2Ke"
      },
      "source": [
        "import pandas as pd\n",
        "df=pd.read_csv(\"Houses-dataset/Houses Dataset/HousesInfo.txt\",header=None,delim_whitespace=True,\n",
        "               names=[\"bedrooms\",\"bathrooms\",\"size\",\"zipcode\",\"price\"])"
      ],
      "execution_count": 32,
      "outputs": []
    },
    {
      "cell_type": "code",
      "metadata": {
        "id": "0bXxxKFJJ7Tr"
      },
      "source": [
        "df[0:10]"
      ],
      "execution_count": null,
      "outputs": []
    },
    {
      "cell_type": "markdown",
      "metadata": {
        "id": "lGr3NUeq2CHA"
      },
      "source": [
        "count the number of houses per zipcode"
      ]
    },
    {
      "cell_type": "code",
      "metadata": {
        "id": "J46BDxnCthyH"
      },
      "source": [
        "zipcodes=df['zipcode'].value_counts().keys().tolist()\n",
        "counts=df['zipcode'].value_counts().tolist()"
      ],
      "execution_count": 33,
      "outputs": []
    },
    {
      "cell_type": "markdown",
      "metadata": {
        "id": "5rtvHQzh2GKH"
      },
      "source": [
        "remove all the entries with zipcodes containing less than 20 houses"
      ]
    },
    {
      "cell_type": "code",
      "metadata": {
        "id": "uwiRENZ5t1j-"
      },
      "source": [
        "for count,zipcode in zip(counts,zipcodes):\n",
        "  if count<20:\n",
        "    idx=df[df['zipcode']==zipcode].index\n",
        "    df.drop(idx,inplace=True)"
      ],
      "execution_count": 34,
      "outputs": []
    },
    {
      "cell_type": "code",
      "metadata": {
        "id": "ASaS65if2Uxq"
      },
      "source": [
        "df[0:10]"
      ],
      "execution_count": null,
      "outputs": []
    },
    {
      "cell_type": "code",
      "metadata": {
        "id": "GpVKwv0e2nqk"
      },
      "source": [
        "import cv2\n",
        "\n",
        "image_list=[]\n",
        "prefix=\"Houses-dataset/Houses Dataset/\"\n",
        "suffix=\"_frontal.jpg\"\n",
        "for idx in df.index.tolist():\n",
        "  path=prefix+str(idx)+suffix\n",
        "  img=cv2.imread(path)\n",
        "  img=cv2.resize(img,(48,48))\n",
        "  image_list.append(img)"
      ],
      "execution_count": 35,
      "outputs": []
    },
    {
      "cell_type": "code",
      "metadata": {
        "id": "ucfzCiOMegoq"
      },
      "source": [
        "\n",
        "import numpy as np\n",
        "images=np.stack(image_list)"
      ],
      "execution_count": 36,
      "outputs": []
    },
    {
      "cell_type": "code",
      "metadata": {
        "id": "26jbazrd5eEc"
      },
      "source": [
        "images.shape"
      ],
      "execution_count": null,
      "outputs": []
    },
    {
      "cell_type": "code",
      "metadata": {
        "id": "ebuBnIQ_8PdG"
      },
      "source": [
        "images=images/255."
      ],
      "execution_count": 37,
      "outputs": []
    },
    {
      "cell_type": "code",
      "metadata": {
        "id": "kpC2Duph6VJv"
      },
      "source": [
        "values=df.values\n",
        "prices=values[:,4]\n",
        "max_price=prices.max()\n",
        "prices=prices/max_price\n",
        "\n",
        "bedrooms=values[:,0]\n",
        "bathrooms=values[:,1]\n",
        "size=values[:,2]\n",
        "max_size=size.max()\n",
        "size=size/max_size\n",
        "zipcodes=values[:,3]\n",
        "max_zipcodes=zipcodes.max()\n",
        "zipcodes=tf.one_hot(zipcodes,max_zipcodes).numpy()"
      ],
      "execution_count": 38,
      "outputs": []
    },
    {
      "cell_type": "code",
      "metadata": {
        "id": "kZPGNEt57haH",
        "outputId": "593a9d23-de77-45ba-dcc8-4a6592e2936a",
        "colab": {
          "base_uri": "https://localhost:8080/"
        }
      },
      "source": [
        "#features=np.hstack([bedrooms,bathrooms,size,zipcodes])\n",
        "nsamples=384\n",
        "bathrooms=bathrooms.reshape(nsamples,1)\n",
        "bedrooms=bedrooms.reshape(nsamples,1)\n",
        "size=size.reshape(nsamples,1)\n",
        "print(bathrooms.shape)\n",
        "print(bedrooms.shape)\n",
        "print(size.shape)\n",
        "#print(zipcodes.shape)\n",
        "features=np.hstack([bedrooms,bathrooms,size,zipcodes])\n",
        "#features=np.hstack([bedrooms,bathrooms,size])\n",
        "features.shape"
      ],
      "execution_count": 39,
      "outputs": [
        {
          "output_type": "stream",
          "text": [
            "(384, 1)\n",
            "(384, 1)\n",
            "(384, 1)\n"
          ],
          "name": "stdout"
        },
        {
          "output_type": "execute_result",
          "data": {
            "text/plain": [
              "(384, 94534)"
            ]
          },
          "metadata": {
            "tags": []
          },
          "execution_count": 39
        }
      ]
    },
    {
      "cell_type": "code",
      "metadata": {
        "id": "jigkzS507vPv"
      },
      "source": [
        "train_images=images[0:300]\n",
        "test_images=images[300:nsamples]\n",
        "train_features=features[0:300]\n",
        "test_features=features[300:nsamples]\n",
        "train_prices=prices[0:300]\n",
        "test_prices=prices[300:nsamples]\n",
        "#max_price=train_prices.max()\n",
        "#train_prices=train_prices/max_price\n",
        "#test_prices=test_prices/max_price"
      ],
      "execution_count": 40,
      "outputs": []
    },
    {
      "cell_type": "code",
      "metadata": {
        "id": "j8XgV7RL9H_P"
      },
      "source": [
        "from tensorflow.keras.layers import Dense,Input,concatenate,Flatten\n",
        "from tensorflow.keras.models import Model\n"
      ],
      "execution_count": 41,
      "outputs": []
    },
    {
      "cell_type": "code",
      "metadata": {
        "id": "iAnng4TFP8mW"
      },
      "source": [
        "def get_features_modelA():\n",
        "  features_input=Input(shape=(4,),name=\"features_input\")\n",
        "  features_layers=Dense(64,activation=\"relu\")(features_input)\n",
        "  features_layers=Dense(32,activation=\"relu\")(features_layers)\n",
        "  features_layers=Dense(16,activation=\"relu\")(features_layers)\n",
        "  features_output=Dense(1,activation=\"linear\")(features_layers)\n",
        "  model=Model(inputs=features_input,outputs=features_output)\n",
        "  return model\n",
        "def get_features_modelB():\n",
        "  features_input=Input(shape=(train_features.shape[1]),name=\"features_input\")\n",
        "  features_layers=Dense(32,activation=\"relu\")(features_input)\n",
        "  features_layers=Dense(16,activation=\"relu\")(features_layers)\n",
        "  features_output=Dense(1,activation=\"linear\")(features_layers)\n",
        "  model=Model(inputs=features_input,outputs=features_output)\n",
        "  return model\n"
      ],
      "execution_count": 42,
      "outputs": []
    },
    {
      "cell_type": "code",
      "metadata": {
        "id": "qWpsSGV05oqY"
      },
      "source": [
        "def get_image_model():\n",
        "  image_input=Input(shape=(48,48,3),name=\"image_input\")\n",
        "  flatten=Flatten()(image_input)\n",
        "  image_layers=Dense(64,activation=\"relu\")(flatten)\n",
        "  image_output=Dense(1,activation=\"linear\")(image_layers)\n",
        "  image_model=Model(inputs=image_input,outputs=image_output)\n",
        "  return image_model"
      ],
      "execution_count": null,
      "outputs": []
    },
    {
      "cell_type": "code",
      "metadata": {
        "id": "JK1aKLVj8k3B"
      },
      "source": [
        "features_model=get_features_modelB()"
      ],
      "execution_count": 43,
      "outputs": []
    },
    {
      "cell_type": "code",
      "metadata": {
        "id": "GCTqqZXCR46g"
      },
      "source": [
        "image_model=get_image_model()\n",
        "both=concatenate([image_model.output,features_model.output])\n",
        "both=Dense(10,activation='relu')(both)\n",
        "both=Dense(1,activation='linear')(both)\n",
        "model=Model(inputs=[features_model.input,image_model.input],outputs=both)\n"
      ],
      "execution_count": null,
      "outputs": []
    },
    {
      "cell_type": "code",
      "metadata": {
        "id": "3UNdpuKSTyM1"
      },
      "source": [
        "tf.keras.utils.plot_model(model,show_shapes=True)"
      ],
      "execution_count": null,
      "outputs": []
    },
    {
      "cell_type": "code",
      "metadata": {
        "id": "OaYEk_Q1TBOu"
      },
      "source": [
        "opt=tf.keras.optimizers.RMSprop(lr=1e-3)\n",
        "model.compile(optimizer=opt,loss='mean_absolute_percentage_error')\n"
      ],
      "execution_count": null,
      "outputs": []
    },
    {
      "cell_type": "code",
      "metadata": {
        "id": "Ute42veJTIyz"
      },
      "source": [
        "model.fit(x=[train_features,train_images],y=train_prices,epochs=1000)\n"
      ],
      "execution_count": null,
      "outputs": []
    },
    {
      "cell_type": "code",
      "metadata": {
        "id": "TbVqI0qY5diq"
      },
      "source": [
        "opt=tf.keras.optimizers.Adam()\n",
        "features_model.compile(optimizer=\"Adam\",loss=\"mean_absolute_percentage_error\")"
      ],
      "execution_count": 44,
      "outputs": []
    },
    {
      "cell_type": "code",
      "metadata": {
        "id": "DQ6YnCzKGMdh",
        "outputId": "7149ea8c-4f61-409d-8f7a-98dd3ab668ad",
        "colab": {
          "base_uri": "https://localhost:8080/",
          "height": 422
        }
      },
      "source": [
        "tf.keras.utils.plot_model(features_model,show_shapes=True)"
      ],
      "execution_count": 24,
      "outputs": [
        {
          "output_type": "execute_result",
          "data": {
            "image/png": "[encoded data removed]",
            "text/plain": [
              "<IPython.core.display.Image object>"
            ]
          },
          "metadata": {
            "tags": []
          },
          "execution_count": 24
        }
      ]
    },
    {
      "cell_type": "code",
      "metadata": {
        "id": "j_SXgogXdMdy",
        "outputId": "1b210bb0-58a3-4f49-f3cb-9e77f070fe2d",
        "colab": {
          "base_uri": "https://localhost:8080/"
        }
      },
      "source": [
        "features_model.fit(x=train_features,y=train_prices,batch_size=16,epochs=200)"
      ],
      "execution_count": 45,
      "outputs": [
        {
          "output_type": "stream",
          "text": [
            "Epoch 1/200\n",
            "19/19 [==============================] - 0s 18ms/step - loss: 64.7363\n",
            "Epoch 2/200\n",
            "19/19 [==============================] - 0s 18ms/step - loss: 33.2338\n",
            "Epoch 3/200\n",
            "19/19 [==============================] - 0s 20ms/step - loss: 34.3247\n",
            "Epoch 4/200\n",
            "19/19 [==============================] - 0s 18ms/step - loss: 26.6135\n",
            "Epoch 5/200\n",
            "19/19 [==============================] - 0s 18ms/step - loss: 29.6375\n",
            "Epoch 6/200\n",
            "19/19 [==============================] - 0s 18ms/step - loss: 24.6579\n",
            "Epoch 7/200\n",
            "19/19 [==============================] - 0s 18ms/step - loss: 25.5125\n",
            "Epoch 8/200\n",
            "19/19 [==============================] - 0s 19ms/step - loss: 24.5565\n",
            "Epoch 9/200\n",
            "19/19 [==============================] - 0s 18ms/step - loss: 24.9769\n",
            "Epoch 10/200\n",
            "19/19 [==============================] - 0s 18ms/step - loss: 24.1702\n",
            "Epoch 11/200\n",
            "19/19 [==============================] - 0s 19ms/step - loss: 23.9029\n",
            "Epoch 12/200\n",
            "19/19 [==============================] - 0s 18ms/step - loss: 24.4159\n",
            "Epoch 13/200\n",
            "19/19 [==============================] - 0s 18ms/step - loss: 24.0496\n",
            "Epoch 14/200\n",
            "19/19 [==============================] - 0s 18ms/step - loss: 24.1200\n",
            "Epoch 15/200\n",
            "19/19 [==============================] - 0s 18ms/step - loss: 23.7471\n",
            "Epoch 16/200\n",
            "19/19 [==============================] - 0s 19ms/step - loss: 24.9677\n",
            "Epoch 17/200\n",
            "19/19 [==============================] - 0s 18ms/step - loss: 23.6814\n",
            "Epoch 18/200\n",
            "19/19 [==============================] - 0s 18ms/step - loss: 24.6280\n",
            "Epoch 19/200\n",
            "19/19 [==============================] - 0s 18ms/step - loss: 26.2576\n",
            "Epoch 20/200\n",
            "19/19 [==============================] - 0s 18ms/step - loss: 24.8026\n",
            "Epoch 21/200\n",
            "19/19 [==============================] - 0s 18ms/step - loss: 25.6600\n",
            "Epoch 22/200\n",
            "19/19 [==============================] - 0s 18ms/step - loss: 24.2374\n",
            "Epoch 23/200\n",
            "19/19 [==============================] - 0s 18ms/step - loss: 23.5589\n",
            "Epoch 24/200\n",
            "19/19 [==============================] - 0s 18ms/step - loss: 22.8983\n",
            "Epoch 25/200\n",
            "19/19 [==============================] - 0s 18ms/step - loss: 23.9063\n",
            "Epoch 26/200\n",
            "19/19 [==============================] - 0s 19ms/step - loss: 23.8495\n",
            "Epoch 27/200\n",
            "19/19 [==============================] - 0s 19ms/step - loss: 23.7754\n",
            "Epoch 28/200\n",
            "19/19 [==============================] - 0s 18ms/step - loss: 23.3992\n",
            "Epoch 29/200\n",
            "19/19 [==============================] - 0s 18ms/step - loss: 23.3744\n",
            "Epoch 30/200\n",
            "19/19 [==============================] - 0s 19ms/step - loss: 22.8060\n",
            "Epoch 31/200\n",
            "19/19 [==============================] - 0s 18ms/step - loss: 24.5436\n",
            "Epoch 32/200\n",
            "19/19 [==============================] - 0s 18ms/step - loss: 22.8544\n",
            "Epoch 33/200\n",
            "19/19 [==============================] - 0s 19ms/step - loss: 22.6108\n",
            "Epoch 34/200\n",
            "19/19 [==============================] - 0s 18ms/step - loss: 23.9819\n",
            "Epoch 35/200\n",
            "19/19 [==============================] - 0s 18ms/step - loss: 25.3888\n",
            "Epoch 36/200\n",
            "19/19 [==============================] - 0s 18ms/step - loss: 24.4374\n",
            "Epoch 37/200\n",
            "19/19 [==============================] - 0s 18ms/step - loss: 26.7820\n",
            "Epoch 38/200\n",
            "19/19 [==============================] - 0s 18ms/step - loss: 25.5669\n",
            "Epoch 39/200\n",
            "19/19 [==============================] - 0s 17ms/step - loss: 23.0464\n",
            "Epoch 40/200\n",
            "19/19 [==============================] - 0s 18ms/step - loss: 22.1337\n",
            "Epoch 41/200\n",
            "19/19 [==============================] - 0s 18ms/step - loss: 21.7579\n",
            "Epoch 42/200\n",
            "19/19 [==============================] - 0s 18ms/step - loss: 23.7026\n",
            "Epoch 43/200\n",
            "19/19 [==============================] - 0s 18ms/step - loss: 23.9816\n",
            "Epoch 44/200\n",
            "19/19 [==============================] - 0s 18ms/step - loss: 25.4098\n",
            "Epoch 45/200\n",
            "19/19 [==============================] - 0s 19ms/step - loss: 22.5767\n",
            "Epoch 46/200\n",
            "19/19 [==============================] - 0s 18ms/step - loss: 23.0085\n",
            "Epoch 47/200\n",
            "19/19 [==============================] - 0s 18ms/step - loss: 24.1725\n",
            "Epoch 48/200\n",
            "19/19 [==============================] - 0s 18ms/step - loss: 22.5466\n",
            "Epoch 49/200\n",
            "19/19 [==============================] - 0s 19ms/step - loss: 23.0855\n",
            "Epoch 50/200\n",
            "19/19 [==============================] - 0s 18ms/step - loss: 22.2757\n",
            "Epoch 51/200\n",
            "19/19 [==============================] - 0s 18ms/step - loss: 21.3806\n",
            "Epoch 52/200\n",
            "19/19 [==============================] - 0s 18ms/step - loss: 22.8641\n",
            "Epoch 53/200\n",
            "19/19 [==============================] - 0s 18ms/step - loss: 22.3297\n",
            "Epoch 54/200\n",
            "19/19 [==============================] - 0s 18ms/step - loss: 20.7446\n",
            "Epoch 55/200\n",
            "19/19 [==============================] - 0s 18ms/step - loss: 20.8616\n",
            "Epoch 56/200\n",
            "19/19 [==============================] - 0s 18ms/step - loss: 22.9911\n",
            "Epoch 57/200\n",
            "19/19 [==============================] - 0s 19ms/step - loss: 22.1488\n",
            "Epoch 58/200\n",
            "19/19 [==============================] - 0s 19ms/step - loss: 21.0331\n",
            "Epoch 59/200\n",
            "19/19 [==============================] - 0s 18ms/step - loss: 21.7545\n",
            "Epoch 60/200\n",
            "19/19 [==============================] - 0s 19ms/step - loss: 21.6760\n",
            "Epoch 61/200\n",
            "19/19 [==============================] - 0s 18ms/step - loss: 23.8117\n",
            "Epoch 62/200\n",
            "19/19 [==============================] - 0s 18ms/step - loss: 22.4366\n",
            "Epoch 63/200\n",
            "19/19 [==============================] - 0s 19ms/step - loss: 24.4211\n",
            "Epoch 64/200\n",
            "19/19 [==============================] - 0s 18ms/step - loss: 26.8121\n",
            "Epoch 65/200\n",
            "19/19 [==============================] - 0s 18ms/step - loss: 23.9290\n",
            "Epoch 66/200\n",
            "19/19 [==============================] - 0s 19ms/step - loss: 23.1425\n",
            "Epoch 67/200\n",
            "19/19 [==============================] - 0s 18ms/step - loss: 21.2125\n",
            "Epoch 68/200\n",
            "19/19 [==============================] - 0s 18ms/step - loss: 25.3444\n",
            "Epoch 69/200\n",
            "19/19 [==============================] - 0s 18ms/step - loss: 22.3314\n",
            "Epoch 70/200\n",
            "19/19 [==============================] - 0s 19ms/step - loss: 20.3866\n",
            "Epoch 71/200\n",
            "19/19 [==============================] - 0s 18ms/step - loss: 21.0903\n",
            "Epoch 72/200\n",
            "19/19 [==============================] - 0s 19ms/step - loss: 20.9034\n",
            "Epoch 73/200\n",
            "19/19 [==============================] - 0s 20ms/step - loss: 22.9499\n",
            "Epoch 74/200\n",
            "19/19 [==============================] - 0s 19ms/step - loss: 20.7672\n",
            "Epoch 75/200\n",
            "19/19 [==============================] - 0s 18ms/step - loss: 22.9453\n",
            "Epoch 76/200\n",
            "19/19 [==============================] - 0s 18ms/step - loss: 20.6282\n",
            "Epoch 77/200\n",
            "19/19 [==============================] - 0s 18ms/step - loss: 20.3406\n",
            "Epoch 78/200\n",
            "19/19 [==============================] - 0s 18ms/step - loss: 19.9439\n",
            "Epoch 79/200\n",
            "19/19 [==============================] - 0s 19ms/step - loss: 20.2128\n",
            "Epoch 80/200\n",
            "19/19 [==============================] - 0s 18ms/step - loss: 21.0847\n",
            "Epoch 81/200\n",
            "19/19 [==============================] - 0s 18ms/step - loss: 20.2662\n",
            "Epoch 82/200\n",
            "19/19 [==============================] - 0s 19ms/step - loss: 19.5191\n",
            "Epoch 83/200\n",
            "19/19 [==============================] - 0s 18ms/step - loss: 20.2312\n",
            "Epoch 84/200\n",
            "19/19 [==============================] - 0s 18ms/step - loss: 20.7643\n",
            "Epoch 85/200\n",
            "19/19 [==============================] - 0s 19ms/step - loss: 22.0314\n",
            "Epoch 86/200\n",
            "19/19 [==============================] - 0s 18ms/step - loss: 22.5399\n",
            "Epoch 87/200\n",
            "19/19 [==============================] - 0s 18ms/step - loss: 19.6579\n",
            "Epoch 88/200\n",
            "19/19 [==============================] - 0s 19ms/step - loss: 19.8621\n",
            "Epoch 89/200\n",
            "19/19 [==============================] - 0s 19ms/step - loss: 20.1871\n",
            "Epoch 90/200\n",
            "19/19 [==============================] - 0s 19ms/step - loss: 21.7582\n",
            "Epoch 91/200\n",
            "19/19 [==============================] - 0s 19ms/step - loss: 21.6355\n",
            "Epoch 92/200\n",
            "19/19 [==============================] - 0s 18ms/step - loss: 19.7272\n",
            "Epoch 93/200\n",
            "19/19 [==============================] - 0s 19ms/step - loss: 20.5176\n",
            "Epoch 94/200\n",
            "19/19 [==============================] - 0s 18ms/step - loss: 21.2690\n",
            "Epoch 95/200\n",
            "19/19 [==============================] - 0s 17ms/step - loss: 21.1809\n",
            "Epoch 96/200\n",
            "19/19 [==============================] - 0s 19ms/step - loss: 22.5709\n",
            "Epoch 97/200\n",
            "19/19 [==============================] - 0s 17ms/step - loss: 23.7031\n",
            "Epoch 98/200\n",
            "19/19 [==============================] - 0s 19ms/step - loss: 23.0172\n",
            "Epoch 99/200\n",
            "19/19 [==============================] - 0s 18ms/step - loss: 20.1849\n",
            "Epoch 100/200\n",
            "19/19 [==============================] - 0s 18ms/step - loss: 20.7308\n",
            "Epoch 101/200\n",
            "19/19 [==============================] - 0s 18ms/step - loss: 19.3522\n",
            "Epoch 102/200\n",
            "19/19 [==============================] - 0s 19ms/step - loss: 20.5335\n",
            "Epoch 103/200\n",
            "19/19 [==============================] - 0s 18ms/step - loss: 19.7354\n",
            "Epoch 104/200\n",
            "19/19 [==============================] - 0s 19ms/step - loss: 21.3064\n",
            "Epoch 105/200\n",
            "19/19 [==============================] - 0s 18ms/step - loss: 21.1979\n",
            "Epoch 106/200\n",
            "19/19 [==============================] - 0s 19ms/step - loss: 19.2643\n",
            "Epoch 107/200\n",
            "19/19 [==============================] - 0s 18ms/step - loss: 18.7519\n",
            "Epoch 108/200\n",
            "19/19 [==============================] - 0s 19ms/step - loss: 20.9571\n",
            "Epoch 109/200\n",
            "19/19 [==============================] - 0s 18ms/step - loss: 19.7402\n",
            "Epoch 110/200\n",
            "19/19 [==============================] - 0s 19ms/step - loss: 22.0461\n",
            "Epoch 111/200\n",
            "19/19 [==============================] - 0s 18ms/step - loss: 19.6154\n",
            "Epoch 112/200\n",
            "19/19 [==============================] - 0s 19ms/step - loss: 19.8260\n",
            "Epoch 113/200\n",
            "19/19 [==============================] - 0s 19ms/step - loss: 18.5718\n",
            "Epoch 114/200\n",
            "19/19 [==============================] - 0s 18ms/step - loss: 18.3519\n",
            "Epoch 115/200\n",
            "19/19 [==============================] - 0s 18ms/step - loss: 19.2170\n",
            "Epoch 116/200\n",
            "19/19 [==============================] - 0s 19ms/step - loss: 18.8257\n",
            "Epoch 117/200\n",
            "19/19 [==============================] - 0s 19ms/step - loss: 19.3501\n",
            "Epoch 118/200\n",
            "19/19 [==============================] - 0s 18ms/step - loss: 20.5661\n",
            "Epoch 119/200\n",
            "19/19 [==============================] - 0s 18ms/step - loss: 20.1615\n",
            "Epoch 120/200\n",
            "19/19 [==============================] - 0s 19ms/step - loss: 19.6093\n",
            "Epoch 121/200\n",
            "19/19 [==============================] - 0s 18ms/step - loss: 20.5397\n",
            "Epoch 122/200\n",
            "19/19 [==============================] - 0s 18ms/step - loss: 20.6609\n",
            "Epoch 123/200\n",
            "19/19 [==============================] - 0s 18ms/step - loss: 21.1784\n",
            "Epoch 124/200\n",
            "19/19 [==============================] - 0s 17ms/step - loss: 19.6633\n",
            "Epoch 125/200\n",
            "19/19 [==============================] - 0s 18ms/step - loss: 18.4408\n",
            "Epoch 126/200\n",
            "19/19 [==============================] - 0s 19ms/step - loss: 22.1398\n",
            "Epoch 127/200\n",
            "19/19 [==============================] - 0s 18ms/step - loss: 19.9808\n",
            "Epoch 128/200\n",
            "19/19 [==============================] - 0s 19ms/step - loss: 19.2221\n",
            "Epoch 129/200\n",
            "19/19 [==============================] - 0s 18ms/step - loss: 19.1225\n",
            "Epoch 130/200\n",
            "19/19 [==============================] - 0s 18ms/step - loss: 19.5913\n",
            "Epoch 131/200\n",
            "19/19 [==============================] - 0s 19ms/step - loss: 19.7321\n",
            "Epoch 132/200\n",
            "19/19 [==============================] - 0s 18ms/step - loss: 19.9258\n",
            "Epoch 133/200\n",
            "19/19 [==============================] - 0s 18ms/step - loss: 19.9625\n",
            "Epoch 134/200\n",
            "19/19 [==============================] - 0s 18ms/step - loss: 18.9717\n",
            "Epoch 135/200\n",
            "19/19 [==============================] - 0s 18ms/step - loss: 20.4157\n",
            "Epoch 136/200\n",
            "19/19 [==============================] - 0s 18ms/step - loss: 20.2652\n",
            "Epoch 137/200\n",
            "19/19 [==============================] - 0s 18ms/step - loss: 19.5946\n",
            "Epoch 138/200\n",
            "19/19 [==============================] - 0s 18ms/step - loss: 19.6606\n",
            "Epoch 139/200\n",
            "19/19 [==============================] - 0s 18ms/step - loss: 18.9952\n",
            "Epoch 140/200\n",
            "19/19 [==============================] - 0s 18ms/step - loss: 18.8193\n",
            "Epoch 141/200\n",
            "19/19 [==============================] - 0s 18ms/step - loss: 18.9663\n",
            "Epoch 142/200\n",
            "19/19 [==============================] - 0s 19ms/step - loss: 19.0341\n",
            "Epoch 143/200\n",
            "19/19 [==============================] - 0s 18ms/step - loss: 18.2548\n",
            "Epoch 144/200\n",
            "19/19 [==============================] - 0s 19ms/step - loss: 19.3461\n",
            "Epoch 145/200\n",
            "19/19 [==============================] - 0s 19ms/step - loss: 20.4912\n",
            "Epoch 146/200\n",
            "19/19 [==============================] - 0s 18ms/step - loss: 19.5705\n",
            "Epoch 147/200\n",
            "19/19 [==============================] - 0s 19ms/step - loss: 18.4754\n",
            "Epoch 148/200\n",
            "19/19 [==============================] - 0s 18ms/step - loss: 19.0061\n",
            "Epoch 149/200\n",
            "19/19 [==============================] - 0s 19ms/step - loss: 20.4706\n",
            "Epoch 150/200\n",
            "19/19 [==============================] - 0s 19ms/step - loss: 18.5639\n",
            "Epoch 151/200\n",
            "19/19 [==============================] - 0s 18ms/step - loss: 19.9457\n",
            "Epoch 152/200\n",
            "19/19 [==============================] - 0s 18ms/step - loss: 19.4706\n",
            "Epoch 153/200\n",
            "19/19 [==============================] - 0s 19ms/step - loss: 19.1670\n",
            "Epoch 154/200\n",
            "19/19 [==============================] - 0s 18ms/step - loss: 18.8664\n",
            "Epoch 155/200\n",
            "19/19 [==============================] - 0s 18ms/step - loss: 18.3413\n",
            "Epoch 156/200\n",
            "19/19 [==============================] - 0s 19ms/step - loss: 19.9909\n",
            "Epoch 157/200\n",
            "19/19 [==============================] - 0s 18ms/step - loss: 20.7936\n",
            "Epoch 158/200\n",
            "19/19 [==============================] - 0s 18ms/step - loss: 19.9789\n",
            "Epoch 159/200\n",
            "19/19 [==============================] - 0s 18ms/step - loss: 18.4424\n",
            "Epoch 160/200\n",
            "19/19 [==============================] - 0s 18ms/step - loss: 19.9327\n",
            "Epoch 161/200\n",
            "19/19 [==============================] - 0s 18ms/step - loss: 18.9140\n",
            "Epoch 162/200\n",
            "19/19 [==============================] - 0s 18ms/step - loss: 18.9729\n",
            "Epoch 163/200\n",
            "19/19 [==============================] - 0s 18ms/step - loss: 19.1371\n",
            "Epoch 164/200\n",
            "19/19 [==============================] - 0s 19ms/step - loss: 20.0461\n",
            "Epoch 165/200\n",
            "19/19 [==============================] - 0s 19ms/step - loss: 18.3571\n",
            "Epoch 166/200\n",
            "19/19 [==============================] - 0s 18ms/step - loss: 19.9240\n",
            "Epoch 167/200\n",
            "19/19 [==============================] - 0s 18ms/step - loss: 19.4437\n",
            "Epoch 168/200\n",
            "19/19 [==============================] - 0s 18ms/step - loss: 18.7515\n",
            "Epoch 169/200\n",
            "19/19 [==============================] - 0s 18ms/step - loss: 19.2900\n",
            "Epoch 170/200\n",
            "19/19 [==============================] - 0s 19ms/step - loss: 19.5856\n",
            "Epoch 171/200\n",
            "19/19 [==============================] - 0s 19ms/step - loss: 18.3752\n",
            "Epoch 172/200\n",
            "19/19 [==============================] - 0s 19ms/step - loss: 19.1437\n",
            "Epoch 173/200\n",
            "19/19 [==============================] - 0s 18ms/step - loss: 19.6923\n",
            "Epoch 174/200\n",
            "19/19 [==============================] - 0s 18ms/step - loss: 19.4994\n",
            "Epoch 175/200\n",
            "19/19 [==============================] - 0s 18ms/step - loss: 18.7975\n",
            "Epoch 176/200\n",
            "19/19 [==============================] - 0s 18ms/step - loss: 19.9130\n",
            "Epoch 177/200\n",
            "19/19 [==============================] - 0s 19ms/step - loss: 19.4782\n",
            "Epoch 178/200\n",
            "19/19 [==============================] - 0s 19ms/step - loss: 19.1847\n",
            "Epoch 179/200\n",
            "19/19 [==============================] - 0s 18ms/step - loss: 18.9026\n",
            "Epoch 180/200\n",
            "19/19 [==============================] - 0s 18ms/step - loss: 19.0955\n",
            "Epoch 181/200\n",
            "19/19 [==============================] - 0s 18ms/step - loss: 19.4910\n",
            "Epoch 182/200\n",
            "19/19 [==============================] - 0s 18ms/step - loss: 19.9859\n",
            "Epoch 183/200\n",
            "19/19 [==============================] - 0s 19ms/step - loss: 20.6033\n",
            "Epoch 184/200\n",
            "19/19 [==============================] - 0s 18ms/step - loss: 18.3281\n",
            "Epoch 185/200\n",
            "19/19 [==============================] - 0s 18ms/step - loss: 19.1925\n",
            "Epoch 186/200\n",
            "19/19 [==============================] - 0s 19ms/step - loss: 19.5325\n",
            "Epoch 187/200\n",
            "19/19 [==============================] - 0s 18ms/step - loss: 18.4772\n",
            "Epoch 188/200\n",
            "19/19 [==============================] - 0s 19ms/step - loss: 18.4148\n",
            "Epoch 189/200\n",
            "19/19 [==============================] - 0s 19ms/step - loss: 18.5824\n",
            "Epoch 190/200\n",
            "19/19 [==============================] - 0s 18ms/step - loss: 18.3117\n",
            "Epoch 191/200\n",
            "19/19 [==============================] - 0s 18ms/step - loss: 18.4424\n",
            "Epoch 192/200\n",
            "19/19 [==============================] - 0s 18ms/step - loss: 19.1199\n",
            "Epoch 193/200\n",
            "19/19 [==============================] - 0s 18ms/step - loss: 19.9176\n",
            "Epoch 194/200\n",
            "19/19 [==============================] - 0s 19ms/step - loss: 19.7909\n",
            "Epoch 195/200\n",
            "19/19 [==============================] - 0s 18ms/step - loss: 20.4299\n",
            "Epoch 196/200\n",
            "19/19 [==============================] - 0s 18ms/step - loss: 19.7965\n",
            "Epoch 197/200\n",
            "19/19 [==============================] - 0s 18ms/step - loss: 20.0403\n",
            "Epoch 198/200\n",
            "19/19 [==============================] - 0s 18ms/step - loss: 21.2243\n",
            "Epoch 199/200\n",
            "19/19 [==============================] - 0s 19ms/step - loss: 18.4828\n",
            "Epoch 200/200\n",
            "19/19 [==============================] - 0s 18ms/step - loss: 18.6035\n"
          ],
          "name": "stdout"
        },
        {
          "output_type": "execute_result",
          "data": {
            "text/plain": [
              "<tensorflow.python.keras.callbacks.History at 0x7f4b6ed99588>"
            ]
          },
          "metadata": {
            "tags": []
          },
          "execution_count": 45
        }
      ]
    },
    {
      "cell_type": "code",
      "metadata": {
        "id": "zzbuj_zQTWLi"
      },
      "source": [
        "model.evaluate([test_features,test_images],test_prices)\n"
      ],
      "execution_count": null,
      "outputs": []
    },
    {
      "cell_type": "code",
      "metadata": {
        "id": "i0IdOurzFrUS",
        "outputId": "935f3d68-b52f-4873-83ac-d3ba4e1ab9a9",
        "colab": {
          "base_uri": "https://localhost:8080/"
        }
      },
      "source": [
        "features_model.evaluate(test_features,test_prices)"
      ],
      "execution_count": 46,
      "outputs": [
        {
          "output_type": "stream",
          "text": [
            "3/3 [==============================] - 0s 5ms/step - loss: 32.5249\n"
          ],
          "name": "stdout"
        },
        {
          "output_type": "execute_result",
          "data": {
            "text/plain": [
              "32.524925231933594"
            ]
          },
          "metadata": {
            "tags": []
          },
          "execution_count": 46
        }
      ]
    },
    {
      "cell_type": "code",
      "metadata": {
        "id": "jJAFd-3NYv2l"
      },
      "source": [
        "combined_predict=np.squeeze(model.predict([test_features[0:10],test_images[0:10]]))\n"
      ],
      "execution_count": null,
      "outputs": []
    },
    {
      "cell_type": "code",
      "metadata": {
        "id": "94q3cIgwFtyg",
        "outputId": "9fb4d935-f718-4885-d533-90b33bc448ad",
        "colab": {
          "base_uri": "https://localhost:8080/"
        }
      },
      "source": [
        "features_predict=np.squeeze(features_model.predict(test_features[0:10]))\n",
        "features_predict.shape"
      ],
      "execution_count": 47,
      "outputs": [
        {
          "output_type": "execute_result",
          "data": {
            "text/plain": [
              "(10,)"
            ]
          },
          "metadata": {
            "tags": []
          },
          "execution_count": 47
        }
      ]
    },
    {
      "cell_type": "code",
      "metadata": {
        "id": "14lGckQrY35f",
        "outputId": "7d8679e9-1209-4d35-d51b-774b609fd2ad",
        "colab": {
          "base_uri": "https://localhost:8080/"
        }
      },
      "source": [
        "print(np.abs(test_prices[0:10]-features_predict)/test_prices[0:10])\n"
      ],
      "execution_count": 48,
      "outputs": [
        {
          "output_type": "stream",
          "text": [
            "[0.05278161 0.01053283 0.11336104 0.09382799 0.22384661 0.0412547\n",
            " 0.39982207 0.3108411  0.06694703 0.36479868]\n"
          ],
          "name": "stdout"
        }
      ]
    },
    {
      "cell_type": "code",
      "metadata": {
        "id": "k5jcIHtzZSuo"
      },
      "source": [
        "print(np.abs(test_prices[0:10]-combined_predict)/test_prices[0:10])"
      ],
      "execution_count": null,
      "outputs": []
    }
  ]
}