{
  "nbformat": 4,
  "nbformat_minor": 0,
  "metadata": {
    "colab": {
      "name": "6zMixedData.ipynb",
      "provenance": [],
      "authorship_tag": "ABX9TyOcY+C04esum+rRknc9004g",
      "include_colab_link": true
    },
    "kernelspec": {
      "name": "python3",
      "display_name": "Python 3"
    }
  },
  "cells": [
    {
      "cell_type": "markdown",
      "metadata": {
        "id": "view-in-github",
        "colab_type": "text"
      },
      "source": [
        "<a href=\"https://colab.research.google.com/github/hikmatfarhat-ndu/CSC645/blob/master/6zMixedData.ipynb\" target=\"_parent\"><img src=\"https://colab.research.google.com/assets/colab-badge.svg\" alt=\"Open In Colab\"/></a>"
      ]
    },
    {
      "cell_type": "code",
      "metadata": {
        "id": "xir1Ek3CGKnI"
      },
      "source": [
        "import tensorflow as tf"
      ],
      "execution_count": null,
      "outputs": []
    },
    {
      "cell_type": "code",
      "metadata": {
        "id": "PFGlUp4kGPfz"
      },
      "source": [
        "!git clone https://github.com/emanhamed/Houses-dataset\n"
      ],
      "execution_count": null,
      "outputs": []
    },
    {
      "cell_type": "code",
      "metadata": {
        "id": "48KwRMrkG2Ke"
      },
      "source": [
        "import pandas as pd\n",
        "df=pd.read_csv(\"Houses-dataset/Houses Dataset/HousesInfo.txt\",header=None,delim_whitespace=True,\n",
        "               names=[\"bedrooms\",\"bathrooms\",\"size\",\"zipcode\",\"price\"])"
      ],
      "execution_count": null,
      "outputs": []
    },
    {
      "cell_type": "code",
      "metadata": {
        "id": "0bXxxKFJJ7Tr"
      },
      "source": [
        "df[0:10]"
      ],
      "execution_count": null,
      "outputs": []
    },
    {
      "cell_type": "markdown",
      "metadata": {
        "id": "lGr3NUeq2CHA"
      },
      "source": [
        "count the number of houses per zipcode"
      ]
    },
    {
      "cell_type": "code",
      "metadata": {
        "id": "J46BDxnCthyH"
      },
      "source": [
        "zipcodes=df['zipcode'].value_counts().keys().tolist()\n",
        "counts=df['zipcode'].value_counts().tolist()"
      ],
      "execution_count": null,
      "outputs": []
    },
    {
      "cell_type": "markdown",
      "metadata": {
        "id": "5rtvHQzh2GKH"
      },
      "source": [
        "remove all the entries with zipcodes containing less than 20 houses"
      ]
    },
    {
      "cell_type": "code",
      "metadata": {
        "id": "uwiRENZ5t1j-"
      },
      "source": [
        "for count,zipcode in zip(counts,zipcodes):\n",
        "  if count<20:\n",
        "    idx=df[df['zipcode']==zipcode].index\n",
        "    df.drop(idx,inplace=True)"
      ],
      "execution_count": null,
      "outputs": []
    },
    {
      "cell_type": "code",
      "metadata": {
        "id": "ASaS65if2Uxq"
      },
      "source": [
        "df[0:10]"
      ],
      "execution_count": null,
      "outputs": []
    },
    {
      "cell_type": "code",
      "metadata": {
        "id": "GpVKwv0e2nqk"
      },
      "source": [
        "import cv2\n",
        "\n",
        "image_list=[]\n",
        "prefix=\"Houses-dataset/Houses Dataset/\"\n",
        "suffix=\"_frontal.jpg\"\n",
        "for idx in df.index.tolist():\n",
        "  path=prefix+str(idx)+suffix\n",
        "  img=cv2.imread(path)\n",
        "  img=cv2.resize(img,(48,48))\n",
        "  image_list.append(img)"
      ],
      "execution_count": null,
      "outputs": []
    },
    {
      "cell_type": "code",
      "metadata": {
        "id": "ucfzCiOMegoq"
      },
      "source": [
        "\n",
        "import numpy as np\n",
        "images=np.stack(image_list)"
      ],
      "execution_count": null,
      "outputs": []
    },
    {
      "cell_type": "code",
      "metadata": {
        "id": "26jbazrd5eEc"
      },
      "source": [
        "images.shape"
      ],
      "execution_count": null,
      "outputs": []
    },
    {
      "cell_type": "code",
      "metadata": {
        "id": "ebuBnIQ_8PdG"
      },
      "source": [
        "images=images/255."
      ],
      "execution_count": null,
      "outputs": []
    },
    {
      "cell_type": "code",
      "metadata": {
        "id": "kpC2Duph6VJv"
      },
      "source": [
        "values=df.values\n",
        "prices=values[:,4]\n",
        "features=values[:,0:4]"
      ],
      "execution_count": null,
      "outputs": []
    },
    {
      "cell_type": "code",
      "metadata": {
        "id": "kZPGNEt57haH"
      },
      "source": [
        "print(images.shape,values.shape)"
      ],
      "execution_count": null,
      "outputs": []
    },
    {
      "cell_type": "code",
      "metadata": {
        "id": "jigkzS507vPv"
      },
      "source": [
        "train_images=images[0:300]\n",
        "test_images=images[300:384]\n",
        "train_features=features[0:300]\n",
        "test_features=features[300:384]\n",
        "train_prices=prices[0:300]/100000.\n",
        "test_prices=prices[300:384]/100000."
      ],
      "execution_count": null,
      "outputs": []
    },
    {
      "cell_type": "code",
      "metadata": {
        "id": "j8XgV7RL9H_P"
      },
      "source": [
        "from tensorflow.keras.layers import Dense,Input,concatenate,Flatten\n",
        "from tensorflow.keras.models import Model\n"
      ],
      "execution_count": null,
      "outputs": []
    },
    {
      "cell_type": "code",
      "metadata": {
        "id": "iAnng4TFP8mW"
      },
      "source": [
        "features_input=Input(shape=(4,),name=\"features_input\")\n",
        "features_layers=Dense(64,activation=\"relu\")(features_input)\n",
        "features_layers=Dense(32,activation=\"relu\")(features_layers)\n",
        "features_layers=Dense(16,activation=\"relu\")(features_layers)\n",
        "\n",
        "features_output=Dense(1,activation=\"linear\")(features_layers)\n",
        "image_input=Input(shape=(48,48,3),name=\"image_input\")\n",
        "flatten=Flatten()(image_input)\n",
        "image_layers=Dense(64,activation=\"relu\")(flatten)\n",
        "image_output=Dense(1,activation=\"linear\")(image_layers)\n",
        "\n",
        "features_model=Model(inputs=features_input,outputs=features_output)\n",
        "image_model=Model(inputs=image_input,outputs=image_output)"
      ],
      "execution_count": null,
      "outputs": []
    },
    {
      "cell_type": "code",
      "metadata": {
        "id": "0eyg0TfBRY5n"
      },
      "source": [
        "both=concatenate([image_output,features_output])"
      ],
      "execution_count": null,
      "outputs": []
    },
    {
      "cell_type": "code",
      "metadata": {
        "id": "GCTqqZXCR46g"
      },
      "source": [
        "both=Dense(10,activation='relu')(both)\n",
        "both=Dense(1,activation='linear')(both)\n",
        "model=Model(inputs=[features_input,image_input],outputs=both)\n"
      ],
      "execution_count": null,
      "outputs": []
    },
    {
      "cell_type": "code",
      "metadata": {
        "id": "3UNdpuKSTyM1"
      },
      "source": [
        "tf.keras.utils.plot_model(model,show_shapes=True)"
      ],
      "execution_count": null,
      "outputs": []
    },
    {
      "cell_type": "code",
      "metadata": {
        "id": "OaYEk_Q1TBOu"
      },
      "source": [
        "opt=tf.keras.optimizers.RMSprop(lr=1e-3)\n",
        "model.compile(optimizer=opt,loss='mean_absolute_percentage_error')\n",
        "features_model.compile(optimizer=\"Adam\",loss=\"mean_absolute_percentage_error\")"
      ],
      "execution_count": null,
      "outputs": []
    },
    {
      "cell_type": "code",
      "metadata": {
        "id": "Ute42veJTIyz"
      },
      "source": [
        "model.fit(x=[train_features,train_images],y=train_prices,epochs=1000)\n"
      ],
      "execution_count": null,
      "outputs": []
    },
    {
      "cell_type": "code",
      "metadata": {
        "id": "j_SXgogXdMdy"
      },
      "source": [
        "features_model.fit(x=train_features,y=train_prices,epochs=1000)"
      ],
      "execution_count": null,
      "outputs": []
    },
    {
      "cell_type": "code",
      "metadata": {
        "id": "zzbuj_zQTWLi"
      },
      "source": [
        "model.evaluate([test_features,test_images],test_prices)\n",
        "features_model.evaluate(test_features,test_prices)"
      ],
      "execution_count": null,
      "outputs": []
    },
    {
      "cell_type": "code",
      "metadata": {
        "id": "jJAFd-3NYv2l"
      },
      "source": [
        "combined_predict=np.squeeze(model.predict([test_features[0:10],test_images[0:10]]))\n",
        "features_predict=np.squeeze(features_model.predict(test_features[0:10]))"
      ],
      "execution_count": null,
      "outputs": []
    },
    {
      "cell_type": "code",
      "metadata": {
        "id": "14lGckQrY35f"
      },
      "source": [
        "print(np.abs(test_prices[0:10]-features_predict)/test_prices[0:10])\n",
        "print(np.abs(test_prices[0:10]-combined_predict)/test_prices[0:10])"
      ],
      "execution_count": null,
      "outputs": []
    },
    {
      "cell_type": "code",
      "metadata": {
        "id": "k5jcIHtzZSuo"
      },
      "source": [
        ""
      ],
      "execution_count": null,
      "outputs": []
    }
  ]
}