{
  "nbformat": 4,
  "nbformat_minor": 0,
  "metadata": {
    "colab": {
      "name": "6zMixedData.ipynb",
      "provenance": [],
      "authorship_tag": "ABX9TyORoZr3CZB6saZi+8TqEUf3",
      "include_colab_link": true
    },
    "kernelspec": {
      "name": "python3",
      "display_name": "Python 3"
    }
  },
  "cells": [
    {
      "cell_type": "markdown",
      "metadata": {
        "id": "view-in-github",
        "colab_type": "text"
      },
      "source": [
        "<a href=\"https://colab.research.google.com/github/hikmatfarhat-ndu/CSC645/blob/master/6zMixedData.ipynb\" target=\"_parent\"><img src=\"https://colab.research.google.com/assets/colab-badge.svg\" alt=\"Open In Colab\"/></a>"
      ]
    },
    {
      "cell_type": "code",
      "metadata": {
        "id": "xir1Ek3CGKnI"
      },
      "source": [
        "import tensorflow as tf"
      ],
      "execution_count": 1,
      "outputs": []
    },
    {
      "cell_type": "code",
      "metadata": {
        "id": "PFGlUp4kGPfz"
      },
      "source": [
        "!git clone https://github.com/emanhamed/Houses-dataset\n"
      ],
      "execution_count": null,
      "outputs": []
    },
    {
      "cell_type": "code",
      "metadata": {
        "id": "48KwRMrkG2Ke"
      },
      "source": [
        "import pandas as pd\n",
        "df=pd.read_csv(\"Houses-dataset/Houses Dataset/HousesInfo.txt\",header=None,delim_whitespace=True,\n",
        "               names=[\"bedrooms\",\"bathrooms\",\"size\",\"zipcode\",\"price\"])"
      ],
      "execution_count": 2,
      "outputs": []
    },
    {
      "cell_type": "code",
      "metadata": {
        "id": "0bXxxKFJJ7Tr"
      },
      "source": [
        "df[0:10]"
      ],
      "execution_count": null,
      "outputs": []
    },
    {
      "cell_type": "markdown",
      "metadata": {
        "id": "lGr3NUeq2CHA"
      },
      "source": [
        "count the number of houses per zipcode"
      ]
    },
    {
      "cell_type": "code",
      "metadata": {
        "id": "J46BDxnCthyH"
      },
      "source": [
        "zipcodes=df['zipcode'].value_counts().keys().tolist()\n",
        "counts=df['zipcode'].value_counts().tolist()"
      ],
      "execution_count": 3,
      "outputs": []
    },
    {
      "cell_type": "markdown",
      "metadata": {
        "id": "5rtvHQzh2GKH"
      },
      "source": [
        "remove all the entries with zipcodes containing less than 20 houses"
      ]
    },
    {
      "cell_type": "code",
      "metadata": {
        "id": "uwiRENZ5t1j-"
      },
      "source": [
        "for count,zipcode in zip(counts,zipcodes):\n",
        "  if count<20:\n",
        "    idx=df[df['zipcode']==zipcode].index\n",
        "    df.drop(idx,inplace=True)"
      ],
      "execution_count": 4,
      "outputs": []
    },
    {
      "cell_type": "code",
      "metadata": {
        "id": "ASaS65if2Uxq"
      },
      "source": [
        "df[0:10]"
      ],
      "execution_count": null,
      "outputs": []
    },
    {
      "cell_type": "code",
      "metadata": {
        "id": "GpVKwv0e2nqk"
      },
      "source": [
        "import cv2\n",
        "\n",
        "image_list=[]\n",
        "prefix=\"Houses-dataset/Houses Dataset/\"\n",
        "suffix=\"_frontal.jpg\"\n",
        "for idx in df.index.tolist():\n",
        "  path=prefix+str(idx)+suffix\n",
        "  img=cv2.imread(path)\n",
        "  img=cv2.resize(img,(48,48))\n",
        "  image_list.append(img)"
      ],
      "execution_count": 5,
      "outputs": []
    },
    {
      "cell_type": "code",
      "metadata": {
        "id": "ucfzCiOMegoq"
      },
      "source": [
        "\n",
        "import numpy as np\n",
        "images=np.stack(image_list)"
      ],
      "execution_count": 6,
      "outputs": []
    },
    {
      "cell_type": "code",
      "metadata": {
        "id": "26jbazrd5eEc"
      },
      "source": [
        "images.shape"
      ],
      "execution_count": null,
      "outputs": []
    },
    {
      "cell_type": "code",
      "metadata": {
        "id": "ebuBnIQ_8PdG"
      },
      "source": [
        "images=images/255."
      ],
      "execution_count": 7,
      "outputs": []
    },
    {
      "cell_type": "code",
      "metadata": {
        "id": "kpC2Duph6VJv"
      },
      "source": [
        "values=df.values\n",
        "prices=values[:,4]\n",
        "max_price=prices.max()\n",
        "prices=prices/max_price\n",
        "\n",
        "bedrooms=values[:,0]\n",
        "bathrooms=values[:,1]\n",
        "size=values[:,2]\n",
        "max_size=size.max()\n",
        "size=size/max_size\n",
        "zipcodes=values[:,3]\n",
        "max_zipcodes=zipcodes.max()\n",
        "zipcodes=tf.one_hot(zipcodes,max_zipcodes).numpy()"
      ],
      "execution_count": 8,
      "outputs": []
    },
    {
      "cell_type": "code",
      "metadata": {
        "id": "kZPGNEt57haH",
        "outputId": "42c44ce1-59b5-4a32-ade4-eeae4047d84a",
        "colab": {
          "base_uri": "https://localhost:8080/"
        }
      },
      "source": [
        "#features=np.hstack([bedrooms,bathrooms,size,zipcodes])\n",
        "nsamples=384\n",
        "bathrooms=bathrooms.reshape(nsamples,1)\n",
        "bedrooms=bedrooms.reshape(nsamples,1)\n",
        "size=size.reshape(nsamples,1)\n",
        "features=np.hstack([bedrooms,bathrooms,size,zipcodes])\n",
        "features.shape"
      ],
      "execution_count": 9,
      "outputs": [
        {
          "output_type": "execute_result",
          "data": {
            "text/plain": [
              "(384, 94534)"
            ]
          },
          "metadata": {
            "tags": []
          },
          "execution_count": 9
        }
      ]
    },
    {
      "cell_type": "code",
      "metadata": {
        "id": "jigkzS507vPv"
      },
      "source": [
        "train_images=images[0:300]\n",
        "test_images=images[300:nsamples]\n",
        "train_features=features[0:300]\n",
        "test_features=features[300:nsamples]\n",
        "train_prices=prices[0:300]\n",
        "test_prices=prices[300:nsamples]\n"
      ],
      "execution_count": 10,
      "outputs": []
    },
    {
      "cell_type": "code",
      "metadata": {
        "id": "j8XgV7RL9H_P"
      },
      "source": [
        "from tensorflow.keras.layers import Dense,Input,concatenate,Flatten\n",
        "from tensorflow.keras.models import Model\n"
      ],
      "execution_count": 11,
      "outputs": []
    },
    {
      "cell_type": "code",
      "metadata": {
        "id": "iAnng4TFP8mW"
      },
      "source": [
        "def get_features_model():\n",
        "  features_input=Input(shape=(train_features.shape[1]),name=\"features_input\")\n",
        "  features_layers=Dense(32,activation=\"relu\")(features_input)\n",
        "  features_layers=Dense(16,activation=\"relu\")(features_layers)\n",
        "  features_output=Dense(1,activation=\"linear\",name=\"features_output\")(features_layers)\n",
        "  model=Model(inputs=features_input,outputs=features_output)\n",
        "  return model\n"
      ],
      "execution_count": 12,
      "outputs": []
    },
    {
      "cell_type": "code",
      "metadata": {
        "id": "qWpsSGV05oqY"
      },
      "source": [
        "def get_image_model():\n",
        "  image_input=Input(shape=(48,48,3),name=\"image_input\")\n",
        "  flatten=Flatten()(image_input)\n",
        "  image_layers=Dense(64,activation=\"relu\")(flatten)\n",
        "  image_layers=Dense(32,activation=\"relu\")(image_layers)\n",
        "  image_layers=Dense(16,activation=\"relu\")(image_layers)\n",
        "  image_output=Dense(1,activation=\"linear\",name='image_output')(image_layers)\n",
        "  model=Model(inputs=image_input,outputs=image_output)\n",
        "  return model"
      ],
      "execution_count": 13,
      "outputs": []
    },
    {
      "cell_type": "code",
      "metadata": {
        "id": "JK1aKLVj8k3B"
      },
      "source": [
        "features_model=get_features_model()"
      ],
      "execution_count": 14,
      "outputs": []
    },
    {
      "cell_type": "code",
      "metadata": {
        "id": "GCTqqZXCR46g"
      },
      "source": [
        "image_model=get_image_model()\n",
        "both=concatenate([features_model.output,image_model.output])\n",
        "both=Dense(10,activation='relu')(both)\n",
        "both=Dense(1,activation='linear',name='both_outputs')(both)\n",
        "model=Model(inputs=[features_model.input,image_model.input],outputs=[both,features_model.output])\n"
      ],
      "execution_count": 15,
      "outputs": []
    },
    {
      "cell_type": "code",
      "metadata": {
        "id": "3UNdpuKSTyM1",
        "outputId": "473d6bc0-148b-4711-89ad-f5e4d09d426f",
        "colab": {
          "base_uri": "https://localhost:8080/",
          "height": 976
        }
      },
      "source": [
        "tf.keras.utils.plot_model(model,show_shapes=True)"
      ],
      "execution_count": 16,
      "outputs": [
        {
          "output_type": "execute_result",
          "data": {
            "image/png": "[encoded data removed]",
            "text/plain": [
              "<IPython.core.display.Image object>"
            ]
          },
          "metadata": {
            "tags": []
          },
          "execution_count": 16
        }
      ]
    },
    {
      "cell_type": "code",
      "metadata": {
        "id": "OaYEk_Q1TBOu"
      },
      "source": [
        "opt=tf.keras.optimizers.Adam()\n",
        "model.compile(optimizer=opt,loss='mean_absolute_percentage_error')\n"
      ],
      "execution_count": 17,
      "outputs": []
    },
    {
      "cell_type": "code",
      "metadata": {
        "id": "Ute42veJTIyz",
        "outputId": "ab6a9062-47d0-4821-d60c-2c9879f9ff66",
        "colab": {
          "base_uri": "https://localhost:8080/"
        }
      },
      "source": [
        "model.fit(x=[train_features,train_images],y=train_prices,epochs=100)\n"
      ],
      "execution_count": 18,
      "outputs": [
        {
          "output_type": "stream",
          "text": [
            "Epoch 1/100\n",
            "10/10 [==============================] - 0s 28ms/step - loss: 1180.2697 - both_outputs_loss: 1100.2108 - features_output_loss: 80.0589\n",
            "Epoch 2/100\n",
            "10/10 [==============================] - 0s 28ms/step - loss: 868.3885 - both_outputs_loss: 796.4758 - features_output_loss: 71.9128\n",
            "Epoch 3/100\n",
            "10/10 [==============================] - 0s 28ms/step - loss: 231.5365 - both_outputs_loss: 195.8850 - features_output_loss: 35.6514\n",
            "Epoch 4/100\n",
            "10/10 [==============================] - 0s 28ms/step - loss: 145.1427 - both_outputs_loss: 104.6443 - features_output_loss: 40.4984\n",
            "Epoch 5/100\n",
            "10/10 [==============================] - 0s 28ms/step - loss: 92.2925 - both_outputs_loss: 60.3590 - features_output_loss: 31.9335\n",
            "Epoch 6/100\n",
            "10/10 [==============================] - 0s 28ms/step - loss: 78.6230 - both_outputs_loss: 47.1316 - features_output_loss: 31.4914\n",
            "Epoch 7/100\n",
            "10/10 [==============================] - 0s 29ms/step - loss: 71.6819 - both_outputs_loss: 45.1909 - features_output_loss: 26.4910\n",
            "Epoch 8/100\n",
            "10/10 [==============================] - 0s 29ms/step - loss: 67.8931 - both_outputs_loss: 42.1379 - features_output_loss: 25.7552\n",
            "Epoch 9/100\n",
            "10/10 [==============================] - 0s 29ms/step - loss: 67.4153 - both_outputs_loss: 40.8395 - features_output_loss: 26.5758\n",
            "Epoch 10/100\n",
            "10/10 [==============================] - 0s 28ms/step - loss: 67.4024 - both_outputs_loss: 42.3344 - features_output_loss: 25.0679\n",
            "Epoch 11/100\n",
            "10/10 [==============================] - 0s 28ms/step - loss: 69.9604 - both_outputs_loss: 43.1616 - features_output_loss: 26.7988\n",
            "Epoch 12/100\n",
            "10/10 [==============================] - 0s 27ms/step - loss: 64.9065 - both_outputs_loss: 39.4917 - features_output_loss: 25.4148\n",
            "Epoch 13/100\n",
            "10/10 [==============================] - 0s 28ms/step - loss: 65.5308 - both_outputs_loss: 40.3974 - features_output_loss: 25.1334\n",
            "Epoch 14/100\n",
            "10/10 [==============================] - 0s 28ms/step - loss: 62.7624 - both_outputs_loss: 36.7298 - features_output_loss: 26.0326\n",
            "Epoch 15/100\n",
            "10/10 [==============================] - 0s 27ms/step - loss: 58.7124 - both_outputs_loss: 34.0607 - features_output_loss: 24.6517\n",
            "Epoch 16/100\n",
            "10/10 [==============================] - 0s 28ms/step - loss: 62.2387 - both_outputs_loss: 36.9830 - features_output_loss: 25.2557\n",
            "Epoch 17/100\n",
            "10/10 [==============================] - 0s 28ms/step - loss: 63.4157 - both_outputs_loss: 37.8675 - features_output_loss: 25.5482\n",
            "Epoch 18/100\n",
            "10/10 [==============================] - 0s 27ms/step - loss: 64.3027 - both_outputs_loss: 38.8794 - features_output_loss: 25.4233\n",
            "Epoch 19/100\n",
            "10/10 [==============================] - 0s 28ms/step - loss: 61.5105 - both_outputs_loss: 36.3838 - features_output_loss: 25.1267\n",
            "Epoch 20/100\n",
            "10/10 [==============================] - 0s 28ms/step - loss: 53.1698 - both_outputs_loss: 29.3242 - features_output_loss: 23.8456\n",
            "Epoch 21/100\n",
            "10/10 [==============================] - 0s 30ms/step - loss: 54.0053 - both_outputs_loss: 30.3469 - features_output_loss: 23.6583\n",
            "Epoch 22/100\n",
            "10/10 [==============================] - 0s 28ms/step - loss: 56.2809 - both_outputs_loss: 31.4139 - features_output_loss: 24.8670\n",
            "Epoch 23/100\n",
            "10/10 [==============================] - 0s 29ms/step - loss: 49.3490 - both_outputs_loss: 24.7095 - features_output_loss: 24.6395\n",
            "Epoch 24/100\n",
            "10/10 [==============================] - 0s 28ms/step - loss: 49.4681 - both_outputs_loss: 25.2266 - features_output_loss: 24.2415\n",
            "Epoch 25/100\n",
            "10/10 [==============================] - 0s 28ms/step - loss: 47.2386 - both_outputs_loss: 23.9906 - features_output_loss: 23.2480\n",
            "Epoch 26/100\n",
            "10/10 [==============================] - 0s 29ms/step - loss: 47.0202 - both_outputs_loss: 22.8700 - features_output_loss: 24.1502\n",
            "Epoch 27/100\n",
            "10/10 [==============================] - 0s 28ms/step - loss: 48.0237 - both_outputs_loss: 24.7151 - features_output_loss: 23.3086\n",
            "Epoch 28/100\n",
            "10/10 [==============================] - 0s 27ms/step - loss: 51.8731 - both_outputs_loss: 27.8512 - features_output_loss: 24.0218\n",
            "Epoch 29/100\n",
            "10/10 [==============================] - 0s 29ms/step - loss: 46.6474 - both_outputs_loss: 22.5558 - features_output_loss: 24.0916\n",
            "Epoch 30/100\n",
            "10/10 [==============================] - 0s 28ms/step - loss: 44.0744 - both_outputs_loss: 21.2161 - features_output_loss: 22.8583\n",
            "Epoch 31/100\n",
            "10/10 [==============================] - 0s 28ms/step - loss: 43.4887 - both_outputs_loss: 21.1734 - features_output_loss: 22.3153\n",
            "Epoch 32/100\n",
            "10/10 [==============================] - 0s 28ms/step - loss: 45.3282 - both_outputs_loss: 22.4715 - features_output_loss: 22.8567\n",
            "Epoch 33/100\n",
            "10/10 [==============================] - 0s 28ms/step - loss: 42.5618 - both_outputs_loss: 20.0751 - features_output_loss: 22.4867\n",
            "Epoch 34/100\n",
            "10/10 [==============================] - 0s 28ms/step - loss: 42.1524 - both_outputs_loss: 19.9989 - features_output_loss: 22.1535\n",
            "Epoch 35/100\n",
            "10/10 [==============================] - 0s 28ms/step - loss: 52.8522 - both_outputs_loss: 29.4288 - features_output_loss: 23.4234\n",
            "Epoch 36/100\n",
            "10/10 [==============================] - 0s 28ms/step - loss: 49.2687 - both_outputs_loss: 26.2598 - features_output_loss: 23.0088\n",
            "Epoch 37/100\n",
            "10/10 [==============================] - 0s 29ms/step - loss: 42.4053 - both_outputs_loss: 19.8528 - features_output_loss: 22.5524\n",
            "Epoch 38/100\n",
            "10/10 [==============================] - 0s 28ms/step - loss: 48.5917 - both_outputs_loss: 26.2014 - features_output_loss: 22.3903\n",
            "Epoch 39/100\n",
            "10/10 [==============================] - 0s 29ms/step - loss: 48.6933 - both_outputs_loss: 24.8911 - features_output_loss: 23.8022\n",
            "Epoch 40/100\n",
            "10/10 [==============================] - 0s 28ms/step - loss: 46.1647 - both_outputs_loss: 22.5137 - features_output_loss: 23.6510\n",
            "Epoch 41/100\n",
            "10/10 [==============================] - 0s 28ms/step - loss: 44.2751 - both_outputs_loss: 21.8183 - features_output_loss: 22.4568\n",
            "Epoch 42/100\n",
            "10/10 [==============================] - 0s 30ms/step - loss: 43.5772 - both_outputs_loss: 21.5033 - features_output_loss: 22.0739\n",
            "Epoch 43/100\n",
            "10/10 [==============================] - 0s 29ms/step - loss: 42.5539 - both_outputs_loss: 20.3091 - features_output_loss: 22.2448\n",
            "Epoch 44/100\n",
            "10/10 [==============================] - 0s 28ms/step - loss: 43.8698 - both_outputs_loss: 21.7221 - features_output_loss: 22.1478\n",
            "Epoch 45/100\n",
            "10/10 [==============================] - 0s 29ms/step - loss: 42.5528 - both_outputs_loss: 21.4591 - features_output_loss: 21.0937\n",
            "Epoch 46/100\n",
            "10/10 [==============================] - 0s 28ms/step - loss: 45.0219 - both_outputs_loss: 22.9457 - features_output_loss: 22.0762\n",
            "Epoch 47/100\n",
            "10/10 [==============================] - 0s 27ms/step - loss: 48.3759 - both_outputs_loss: 25.3798 - features_output_loss: 22.9961\n",
            "Epoch 48/100\n",
            "10/10 [==============================] - 0s 29ms/step - loss: 41.2199 - both_outputs_loss: 20.0203 - features_output_loss: 21.1996\n",
            "Epoch 49/100\n",
            "10/10 [==============================] - 0s 27ms/step - loss: 43.4851 - both_outputs_loss: 21.6502 - features_output_loss: 21.8350\n",
            "Epoch 50/100\n",
            "10/10 [==============================] - 0s 27ms/step - loss: 41.8327 - both_outputs_loss: 19.8625 - features_output_loss: 21.9701\n",
            "Epoch 51/100\n",
            "10/10 [==============================] - 0s 28ms/step - loss: 44.7660 - both_outputs_loss: 22.9473 - features_output_loss: 21.8187\n",
            "Epoch 52/100\n",
            "10/10 [==============================] - 0s 30ms/step - loss: 47.0933 - both_outputs_loss: 24.7769 - features_output_loss: 22.3163\n",
            "Epoch 53/100\n",
            "10/10 [==============================] - 0s 27ms/step - loss: 41.3547 - both_outputs_loss: 20.1042 - features_output_loss: 21.2505\n",
            "Epoch 54/100\n",
            "10/10 [==============================] - 0s 28ms/step - loss: 40.0097 - both_outputs_loss: 18.7389 - features_output_loss: 21.2708\n",
            "Epoch 55/100\n",
            "10/10 [==============================] - 0s 29ms/step - loss: 42.3980 - both_outputs_loss: 20.8126 - features_output_loss: 21.5854\n",
            "Epoch 56/100\n",
            "10/10 [==============================] - 0s 28ms/step - loss: 41.1165 - both_outputs_loss: 19.8794 - features_output_loss: 21.2370\n",
            "Epoch 57/100\n",
            "10/10 [==============================] - 0s 28ms/step - loss: 40.3954 - both_outputs_loss: 20.0328 - features_output_loss: 20.3625\n",
            "Epoch 58/100\n",
            "10/10 [==============================] - 0s 29ms/step - loss: 40.5475 - both_outputs_loss: 20.0354 - features_output_loss: 20.5121\n",
            "Epoch 59/100\n",
            "10/10 [==============================] - 0s 27ms/step - loss: 39.0068 - both_outputs_loss: 18.4309 - features_output_loss: 20.5758\n",
            "Epoch 60/100\n",
            "10/10 [==============================] - 0s 28ms/step - loss: 40.4707 - both_outputs_loss: 19.3044 - features_output_loss: 21.1663\n",
            "Epoch 61/100\n",
            "10/10 [==============================] - 0s 29ms/step - loss: 38.4048 - both_outputs_loss: 17.6424 - features_output_loss: 20.7624\n",
            "Epoch 62/100\n",
            "10/10 [==============================] - 0s 27ms/step - loss: 40.9849 - both_outputs_loss: 19.6910 - features_output_loss: 21.2939\n",
            "Epoch 63/100\n",
            "10/10 [==============================] - 0s 28ms/step - loss: 38.5622 - both_outputs_loss: 18.2320 - features_output_loss: 20.3302\n",
            "Epoch 64/100\n",
            "10/10 [==============================] - 0s 29ms/step - loss: 44.0484 - both_outputs_loss: 23.0367 - features_output_loss: 21.0117\n",
            "Epoch 65/100\n",
            "10/10 [==============================] - 0s 28ms/step - loss: 43.3793 - both_outputs_loss: 22.0605 - features_output_loss: 21.3187\n",
            "Epoch 66/100\n",
            "10/10 [==============================] - 0s 29ms/step - loss: 39.5700 - both_outputs_loss: 19.1805 - features_output_loss: 20.3895\n",
            "Epoch 67/100\n",
            "10/10 [==============================] - 0s 29ms/step - loss: 39.1033 - both_outputs_loss: 18.7853 - features_output_loss: 20.3180\n",
            "Epoch 68/100\n",
            "10/10 [==============================] - 0s 29ms/step - loss: 41.2610 - both_outputs_loss: 20.5679 - features_output_loss: 20.6931\n",
            "Epoch 69/100\n",
            "10/10 [==============================] - 0s 28ms/step - loss: 41.4687 - both_outputs_loss: 19.9344 - features_output_loss: 21.5344\n",
            "Epoch 70/100\n",
            "10/10 [==============================] - 0s 29ms/step - loss: 39.1182 - both_outputs_loss: 18.4264 - features_output_loss: 20.6918\n",
            "Epoch 71/100\n",
            "10/10 [==============================] - 0s 28ms/step - loss: 40.2556 - both_outputs_loss: 19.5496 - features_output_loss: 20.7059\n",
            "Epoch 72/100\n",
            "10/10 [==============================] - 0s 29ms/step - loss: 40.9298 - both_outputs_loss: 20.2539 - features_output_loss: 20.6759\n",
            "Epoch 73/100\n",
            "10/10 [==============================] - 0s 29ms/step - loss: 43.8447 - both_outputs_loss: 23.6638 - features_output_loss: 20.1808\n",
            "Epoch 74/100\n",
            "10/10 [==============================] - 0s 29ms/step - loss: 41.1411 - both_outputs_loss: 21.1438 - features_output_loss: 19.9972\n",
            "Epoch 75/100\n",
            "10/10 [==============================] - 0s 30ms/step - loss: 42.4205 - both_outputs_loss: 21.7352 - features_output_loss: 20.6853\n",
            "Epoch 76/100\n",
            "10/10 [==============================] - 0s 29ms/step - loss: 39.2255 - both_outputs_loss: 18.6685 - features_output_loss: 20.5570\n",
            "Epoch 77/100\n",
            "10/10 [==============================] - 0s 28ms/step - loss: 37.1658 - both_outputs_loss: 17.2526 - features_output_loss: 19.9132\n",
            "Epoch 78/100\n",
            "10/10 [==============================] - 0s 28ms/step - loss: 36.8880 - both_outputs_loss: 17.0981 - features_output_loss: 19.7899\n",
            "Epoch 79/100\n",
            "10/10 [==============================] - 0s 28ms/step - loss: 40.5365 - both_outputs_loss: 20.1454 - features_output_loss: 20.3911\n",
            "Epoch 80/100\n",
            "10/10 [==============================] - 0s 28ms/step - loss: 40.2932 - both_outputs_loss: 20.2384 - features_output_loss: 20.0548\n",
            "Epoch 81/100\n",
            "10/10 [==============================] - 0s 28ms/step - loss: 38.4962 - both_outputs_loss: 18.3096 - features_output_loss: 20.1866\n",
            "Epoch 82/100\n",
            "10/10 [==============================] - 0s 28ms/step - loss: 41.6928 - both_outputs_loss: 21.3108 - features_output_loss: 20.3820\n",
            "Epoch 83/100\n",
            "10/10 [==============================] - 0s 28ms/step - loss: 37.6609 - both_outputs_loss: 17.4124 - features_output_loss: 20.2485\n",
            "Epoch 84/100\n",
            "10/10 [==============================] - 0s 29ms/step - loss: 42.4628 - both_outputs_loss: 21.5550 - features_output_loss: 20.9078\n",
            "Epoch 85/100\n",
            "10/10 [==============================] - 0s 28ms/step - loss: 52.4623 - both_outputs_loss: 31.0372 - features_output_loss: 21.4251\n",
            "Epoch 86/100\n",
            "10/10 [==============================] - 0s 28ms/step - loss: 49.8009 - both_outputs_loss: 26.7452 - features_output_loss: 23.0557\n",
            "Epoch 87/100\n",
            "10/10 [==============================] - 0s 30ms/step - loss: 41.0827 - both_outputs_loss: 20.3076 - features_output_loss: 20.7751\n",
            "Epoch 88/100\n",
            "10/10 [==============================] - 0s 28ms/step - loss: 40.5798 - both_outputs_loss: 19.6025 - features_output_loss: 20.9774\n",
            "Epoch 89/100\n",
            "10/10 [==============================] - 0s 28ms/step - loss: 44.6859 - both_outputs_loss: 24.2972 - features_output_loss: 20.3887\n",
            "Epoch 90/100\n",
            "10/10 [==============================] - 0s 28ms/step - loss: 39.9262 - both_outputs_loss: 18.5081 - features_output_loss: 21.4181\n",
            "Epoch 91/100\n",
            "10/10 [==============================] - 0s 28ms/step - loss: 38.5553 - both_outputs_loss: 18.4074 - features_output_loss: 20.1479\n",
            "Epoch 92/100\n",
            "10/10 [==============================] - 0s 28ms/step - loss: 37.1533 - both_outputs_loss: 17.4371 - features_output_loss: 19.7162\n",
            "Epoch 93/100\n",
            "10/10 [==============================] - 0s 30ms/step - loss: 41.7455 - both_outputs_loss: 21.3962 - features_output_loss: 20.3493\n",
            "Epoch 94/100\n",
            "10/10 [==============================] - 0s 28ms/step - loss: 37.7076 - both_outputs_loss: 17.9429 - features_output_loss: 19.7647\n",
            "Epoch 95/100\n",
            "10/10 [==============================] - 0s 28ms/step - loss: 37.3681 - both_outputs_loss: 16.7525 - features_output_loss: 20.6156\n",
            "Epoch 96/100\n",
            "10/10 [==============================] - 0s 29ms/step - loss: 36.8695 - both_outputs_loss: 16.4262 - features_output_loss: 20.4433\n",
            "Epoch 97/100\n",
            "10/10 [==============================] - 0s 28ms/step - loss: 36.6222 - both_outputs_loss: 16.6219 - features_output_loss: 20.0003\n",
            "Epoch 98/100\n",
            "10/10 [==============================] - 0s 28ms/step - loss: 36.7223 - both_outputs_loss: 16.4287 - features_output_loss: 20.2936\n",
            "Epoch 99/100\n",
            "10/10 [==============================] - 0s 29ms/step - loss: 37.6880 - both_outputs_loss: 17.7983 - features_output_loss: 19.8897\n",
            "Epoch 100/100\n",
            "10/10 [==============================] - 0s 27ms/step - loss: 36.2136 - both_outputs_loss: 16.2679 - features_output_loss: 19.9457\n"
          ],
          "name": "stdout"
        },
        {
          "output_type": "execute_result",
          "data": {
            "text/plain": [
              "<tensorflow.python.keras.callbacks.History at 0x7f9526dedda0>"
            ]
          },
          "metadata": {
            "tags": []
          },
          "execution_count": 18
        }
      ]
    },
    {
      "cell_type": "code",
      "metadata": {
        "id": "zzbuj_zQTWLi",
        "outputId": "64a0e911-7992-4895-b83b-36d688c6ef49",
        "colab": {
          "base_uri": "https://localhost:8080/"
        }
      },
      "source": [
        "model.evaluate([test_features,test_images],test_prices)\n"
      ],
      "execution_count": 19,
      "outputs": [
        {
          "output_type": "stream",
          "text": [
            "3/3 [==============================] - 0s 5ms/step - loss: 48.8988 - both_outputs_loss: 24.9606 - features_output_loss: 23.9382\n"
          ],
          "name": "stdout"
        },
        {
          "output_type": "execute_result",
          "data": {
            "text/plain": [
              "[48.89879608154297, 24.96062660217285, 23.938169479370117]"
            ]
          },
          "metadata": {
            "tags": []
          },
          "execution_count": 19
        }
      ]
    },
    {
      "cell_type": "code",
      "metadata": {
        "id": "jJAFd-3NYv2l",
        "outputId": "ba56aed6-d822-4cb8-b7fd-e35ba1955797",
        "colab": {
          "base_uri": "https://localhost:8080/"
        }
      },
      "source": [
        "predict=np.squeeze(model.predict([test_features[0:6],test_images[0:6]]))\n",
        "print(predict[0]*max_price)\n",
        "print(test_prices[0:6]*max_price)\n",
        "print(predict[1]*max_price)"
      ],
      "execution_count": 33,
      "outputs": [
        {
          "output_type": "stream",
          "text": [
            "[618427.9  749176.06 629517.9  534121.3  414918.72 717006.94]\n",
            "[699000. 639000. 630000. 541000. 529000. 680000.]\n",
            "[673366.56 675564.8  590756.75 519887.97 413360.44 721341.6 ]\n"
          ],
          "name": "stdout"
        }
      ]
    },
    {
      "cell_type": "code",
      "metadata": {
        "id": "k5jcIHtzZSuo",
        "outputId": "4cb65d0e-1eb3-4143-b379-00e86bd88caa",
        "colab": {
          "base_uri": "https://localhost:8080/"
        }
      },
      "source": [
        "print(100*np.abs(test_prices[0:6]-combined_predict[0])/test_prices[0:6])\n",
        "print(100*np.abs(test_prices[0:6]-combined_predict[1])/test_prices[0:6])"
      ],
      "execution_count": 34,
      "outputs": [
        {
          "output_type": "stream",
          "text": [
            "[11.5267666  17.24195219  0.07652792  1.27148036 21.56546196  5.44219701]\n",
            "[ 3.66715469  5.72219687  6.22908873  3.90240858 21.86003197  6.07965239]\n"
          ],
          "name": "stdout"
        }
      ]
    },
    {
      "cell_type": "code",
      "metadata": {
        "id": "OJZH5fg9joHL"
      },
      "source": [
        ""
      ],
      "execution_count": null,
      "outputs": []
    }
  ]
}