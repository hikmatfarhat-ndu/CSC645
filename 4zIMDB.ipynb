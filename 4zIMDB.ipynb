{
  "nbformat": 4,
  "nbformat_minor": 0,
  "metadata": {
    "colab": {
      "name": "IMDB.ipynb",
      "provenance": [],
      "authorship_tag": "ABX9TyPttilcxF+n1RHC4X5nw4VR",
      "include_colab_link": true
    },
    "kernelspec": {
      "name": "python3",
      "display_name": "Python 3"
    },
    "accelerator": "GPU"
  },
  "cells": [
    {
      "cell_type": "markdown",
      "metadata": {
        "id": "view-in-github",
        "colab_type": "text"
      },
      "source": [
        "<a href=\"https://colab.research.google.com/github/hikmatfarhat-ndu/CSC645/blob/master/4zIMDB.ipynb\" target=\"_parent\"><img src=\"https://colab.research.google.com/assets/colab-badge.svg\" alt=\"Open In Colab\"/></a>"
      ]
    },
    {
      "cell_type": "markdown",
      "metadata": {
        "id": "yjyzzSPFsoIy"
      },
      "source": [
        "# Predicting Movie Reviews\n",
        "\n",
        "In this exercise we are given a set of IMDB movie reviews and we train our model to predict other reviews. The output of the review is either positive or negative so it is a binary classification problem like the ship/not ship problem we dealt with before"
      ]
    },
    {
      "cell_type": "code",
      "metadata": {
        "id": "AxlaPRhjYIOj"
      },
      "source": [
        "import tensorflow as tf\n",
        "from tensorflow.keras.preprocessing.sequence import pad_sequences\n",
        "from tensorflow.keras.datasets import imdb\n",
        "import numpy as np\n",
        "#import cupy as np\n",
        "from keras.utils import to_categorical\n",
        "\n"
      ],
      "execution_count": 1,
      "outputs": []
    },
    {
      "cell_type": "markdown",
      "metadata": {
        "id": "dUvFJR-vkYNh"
      },
      "source": [
        "## The data\n",
        "\n",
        "THe movie review dataset is a set of 50000 reviews of movies (half training, half test). Each review contains a set of words and is labeled positive (1) or negative (0). For convenience each word index refer to its frequency of occurence in the dataset. For example a word with index 5 is the fifth most frequently used data set. The indices 0,1 and 2 are reserved so 5 really means the third most frequent.\n",
        "\n",
        "Details about the dataset can be found here [Keras IMDB](https://keras.io/api/datasets/imdb/)\n",
        "\n",
        "In this exercise we choose only the first 10000 most frequent words to be included. Any word that is not among them is given the index 2.\n",
        "\n",
        "First we load data set without omitting any words"
      ]
    },
    {
      "cell_type": "markdown",
      "metadata": {
        "id": "XX_34kZwx7bp"
      },
      "source": [
        "### Data details\n",
        "\n",
        "We would like to have an idea about the number of reviews, the average length of a review. Also we compute how many entries with values 0,1,2 and 3. The number 0 is used for padding and 1 to denote the beginning of each sequence. The number 2 is used for missing words. Finally, the number 3 is never used since as you will see later we will shift the indices by 3."
      ]
    },
    {
      "cell_type": "code",
      "metadata": {
        "id": "l2VxN9cJyNez",
        "outputId": "1c0868aa-c4c6-49d2-8377-791a272e8536",
        "colab": {
          "base_uri": "https://localhost:8080/",
          "height": 225
        }
      },
      "source": [
        "(x_train,y_train),(x_test,y_test)=tf.keras.datasets.imdb.load_data()\n",
        "\n",
        "print(\"The number of reviews in the x_train data set = {}\\n\".format(x_train.shape[0]))\n",
        "print(\"The average length of reviews = {}\".format(np.mean([len(x) for x in x_train])))\n",
        "print(\"With standard deviation = {}\".format(np.std([len(x) for x in x_train])))\n",
        "print(\"The number of 0's in the x_train data set = {}\\n\".format(sum([1 for x in np.hstack(x_train) if x==0])))\n",
        "print(\"The number of 1's in the x_train data set = {}\\n\".format(sum([1 for x in np.hstack(x_train) if x==1])))\n",
        "print(\"The number of 2's in the x_train data set = {}\\n\".format(sum([1 for x in np.hstack(x_train) if x==2])))\n",
        "print(\"The number of 3's in the x_train data set = {}\\n\".format(sum([1 for x in np.hstack(x_train) if x==3])))"
      ],
      "execution_count": null,
      "outputs": [
        {
          "output_type": "stream",
          "text": [
            "The number of reviews in the x_train data set = 25000\n",
            "\n",
            "The average length of reviews = 238.71364\n",
            "With standard deviation = 176.49367364852034\n",
            "The number of 0's in the x_train data set = 0\n",
            "\n",
            "The number of 1's in the x_train data set = 25000\n",
            "\n",
            "The number of 2's in the x_train data set = 1\n",
            "\n",
            "The number of 3's in the x_train data set = 0\n",
            "\n"
          ],
          "name": "stdout"
        }
      ]
    },
    {
      "cell_type": "markdown",
      "metadata": {
        "id": "ql1rL9j80jgO"
      },
      "source": [
        "Now when we choose only the first _max_words_ most frequent words and compute the number of 2's in the data set. As you can see the number of 2's is now very large since all the \"ignored\" words were given the code 2."
      ]
    },
    {
      "cell_type": "code",
      "metadata": {
        "id": "fBaHMaLXYSQT",
        "outputId": "eafea4fb-1f5e-4b87-de4d-d7ab0175df02",
        "colab": {
          "base_uri": "https://localhost:8080/"
        }
      },
      "source": [
        "max_words=5000\n",
        "(x_train,y_train),(x_test,y_test)=imdb.load_data(num_words=max_words)\n",
        "print(\"The number of 2's in the x_train data set = {}\\n\".format(sum([1 for x in np.hstack(x_train) if x==2])))"
      ],
      "execution_count": 2,
      "outputs": [
        {
          "output_type": "stream",
          "text": [
            "Downloading data from https://storage.googleapis.com/tensorflow/tf-keras-datasets/imdb.npz\n",
            "17465344/17464789 [==============================] - 0s 0us/step\n",
            "The number of 2's in the x_train data set = 592372\n",
            "\n"
          ],
          "name": "stdout"
        }
      ]
    },
    {
      "cell_type": "markdown",
      "metadata": {
        "id": "n9Sm_zbolngj"
      },
      "source": [
        "### Word index\n",
        "\n",
        "Keras provides also a dictionary of word to index. We don't need it for training but it helps us get an idea what the reviews are saying in plain English. From that we build a dictionary of index to words. We use the index_to_word to display the first review in the data set."
      ]
    },
    {
      "cell_type": "code",
      "metadata": {
        "id": "5sKLW9l0YoYE",
        "outputId": "86ba2fd2-628c-422c-e194-8f4bc15effb5",
        "colab": {
          "base_uri": "https://localhost:8080/"
        }
      },
      "source": [
        "\n",
        "word_to_index=imdb.get_word_index()\n",
        "index_to_word=dict([(key,val) for (val,key) in word_to_index.items()])\n",
        "review = \" \".join( [index_to_word.get(i - 3, \"***\") for i in x_train[0]] )\n",
        "print(review)\n",
        "\n",
        "\n",
        "\n",
        "\n",
        "\n"
      ],
      "execution_count": 3,
      "outputs": [
        {
          "output_type": "stream",
          "text": [
            "Downloading data from https://storage.googleapis.com/tensorflow/tf-keras-datasets/imdb_word_index.json\n",
            "1646592/1641221 [==============================] - 0s 0us/step\n",
            "*** this film was just brilliant casting location scenery story direction everyone's really suited the part they played and you could just imagine being there robert *** is an amazing actor and now the same being director *** father came from the same scottish island as myself so i loved the fact there was a real connection with this film the witty remarks throughout the film were great it was just brilliant so much that i bought the film as soon as it was released for *** and would recommend it to everyone to watch and the fly *** was amazing really cried at the end it was so sad and you know what they say if you cry at a film it must have been good and this definitely was also *** to the two little *** that played the *** of norman and paul they were just brilliant children are often left out of the *** list i think because the stars that play them all grown up are such a big *** for the whole film but these children are amazing and should be *** for what they have done don't you think the whole story was so lovely because it was true and was someone's life after all that was *** with us all\n"
          ],
          "name": "stdout"
        }
      ]
    },
    {
      "cell_type": "markdown",
      "metadata": {
        "id": "bqB0XxTDtS8G"
      },
      "source": [
        "## One hot Encoding\n",
        "\n",
        "Even though this problem is similar to the image classification problem that we saw we cannot feed the word indices to our model directly. First, not all the reviews are the same length. Second, the same word in different reviews can occur at different position. For exam the two reviews \" that was a good movie\" and \"That movie was good\" will be interpreted differently because the **same** words occur at different positions. So we need to do the following\n",
        "\n",
        "1. Truncate or pad all reviews to contain the same number of words\n",
        "1. Make sure the same word occurs at the same position in every review. This we do by using one hot encoding.\n",
        "\n",
        "Suppose that our vocabulary contains only 3 words labeled 1,2 and 3. Further, suppose that two reviews have the values [2,1]  and [1,2] respectively then the one hot representation of both is the same:\n",
        "[1,1,0] i.e. words 1 and 2 are present but 3 is missing\n",
        "\n",
        "**NOTE** our representation is not very efficient. A better approach is to use **word embedding** which we don't use here.\n",
        "\n"
      ]
    },
    {
      "cell_type": "markdown",
      "metadata": {
        "id": "owyL7pdcDqzq"
      },
      "source": [
        "## Implementation Details\n",
        "\n",
        "The indices of a numpy tensor can be arrays. For example suppose that we are given an array A of size _n_ filled with zeros and we need to set the values at positions 1,13,27 with 1. We can perform the operation in one statement as A[[1,13,27]]=1. Knowing that the function one_hot below goes through every review which is a array of indices and sets the corresponding positions to 1."
      ]
    },
    {
      "cell_type": "code",
      "metadata": {
        "id": "kYprPNE5S-LD",
        "outputId": "1034f6d0-30f2-477d-a6eb-c63975eaeb22",
        "colab": {
          "base_uri": "https://localhost:8080/"
        }
      },
      "source": [
        "\n",
        "\n",
        "def one_hot(reviews, nb_words = max_words):\n",
        " res = np.zeros((len(reviews), nb_words))\n",
        " for i, review in enumerate(reviews):\n",
        "  res[i, review] = 1\n",
        " return res\n",
        "\n",
        "x_train_one_hot=one_hot(x_train)\n",
        "x_test_one_hot=one_hot(x_test)\n",
        "print(x_train.shape)\n"
      ],
      "execution_count": 4,
      "outputs": [
        {
          "output_type": "stream",
          "text": [
            "(25000,)\n"
          ],
          "name": "stdout"
        }
      ]
    },
    {
      "cell_type": "code",
      "metadata": {
        "id": "nwic_ig4Fdt3",
        "outputId": "4752b55f-b4be-4bf5-fe74-b3ad0cd80a14",
        "colab": {
          "base_uri": "https://localhost:8080/"
        }
      },
      "source": [
        "model=tf.keras.models.Sequential()\n",
        "model.add(tf.keras.layers.Dense(1,input_shape=(x_train_one_hot.shape[1],),activation=\"sigmoid\"))\n",
        "model.summary()\n",
        "model.compile(optimizer=\"Adam\",loss=\"binary_crossentropy\",\n",
        "    metrics=[\"accuracy\"])\n",
        "history = model.fit(\n",
        "    x_train_one_hot,\n",
        "    y_train,\n",
        "    batch_size=500,\n",
        "    epochs=10)"
      ],
      "execution_count": 5,
      "outputs": [
        {
          "output_type": "stream",
          "text": [
            "Model: \"sequential\"\n",
            "_________________________________________________________________\n",
            "Layer (type)                 Output Shape              Param #   \n",
            "=================================================================\n",
            "dense (Dense)                (None, 1)                 5001      \n",
            "=================================================================\n",
            "Total params: 5,001\n",
            "Trainable params: 5,001\n",
            "Non-trainable params: 0\n",
            "_________________________________________________________________\n",
            "Epoch 1/10\n",
            "50/50 [==============================] - 0s 6ms/step - loss: 0.6149 - accuracy: 0.7135\n",
            "Epoch 2/10\n",
            "50/50 [==============================] - 0s 5ms/step - loss: 0.4950 - accuracy: 0.8370\n",
            "Epoch 3/10\n",
            "50/50 [==============================] - 0s 6ms/step - loss: 0.4308 - accuracy: 0.8634\n",
            "Epoch 4/10\n",
            "50/50 [==============================] - 0s 5ms/step - loss: 0.3894 - accuracy: 0.8770\n",
            "Epoch 5/10\n",
            "50/50 [==============================] - 0s 5ms/step - loss: 0.3602 - accuracy: 0.8840\n",
            "Epoch 6/10\n",
            "50/50 [==============================] - 0s 6ms/step - loss: 0.3379 - accuracy: 0.8902\n",
            "Epoch 7/10\n",
            "50/50 [==============================] - 0s 6ms/step - loss: 0.3203 - accuracy: 0.8961\n",
            "Epoch 8/10\n",
            "50/50 [==============================] - 0s 5ms/step - loss: 0.3060 - accuracy: 0.9010\n",
            "Epoch 9/10\n",
            "50/50 [==============================] - 0s 5ms/step - loss: 0.2939 - accuracy: 0.9036\n",
            "Epoch 10/10\n",
            "50/50 [==============================] - 0s 5ms/step - loss: 0.2837 - accuracy: 0.9070\n"
          ],
          "name": "stdout"
        }
      ]
    },
    {
      "cell_type": "code",
      "metadata": {
        "id": "eweJcr0YmHV7",
        "outputId": "9884c9a4-a74d-4669-e38c-bd259e9eaf7e",
        "colab": {
          "base_uri": "https://localhost:8080/"
        }
      },
      "source": [
        "model.evaluate(x_test_one_hot,y_test)\n"
      ],
      "execution_count": 7,
      "outputs": [
        {
          "output_type": "stream",
          "text": [
            "782/782 [==============================] - 1s 2ms/step - loss: 0.3226 - accuracy: 0.8810\n",
            "[[0.40044788]\n",
            " [0.9959602 ]\n",
            " [0.7912567 ]\n",
            " ...\n",
            " [0.18474516]\n",
            " [0.32757145]\n",
            " [0.5496577 ]]\n",
            "0\n"
          ],
          "name": "stdout"
        }
      ]
    },
    {
      "cell_type": "code",
      "metadata": {
        "id": "9Lh9JPjqmhDy",
        "outputId": "5d25b438-d212-401c-d6be-4a2a161c7002",
        "colab": {
          "base_uri": "https://localhost:8080/"
        }
      },
      "source": [
        "y=model.predict(x_test_one_hot)\n",
        "\n",
        "print(y.shape)\n",
        "sent=y>=0.5 \n",
        "print(np.squeeze(sent[0:15]))\n",
        "print(y_test[0:15])"
      ],
      "execution_count": 19,
      "outputs": [
        {
          "output_type": "stream",
          "text": [
            "(25000, 1)\n",
            "[False  True  True  True  True  True  True False  True  True  True False\n",
            " False False  True]\n",
            "[0 1 1 0 1 1 1 0 0 1 1 0 0 0 1]\n"
          ],
          "name": "stdout"
        }
      ]
    },
    {
      "cell_type": "markdown",
      "metadata": {
        "id": "ItUdg_xKEvfA"
      },
      "source": [
        "## Word Embedding\n",
        "\n",
        "A better approach is to use word embedding. First we truncate/pad all reviews to the same length using the pad_sequences function from Keras. Then we add an Embedding layer as the first layer in our model."
      ]
    },
    {
      "cell_type": "markdown",
      "metadata": {
        "id": "vhj6BKTLI6UZ"
      },
      "source": [
        "### EXAMPLE"
      ]
    },
    {
      "cell_type": "code",
      "metadata": {
        "id": "6inT2mdzI5Rl"
      },
      "source": [
        "model = tf.keras.Sequential()\n",
        "model.add(tf.keras.layers.Embedding(6, 1, input_length=4))\n",
        "#model.add(tf.keras.layers.Flatten())\n",
        "#input_array = np.random.randint(10, size=(3, 4))\n",
        "input_array=np.array([[1,2,3,4],[4,3,2,1],[3,3,4,5]])\n",
        "model.compile('rmsprop', 'mse')\n",
        "output_array = model.predict(input_array)\n",
        "print(output_array.shape)\n",
        "print(output_array)"
      ],
      "execution_count": null,
      "outputs": []
    },
    {
      "cell_type": "markdown",
      "metadata": {
        "id": "81dCUlWSI8v_"
      },
      "source": [
        "## The Model"
      ]
    },
    {
      "cell_type": "code",
      "metadata": {
        "id": "OYBCzczk8afa",
        "outputId": "2bce41f6-48bc-4480-f256-cbe56dafda58",
        "colab": {
          "base_uri": "https://localhost:8080/",
          "height": 953
        }
      },
      "source": [
        "x_train=pad_sequences(x_train,maxlen=500)\n",
        "x_test=pad_sequences(x_test,maxlen=500)\n",
        "\n",
        "model=tf.keras.models.Sequential()\n",
        "model.add(tf.keras.layers.Embedding(max_words,32,input_length=500))\n",
        "model.add(tf.keras.layers.Flatten())\n",
        "model.add(tf.keras.layers.Dense(1,activation=\"sigmoid\"))\n",
        "model.summary()\n",
        "model.compile(optimizer=tf.keras.optimizers.Adam(),loss=tf.keras.losses.BinaryCrossentropy(),\n",
        "    metrics=[\"accuracy\"])\n",
        "history = model.fit(\n",
        "    x_train,\n",
        "    y_train,\n",
        "    batch_size=500,\n",
        "    epochs=20)\n"
      ],
      "execution_count": null,
      "outputs": [
        {
          "output_type": "stream",
          "text": [
            "Model: \"sequential_19\"\n",
            "_________________________________________________________________\n",
            "Layer (type)                 Output Shape              Param #   \n",
            "=================================================================\n",
            "embedding_19 (Embedding)     (None, 500, 32)           160000    \n",
            "_________________________________________________________________\n",
            "flatten_18 (Flatten)         (None, 16000)             0         \n",
            "_________________________________________________________________\n",
            "dense_18 (Dense)             (None, 1)                 16001     \n",
            "=================================================================\n",
            "Total params: 176,001\n",
            "Trainable params: 176,001\n",
            "Non-trainable params: 0\n",
            "_________________________________________________________________\n",
            "Epoch 1/20\n",
            "50/50 [==============================] - 1s 20ms/step - loss: 0.6795 - accuracy: 0.5668\n",
            "Epoch 2/20\n",
            "50/50 [==============================] - 1s 20ms/step - loss: 0.5198 - accuracy: 0.7863\n",
            "Epoch 3/20\n",
            "50/50 [==============================] - 1s 20ms/step - loss: 0.3314 - accuracy: 0.8761\n",
            "Epoch 4/20\n",
            "50/50 [==============================] - 1s 21ms/step - loss: 0.2576 - accuracy: 0.9050\n",
            "Epoch 5/20\n",
            "50/50 [==============================] - 1s 20ms/step - loss: 0.2167 - accuracy: 0.9226\n",
            "Epoch 6/20\n",
            "50/50 [==============================] - 1s 20ms/step - loss: 0.1876 - accuracy: 0.9345\n",
            "Epoch 7/20\n",
            "50/50 [==============================] - 1s 20ms/step - loss: 0.1633 - accuracy: 0.9457\n",
            "Epoch 8/20\n",
            "50/50 [==============================] - 1s 20ms/step - loss: 0.1429 - accuracy: 0.9560\n",
            "Epoch 9/20\n",
            "50/50 [==============================] - 1s 20ms/step - loss: 0.1235 - accuracy: 0.9647\n",
            "Epoch 10/20\n",
            "50/50 [==============================] - 1s 20ms/step - loss: 0.1072 - accuracy: 0.9723\n",
            "Epoch 11/20\n",
            "50/50 [==============================] - 1s 20ms/step - loss: 0.0933 - accuracy: 0.9788\n",
            "Epoch 12/20\n",
            "50/50 [==============================] - 1s 20ms/step - loss: 0.0791 - accuracy: 0.9854\n",
            "Epoch 13/20\n",
            "50/50 [==============================] - 1s 20ms/step - loss: 0.0676 - accuracy: 0.9886\n",
            "Epoch 14/20\n",
            "50/50 [==============================] - 1s 21ms/step - loss: 0.0573 - accuracy: 0.9921\n",
            "Epoch 15/20\n",
            "50/50 [==============================] - 1s 20ms/step - loss: 0.0491 - accuracy: 0.9940\n",
            "Epoch 16/20\n",
            "50/50 [==============================] - 1s 20ms/step - loss: 0.0417 - accuracy: 0.9960\n",
            "Epoch 17/20\n",
            "50/50 [==============================] - 1s 20ms/step - loss: 0.0361 - accuracy: 0.9971\n",
            "Epoch 18/20\n",
            "50/50 [==============================] - 1s 20ms/step - loss: 0.0308 - accuracy: 0.9981\n",
            "Epoch 19/20\n",
            "50/50 [==============================] - 1s 20ms/step - loss: 0.0264 - accuracy: 0.9989\n",
            "Epoch 20/20\n",
            "50/50 [==============================] - 1s 20ms/step - loss: 0.0230 - accuracy: 0.9992\n"
          ],
          "name": "stdout"
        }
      ]
    }
  ]
}