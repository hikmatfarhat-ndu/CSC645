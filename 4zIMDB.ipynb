{
  "nbformat": 4,
  "nbformat_minor": 0,
  "metadata": {
    "colab": {
      "name": "IMDB.ipynb",
      "provenance": [],
      "authorship_tag": "ABX9TyPvMcISL8zdNX4n07CYwM25",
      "include_colab_link": true
    },
    "kernelspec": {
      "name": "python3",
      "display_name": "Python 3"
    },
    "accelerator": "GPU"
  },
  "cells": [
    {
      "cell_type": "markdown",
      "metadata": {
        "id": "view-in-github",
        "colab_type": "text"
      },
      "source": [
        "<a href=\"https://colab.research.google.com/github/hikmatfarhat-ndu/CSC645/blob/master/4zIMDB.ipynb\" target=\"_parent\"><img src=\"https://colab.research.google.com/assets/colab-badge.svg\" alt=\"Open In Colab\"/></a>"
      ]
    },
    {
      "cell_type": "markdown",
      "metadata": {
        "id": "cn14FvrTaltK"
      },
      "source": [
        "# Keras\n",
        "\n",
        "\n",
        "In this notebook we will learn to use the high-level framework Keras for building neural networks. From now on this will be our default framework to solve ML problems"
      ]
    },
    {
      "cell_type": "markdown",
      "metadata": {
        "id": "yjyzzSPFsoIy"
      },
      "source": [
        "# Predicting Movie Reviews\n",
        "\n",
        "In this exercise we are given a set of IMDB movie reviews and we train our model to predict other reviews. The output of the review is either positive or negative so it is a binary classification problem like the ship/not ship problem we dealt with before"
      ]
    },
    {
      "cell_type": "code",
      "metadata": {
        "id": "AxlaPRhjYIOj"
      },
      "source": [
        "import tensorflow as tf\n",
        "from tensorflow.keras.preprocessing.sequence import pad_sequences\n",
        "from tensorflow.keras.datasets import imdb\n",
        "import numpy as np\n",
        "#import cupy as np\n",
        "from keras.utils import to_categorical\n",
        "\n"
      ],
      "execution_count": 1,
      "outputs": []
    },
    {
      "cell_type": "markdown",
      "metadata": {
        "id": "dUvFJR-vkYNh"
      },
      "source": [
        "## The data\n",
        "\n",
        "The movie review dataset is a set of 50000 reviews of movies (half training, half test). Each review contains a set of words and is labeled positive (1) or negative (0). For convenience each word index refer to its frequency of occurence in the dataset. For example a word with index 5 is the fifth most frequently used data set. The indices 0,1 and 2 are reserved so 5 really means the third most frequent.\n",
        "\n",
        "Details about the dataset can be found here [Keras IMDB](https://keras.io/api/datasets/imdb/)\n",
        "\n",
        "In this exercise we choose only the first 10000 most frequent words to be included. Any word that is not among them is given the index 2.\n",
        "\n",
        "First we load data set without omitting any words"
      ]
    },
    {
      "cell_type": "markdown",
      "metadata": {
        "id": "XX_34kZwx7bp"
      },
      "source": [
        "### Data details\n",
        "\n",
        "We would like to have an idea about the number of reviews, the average length of a review. Also we compute how many entries with values 0,1,2 and 3. The number 0 is used for padding and 1 to denote the beginning of each sequence. The number 2 is used for missing words. Finally, the number 3 is never used since as you will see later we will shift the indices by 3."
      ]
    },
    {
      "cell_type": "code",
      "metadata": {
        "id": "l2VxN9cJyNez",
        "outputId": "75bd47f1-34db-4f83-cc12-e689604352c5",
        "colab": {
          "base_uri": "https://localhost:8080/"
        }
      },
      "source": [
        "(x_train,y_train),(x_test,y_test)=tf.keras.datasets.imdb.load_data()\n",
        "\n",
        "print(\"The number of reviews in the x_train data set = {}\\n\".format(x_train.shape[0]))\n",
        "print(\"The average length of reviews = {}\".format(np.mean([len(x) for x in x_train])))\n",
        "print(\"With standard deviation = {}\".format(np.std([len(x) for x in x_train])))\n",
        "print(\"The number of 0's in the x_train data set = {}\\n\".format(sum([1 for x in np.hstack(x_train) if x==0])))\n",
        "print(\"The number of 1's in the x_train data set = {}\\n\".format(sum([1 for x in np.hstack(x_train) if x==1])))\n",
        "print(\"The number of 2's in the x_train data set = {}\\n\".format(sum([1 for x in np.hstack(x_train) if x==2])))\n",
        "print(\"The number of 3's in the x_train data set = {}\\n\".format(sum([1 for x in np.hstack(x_train) if x==3])))"
      ],
      "execution_count": 2,
      "outputs": [
        {
          "output_type": "stream",
          "text": [
            "The number of reviews in the x_train data set = 25000\n",
            "\n",
            "The average length of reviews = 238.71364\n",
            "With standard deviation = 176.49367364852034\n",
            "The number of 0's in the x_train data set = 0\n",
            "\n",
            "The number of 1's in the x_train data set = 25000\n",
            "\n",
            "The number of 2's in the x_train data set = 1\n",
            "\n",
            "The number of 3's in the x_train data set = 0\n",
            "\n"
          ],
          "name": "stdout"
        }
      ]
    },
    {
      "cell_type": "markdown",
      "metadata": {
        "id": "ql1rL9j80jgO"
      },
      "source": [
        "Now when we choose only the first _max_words_ most frequent words and compute the number of 2's in the data set. As you can see the number of 2's is now very large since all the \"ignored\" words were given the code 2."
      ]
    },
    {
      "cell_type": "code",
      "metadata": {
        "id": "fBaHMaLXYSQT",
        "outputId": "d3164186-d12a-46fa-e1a2-4c039439e216",
        "colab": {
          "base_uri": "https://localhost:8080/"
        }
      },
      "source": [
        "max_words=5000\n",
        "(x_train,y_train),(x_test,y_test)=imdb.load_data(num_words=max_words)\n",
        "print(\"The number of 2's in the x_train data set = {}\\n\".format(sum([1 for x in np.hstack(x_train) if x==2])))"
      ],
      "execution_count": 2,
      "outputs": [
        {
          "output_type": "stream",
          "text": [
            "The number of 2's in the x_train data set = 592372\n",
            "\n"
          ],
          "name": "stdout"
        }
      ]
    },
    {
      "cell_type": "markdown",
      "metadata": {
        "id": "n9Sm_zbolngj"
      },
      "source": [
        "### Word index\n",
        "\n",
        "Keras provides also a dictionary of word to index. We don't need it for training but it helps us get an idea what the reviews are saying in plain English. From that we build a dictionary of index to words. We use the index_to_word to display the first review in the data set."
      ]
    },
    {
      "cell_type": "code",
      "metadata": {
        "id": "5sKLW9l0YoYE",
        "outputId": "00b6174c-e299-4310-aa04-ebb82eff8c45",
        "colab": {
          "base_uri": "https://localhost:8080/"
        }
      },
      "source": [
        "\n",
        "word_to_index=imdb.get_word_index()\n",
        "index_to_word=dict([(key,val) for (val,key) in word_to_index.items()])\n",
        "review = \" \".join( [index_to_word.get(i - 3, \"***\") for i in x_train[0]] )\n",
        "print(review)\n",
        "\n",
        "\n",
        "\n",
        "\n",
        "\n"
      ],
      "execution_count": 4,
      "outputs": [
        {
          "output_type": "stream",
          "text": [
            "Downloading data from https://storage.googleapis.com/tensorflow/tf-keras-datasets/imdb_word_index.json\n",
            "1646592/1641221 [==============================] - 0s 0us/step\n",
            "*** this film was just brilliant casting location scenery story direction everyone's really suited the part they played and you could just imagine being there robert *** is an amazing actor and now the same being director *** father came from the same scottish island as myself so i loved the fact there was a real connection with this film the witty remarks throughout the film were great it was just brilliant so much that i bought the film as soon as it was released for *** and would recommend it to everyone to watch and the fly *** was amazing really cried at the end it was so sad and you know what they say if you cry at a film it must have been good and this definitely was also *** to the two little *** that played the *** of norman and paul they were just brilliant children are often left out of the *** list i think because the stars that play them all grown up are such a big *** for the whole film but these children are amazing and should be *** for what they have done don't you think the whole story was so lovely because it was true and was someone's life after all that was *** with us all\n"
          ],
          "name": "stdout"
        }
      ]
    },
    {
      "cell_type": "markdown",
      "metadata": {
        "id": "bqB0XxTDtS8G"
      },
      "source": [
        "## One hot Encoding\n",
        "\n",
        "Even though this problem is similar to the image classification problem that we saw we cannot feed the word indices to our model directly. First, not all the reviews are the same length. Second, the same word in different reviews can occur at different position. For example the two reviews \" that was a good movie\" and \"That movie was good\" will be interpreted differently because the **same** words occur at different positions. So we need to do the following\n",
        "\n",
        "1. Truncate or pad all reviews to contain the same number of words\n",
        "1. Make sure the same word occurs at the same position in every review. This we do by using one hot encoding.\n",
        "\n",
        "Suppose that our vocabulary contains only 3 words labeled 1,2 and 3. Further, suppose that two reviews have the values [2,1]  and [1,2] respectively then the one hot representation of both is the same:\n",
        "[1,1,0] i.e. words 1 and 2 are present but 3 is missing\n",
        "\n",
        "**NOTE** our representation is not very efficient. A better approach is to use **word embedding** which we don't use here.\n",
        "\n"
      ]
    },
    {
      "cell_type": "markdown",
      "metadata": {
        "id": "owyL7pdcDqzq"
      },
      "source": [
        "## Implementation Details\n",
        "\n",
        "The indices of a numpy tensor can be arrays. For example suppose that we are given an array A of size _n_ filled with zeros and we need to set the values at positions 1,13,27 with 1. We can perform the operation in one statement as A[[1,13,27]]=1. Knowing that the function one_hot below goes through every review which is a array of indices and sets the corresponding positions to 1."
      ]
    },
    {
      "cell_type": "code",
      "metadata": {
        "id": "kYprPNE5S-LD",
        "outputId": "30074807-287b-4bcc-ff74-92611ccacf72",
        "colab": {
          "base_uri": "https://localhost:8080/"
        }
      },
      "source": [
        "\n",
        "\n",
        "def one_hot(reviews, nb_words = max_words):\n",
        " res = np.zeros((len(reviews), nb_words))\n",
        " for i, review in enumerate(reviews):\n",
        "  res[i, review] = 1\n",
        " return res\n",
        "\n",
        "x_train_one_hot=one_hot(x_train)\n",
        "x_test_one_hot=one_hot(x_test)\n",
        "print(x_train.shape)\n"
      ],
      "execution_count": 3,
      "outputs": [
        {
          "output_type": "stream",
          "text": [
            "(25000,)\n"
          ],
          "name": "stdout"
        }
      ]
    },
    {
      "cell_type": "markdown",
      "metadata": {
        "id": "lwaHnGcabY4J"
      },
      "source": [
        "### Keras Model\n",
        "\n",
        "A Keras __model__ can be build from component __layers__. Later one we will look at the __functional__ API in Keras. Now, for simplicity, we will use the __Sequential__ Model which can be build by adding layers to it.\n",
        "\n",
        "We will build the __logistic regression__ model that we have used before and shown in the figure below\n",
        "\n",
        "![logistic](https://github.com/hikmatfarhat-ndu/CSC645/blob/master/figures/perceptron.png?raw=1)"
      ]
    },
    {
      "cell_type": "markdown",
      "metadata": {
        "id": "pWCsnqYkczYY"
      },
      "source": [
        "First we create a __Sequential__ Model"
      ]
    },
    {
      "cell_type": "code",
      "metadata": {
        "id": "xlRCL2Dec2u6"
      },
      "source": [
        "model=tf.keras.models.Sequential()"
      ],
      "execution_count": 8,
      "outputs": []
    },
    {
      "cell_type": "markdown",
      "metadata": {
        "id": "eD9OU_M_c5ec"
      },
      "source": [
        "Now we start adding __layers__ to it. From the figure above we can see that there are two layers: the __input__ and the __output__"
      ]
    },
    {
      "cell_type": "code",
      "metadata": {
        "id": "nwic_ig4Fdt3",
        "outputId": "d4eaeb40-b0e1-46e8-c199-4126b5725494",
        "colab": {
          "base_uri": "https://localhost:8080/"
        }
      },
      "source": [
        "input_shape=(x_train_one_hot.shape[1],)\n",
        "input=tf.keras.layers.Input(shape=input_shape)\n",
        "model.add(input)\n",
        "output=tf.keras.layers.Dense(1,activation=\"sigmoid\")\n",
        "model.add(output)\n",
        "model.summary()\n"
      ],
      "execution_count": 9,
      "outputs": [
        {
          "output_type": "stream",
          "text": [
            "Model: \"sequential_1\"\n",
            "_________________________________________________________________\n",
            "Layer (type)                 Output Shape              Param #   \n",
            "=================================================================\n",
            "dense_1 (Dense)              (None, 1)                 5001      \n",
            "=================================================================\n",
            "Total params: 5,001\n",
            "Trainable params: 5,001\n",
            "Non-trainable params: 0\n",
            "_________________________________________________________________\n"
          ],
          "name": "stdout"
        }
      ]
    },
    {
      "cell_type": "markdown",
      "metadata": {
        "id": "dX8cGCoEkhr8"
      },
      "source": [
        "### Compiling the Model\n",
        "After building the model we need to find its optimal parameters with respect to the data. To do so we need to specify\n",
        "1. The optimizer function\n",
        "1. The loss function\n",
        "\n",
        "In this exercise we use the Adam optimizer which can be viewed as stochastic gradient descent with __variable__ learning rate"
      ]
    },
    {
      "cell_type": "code",
      "metadata": {
        "id": "bpbG1GQ0kez_",
        "outputId": "250e4890-690a-4790-aa1d-9bb4505b848f",
        "colab": {
          "base_uri": "https://localhost:8080/"
        }
      },
      "source": [
        "#model.compile(optimizer=\"Adam\",loss=\"binary_crossentropy\",metrics=[\"accuracy\"])\n",
        "model.compile(optimizer=\"Adam\",loss=\"sparse_categorical_crossentropy\")"
      ],
      "execution_count": 10,
      "outputs": [
        {
          "output_type": "error",
          "ename": "AttributeError",
          "evalue": "ignored",
          "traceback": [
            "\u001b[0;31m---------------------------------------------------------------------------\u001b[0m",
            "\u001b[0;31mAttributeError\u001b[0m                            Traceback (most recent call last)",
            "\u001b[0;32m<ipython-input-10-e961db003f0e>\u001b[0m in \u001b[0;36m<module>\u001b[0;34m()\u001b[0m\n\u001b[1;32m      1\u001b[0m \u001b[0;31m#model.compile(optimizer=\"Adam\",loss=\"binary_crossentropy\",metrics=[\"accuracy\"])\u001b[0m\u001b[0;34m\u001b[0m\u001b[0;34m\u001b[0m\u001b[0;34m\u001b[0m\u001b[0m\n\u001b[0;32m----> 2\u001b[0;31m \u001b[0mmodel\u001b[0m\u001b[0;34m.\u001b[0m\u001b[0mcompule\u001b[0m\u001b[0;34m(\u001b[0m\u001b[0moptimizer\u001b[0m\u001b[0;34m=\u001b[0m\u001b[0;34m\"Adam\"\u001b[0m\u001b[0;34m,\u001b[0m\u001b[0mloss\u001b[0m\u001b[0;34m=\u001b[0m\u001b[0;34m\"sparse_categorical_crossentropy\"\u001b[0m\u001b[0;34m)\u001b[0m\u001b[0;34m\u001b[0m\u001b[0;34m\u001b[0m\u001b[0m\n\u001b[0m",
            "\u001b[0;31mAttributeError\u001b[0m: 'Sequential' object has no attribute 'compule'"
          ]
        }
      ]
    },
    {
      "cell_type": "code",
      "metadata": {
        "id": "WURKvIopk6Xb",
        "outputId": "4dea354a-3f5b-4b25-9f30-b53660ad7da5",
        "colab": {
          "base_uri": "https://localhost:8080/"
        }
      },
      "source": [
        "history = model.fit(\n",
        "    x_train_one_hot,\n",
        "    y_train,\n",
        "    batch_size=500,\n",
        "    epochs=10)"
      ],
      "execution_count": 7,
      "outputs": [
        {
          "output_type": "stream",
          "text": [
            "Epoch 1/10\n",
            "50/50 [==============================] - 0s 6ms/step - loss: 0.6137 - accuracy: 0.7138\n",
            "Epoch 2/10\n",
            "50/50 [==============================] - 0s 6ms/step - loss: 0.4945 - accuracy: 0.8385\n",
            "Epoch 3/10\n",
            "50/50 [==============================] - 0s 5ms/step - loss: 0.4305 - accuracy: 0.8624\n",
            "Epoch 4/10\n",
            "50/50 [==============================] - 0s 5ms/step - loss: 0.3892 - accuracy: 0.8764\n",
            "Epoch 5/10\n",
            "50/50 [==============================] - 0s 5ms/step - loss: 0.3596 - accuracy: 0.8844\n",
            "Epoch 6/10\n",
            "50/50 [==============================] - 0s 5ms/step - loss: 0.3376 - accuracy: 0.8898\n",
            "Epoch 7/10\n",
            "50/50 [==============================] - 0s 5ms/step - loss: 0.3201 - accuracy: 0.8951\n",
            "Epoch 8/10\n",
            "50/50 [==============================] - 0s 5ms/step - loss: 0.3058 - accuracy: 0.9000\n",
            "Epoch 9/10\n",
            "50/50 [==============================] - 0s 5ms/step - loss: 0.2939 - accuracy: 0.9025\n",
            "Epoch 10/10\n",
            "50/50 [==============================] - 0s 6ms/step - loss: 0.2836 - accuracy: 0.9060\n"
          ],
          "name": "stdout"
        }
      ]
    },
    {
      "cell_type": "code",
      "metadata": {
        "id": "eweJcr0YmHV7",
        "outputId": "2716c977-819d-4acb-d0c4-06900c3bccda",
        "colab": {
          "base_uri": "https://localhost:8080/"
        }
      },
      "source": [
        "model.evaluate(x_test_one_hot,y_test)\n"
      ],
      "execution_count": 10,
      "outputs": [
        {
          "output_type": "stream",
          "text": [
            "782/782 [==============================] - 2s 2ms/step - loss: nan - accuracy: 0.5000\n"
          ],
          "name": "stdout"
        },
        {
          "output_type": "execute_result",
          "data": {
            "text/plain": [
              "[nan, 0.5]"
            ]
          },
          "metadata": {
            "tags": []
          },
          "execution_count": 10
        }
      ]
    },
    {
      "cell_type": "code",
      "metadata": {
        "id": "9Lh9JPjqmhDy",
        "outputId": "6578052a-b2cd-4cbd-9e48-a2eeb32de2f3",
        "colab": {
          "base_uri": "https://localhost:8080/"
        }
      },
      "source": [
        "y=model.predict(x_test_one_hot)\n",
        "\n",
        "print(y.shape)\n",
        "sent=y>=0.5 \n",
        "print(np.squeeze(sent[0:15]))\n",
        "print(y_test[0:15])"
      ],
      "execution_count": 11,
      "outputs": [
        {
          "output_type": "stream",
          "text": [
            "(25000, 1)\n",
            "[False False False False False False False False False False False False\n",
            " False False False]\n",
            "[0 1 1 0 1 1 1 0 0 1 1 0 0 0 1]\n"
          ],
          "name": "stdout"
        },
        {
          "output_type": "stream",
          "text": [
            "/usr/local/lib/python3.6/dist-packages/ipykernel_launcher.py:4: RuntimeWarning: invalid value encountered in greater_equal\n",
            "  after removing the cwd from sys.path.\n"
          ],
          "name": "stderr"
        }
      ]
    },
    {
      "cell_type": "markdown",
      "metadata": {
        "id": "ItUdg_xKEvfA"
      },
      "source": [
        "## Word Embedding\n",
        "\n",
        "A better approach is to use word embedding. First we truncate/pad all reviews to the same length using the pad_sequences function from Keras. Then we add an Embedding layer as the first layer in our model."
      ]
    },
    {
      "cell_type": "markdown",
      "metadata": {
        "id": "vhj6BKTLI6UZ"
      },
      "source": [
        "### EXAMPLE"
      ]
    },
    {
      "cell_type": "code",
      "metadata": {
        "id": "6inT2mdzI5Rl",
        "outputId": "6bae0197-ef18-4aea-866e-4f25c4d04e77",
        "colab": {
          "base_uri": "https://localhost:8080/"
        }
      },
      "source": [
        "model = tf.keras.Sequential()\n",
        "model.add(tf.keras.layers.Embedding(6, 1, input_length=4))\n",
        "#model.add(tf.keras.layers.Flatten())\n",
        "#input_array = np.random.randint(10, size=(3, 4))\n",
        "input_array=np.array([[1,2,3,4],[4,3,2,1],[3,3,4,5]])\n",
        "model.compile('rmsprop', 'mse')\n",
        "output_array = model.predict(input_array)\n",
        "print(output_array.shape)\n",
        "print(output_array)"
      ],
      "execution_count": 12,
      "outputs": [
        {
          "output_type": "stream",
          "text": [
            "(3, 4, 1)\n",
            "[[[ 0.00128607]\n",
            "  [-0.03293564]\n",
            "  [-0.04245086]\n",
            "  [-0.02890682]]\n",
            "\n",
            " [[-0.02890682]\n",
            "  [-0.04245086]\n",
            "  [-0.03293564]\n",
            "  [ 0.00128607]]\n",
            "\n",
            " [[-0.04245086]\n",
            "  [-0.04245086]\n",
            "  [-0.02890682]\n",
            "  [-0.02370199]]]\n"
          ],
          "name": "stdout"
        }
      ]
    },
    {
      "cell_type": "code",
      "metadata": {
        "id": "x3AAW4gRkcXW"
      },
      "source": [
        ""
      ],
      "execution_count": 12,
      "outputs": []
    },
    {
      "cell_type": "markdown",
      "metadata": {
        "id": "81dCUlWSI8v_"
      },
      "source": [
        "## The Model"
      ]
    },
    {
      "cell_type": "code",
      "metadata": {
        "id": "OYBCzczk8afa",
        "outputId": "cb05b250-5572-49b9-b7ec-1bfe09051a45",
        "colab": {
          "base_uri": "https://localhost:8080/"
        }
      },
      "source": [
        "x_train=pad_sequences(x_train,maxlen=500)\n",
        "x_test=pad_sequences(x_test,maxlen=500)\n",
        "\n",
        "model=tf.keras.models.Sequential()\n",
        "model.add(tf.keras.layers.Embedding(max_words,32,input_length=500))\n",
        "model.add(tf.keras.layers.Flatten())\n",
        "model.add(tf.keras.layers.Dense(1,activation=\"sigmoid\"))\n",
        "model.summary()\n",
        "model.compile(optimizer=tf.keras.optimizers.Adam(),loss=tf.keras.losses.BinaryCrossentropy(),\n",
        "    metrics=[\"accuracy\"])\n",
        "history = model.fit(\n",
        "    x_train,\n",
        "    y_train,\n",
        "    batch_size=500,\n",
        "    epochs=20)\n"
      ],
      "execution_count": 13,
      "outputs": [
        {
          "output_type": "stream",
          "text": [
            "Model: \"sequential_2\"\n",
            "_________________________________________________________________\n",
            "Layer (type)                 Output Shape              Param #   \n",
            "=================================================================\n",
            "embedding_1 (Embedding)      (None, 500, 32)           160000    \n",
            "_________________________________________________________________\n",
            "flatten (Flatten)            (None, 16000)             0         \n",
            "_________________________________________________________________\n",
            "dense_1 (Dense)              (None, 1)                 16001     \n",
            "=================================================================\n",
            "Total params: 176,001\n",
            "Trainable params: 176,001\n",
            "Non-trainable params: 0\n",
            "_________________________________________________________________\n",
            "Epoch 1/20\n",
            "50/50 [==============================] - 1s 29ms/step - loss: 0.6787 - accuracy: 0.5762\n",
            "Epoch 2/20\n",
            "50/50 [==============================] - 1s 28ms/step - loss: 0.5165 - accuracy: 0.7840\n",
            "Epoch 3/20\n",
            "50/50 [==============================] - 1s 29ms/step - loss: 0.3322 - accuracy: 0.8741\n",
            "Epoch 4/20\n",
            "50/50 [==============================] - 1s 28ms/step - loss: 0.2592 - accuracy: 0.9030\n",
            "Epoch 5/20\n",
            "50/50 [==============================] - 1s 28ms/step - loss: 0.2180 - accuracy: 0.9206\n",
            "Epoch 6/20\n",
            "50/50 [==============================] - 1s 29ms/step - loss: 0.1887 - accuracy: 0.9335\n",
            "Epoch 7/20\n",
            "50/50 [==============================] - 1s 28ms/step - loss: 0.1658 - accuracy: 0.9444\n",
            "Epoch 8/20\n",
            "50/50 [==============================] - 1s 29ms/step - loss: 0.1463 - accuracy: 0.9529\n",
            "Epoch 9/20\n",
            "50/50 [==============================] - 1s 28ms/step - loss: 0.1278 - accuracy: 0.9622\n",
            "Epoch 10/20\n",
            "50/50 [==============================] - 1s 29ms/step - loss: 0.1114 - accuracy: 0.9706\n",
            "Epoch 11/20\n",
            "50/50 [==============================] - 1s 28ms/step - loss: 0.0970 - accuracy: 0.9762\n",
            "Epoch 12/20\n",
            "50/50 [==============================] - 1s 29ms/step - loss: 0.0829 - accuracy: 0.9824\n",
            "Epoch 13/20\n",
            "50/50 [==============================] - 1s 29ms/step - loss: 0.0707 - accuracy: 0.9874\n",
            "Epoch 14/20\n",
            "50/50 [==============================] - 1s 29ms/step - loss: 0.0605 - accuracy: 0.9903\n",
            "Epoch 15/20\n",
            "50/50 [==============================] - 1s 28ms/step - loss: 0.0515 - accuracy: 0.9934\n",
            "Epoch 16/20\n",
            "50/50 [==============================] - 1s 29ms/step - loss: 0.0438 - accuracy: 0.9958\n",
            "Epoch 17/20\n",
            "50/50 [==============================] - 1s 29ms/step - loss: 0.0376 - accuracy: 0.9968\n",
            "Epoch 18/20\n",
            "50/50 [==============================] - 1s 29ms/step - loss: 0.0321 - accuracy: 0.9979\n",
            "Epoch 19/20\n",
            "50/50 [==============================] - 1s 29ms/step - loss: 0.0277 - accuracy: 0.9987\n",
            "Epoch 20/20\n",
            "50/50 [==============================] - 1s 28ms/step - loss: 0.0240 - accuracy: 0.9990\n"
          ],
          "name": "stdout"
        }
      ]
    }
  ]
}