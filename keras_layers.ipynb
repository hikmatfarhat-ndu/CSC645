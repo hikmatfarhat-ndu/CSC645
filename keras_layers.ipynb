{
  "nbformat": 4,
  "nbformat_minor": 0,
  "metadata": {
    "colab": {
      "name": "keras-layers.ipynb",
      "provenance": [],
      "authorship_tag": "ABX9TyMIQsPrs08s/o7TbSOcW2ur",
      "include_colab_link": true
    },
    "kernelspec": {
      "name": "python3",
      "display_name": "Python 3"
    }
  },
  "cells": [
    {
      "cell_type": "markdown",
      "metadata": {
        "id": "view-in-github",
        "colab_type": "text"
      },
      "source": [
        "<a href=\"https://colab.research.google.com/github/hikmatfarhat-ndu/CSC645/blob/master/keras_layers.ipynb\" target=\"_parent\"><img src=\"https://colab.research.google.com/assets/colab-badge.svg\" alt=\"Open In Colab\"/></a>"
      ]
    },
    {
      "cell_type": "markdown",
      "metadata": {
        "id": "ox1CU-NtVcsS"
      },
      "source": [
        "### Copyright 2020 Hikmat Farhat"
      ]
    },
    {
      "cell_type": "markdown",
      "metadata": {
        "id": "7E4IT-MqWxP-"
      },
      "source": [
        "### Callable Objects in Python"
      ]
    },
    {
      "cell_type": "code",
      "metadata": {
        "id": "luC2TLAxVSwi"
      },
      "source": [
        "class myclass:\n",
        "  def __init__(self):\n",
        "    self.x=2\n",
        "  def __call__(self,y):\n",
        "    return self.x*y "
      ],
      "execution_count": 9,
      "outputs": []
    },
    {
      "cell_type": "code",
      "metadata": {
        "id": "XDxXD_chVsVr",
        "outputId": "4135444a-181e-4b0b-a62f-a046078641ea",
        "colab": {
          "base_uri": "https://localhost:8080/",
          "height": 34
        }
      },
      "source": [
        "c=myclass()\n",
        "c(4)"
      ],
      "execution_count": 12,
      "outputs": [
        {
          "output_type": "execute_result",
          "data": {
            "text/plain": [
              "8"
            ]
          },
          "metadata": {
            "tags": []
          },
          "execution_count": 12
        }
      ]
    },
    {
      "cell_type": "code",
      "metadata": {
        "id": "0Y4AfDIiV3lp"
      },
      "source": [
        "import tensorflow as tf\n",
        "from tensorflow import keras"
      ],
      "execution_count": 16,
      "outputs": []
    },
    {
      "cell_type": "code",
      "metadata": {
        "id": "W_CkjAqmYH8K"
      },
      "source": [
        "class Linear(keras.layers.Layer):\n",
        "    def __init__(self, units=32, input_dim=32):\n",
        "        super(Linear, self).__init__()\n",
        "        w_init = tf.random_normal_initializer()\n",
        "        self.w = tf.Variable(\n",
        "            initial_value=w_init(shape=(input_dim, units), dtype=\"float32\"),\n",
        "            trainable=True,\n",
        "        )\n",
        "        b_init = tf.zeros_initializer()\n",
        "        self.b = tf.Variable(\n",
        "            initial_value=b_init(shape=(units,), dtype=\"float32\"), trainable=True\n",
        "        )\n",
        "\n",
        "    def call(self, inputs):\n",
        "        print(\"calling call\")\n",
        "        return tf.matmul(inputs, self.w) + self.b"
      ],
      "execution_count": 27,
      "outputs": []
    },
    {
      "cell_type": "code",
      "metadata": {
        "id": "pjwEKKkIYJjZ",
        "outputId": "d3549f1b-d268-417f-9970-c84e51246985",
        "colab": {
          "base_uri": "https://localhost:8080/",
          "height": 86
        }
      },
      "source": [
        "x = tf.ones((2, 2))\n",
        "linear_layer = Linear(4, 2)\n",
        "y = linear_layer(x)\n",
        "print(y)"
      ],
      "execution_count": 28,
      "outputs": [
        {
          "output_type": "stream",
          "text": [
            "calling call\n",
            "tf.Tensor(\n",
            "[[-0.0381257  -0.07652537  0.00094068  0.05785849]\n",
            " [-0.0381257  -0.07652537  0.00094068  0.05785849]], shape=(2, 4), dtype=float32)\n"
          ],
          "name": "stdout"
        }
      ]
    },
    {
      "cell_type": "code",
      "metadata": {
        "id": "_NNC0dzVYNTr",
        "outputId": "25a31604-07ab-4dc4-d5d4-cb1f5b1ad99c",
        "colab": {
          "base_uri": "https://localhost:8080/",
          "height": 103
        }
      },
      "source": [
        "input=keras.Input(shape=(2,2))\n",
        "first=Linear(4,2)(input)\n",
        "second=Linear(4,4)(first)\n",
        "model=tf.keras.models.Model(input,second)\n",
        "x=model(y)\n",
        "y=tf.ones((2,2))\n",
        "print(type(second))"
      ],
      "execution_count": 42,
      "outputs": [
        {
          "output_type": "stream",
          "text": [
            "calling call\n",
            "calling call\n",
            "calling call\n",
            "calling call\n",
            "<class 'tensorflow.python.framework.ops.Tensor'>\n"
          ],
          "name": "stdout"
        }
      ]
    },
    {
      "cell_type": "code",
      "metadata": {
        "id": "yrmmFkXpaYvh",
        "outputId": "a5d7eee6-cf82-44ec-fa18-fe0a08441f20",
        "colab": {
          "base_uri": "https://localhost:8080/",
          "height": 121
        }
      },
      "source": [
        "print(x)\n",
        "print(input.shape)\n",
        "print(input.dtype)\n",
        "print(type(input))"
      ],
      "execution_count": 43,
      "outputs": [
        {
          "output_type": "stream",
          "text": [
            "tf.Tensor(\n",
            "[[-0.00895206 -0.00770739  0.00753834  0.00391943]\n",
            " [-0.00895206 -0.00770739  0.00753834  0.00391943]], shape=(2, 4), dtype=float32)\n",
            "(None, 2, 2)\n",
            "<dtype: 'float32'>\n",
            "<class 'tensorflow.python.framework.ops.Tensor'>\n"
          ],
          "name": "stdout"
        }
      ]
    },
    {
      "cell_type": "code",
      "metadata": {
        "id": "xDc8p6TSh7RS"
      },
      "source": [
        ""
      ],
      "execution_count": null,
      "outputs": []
    }
  ]
}