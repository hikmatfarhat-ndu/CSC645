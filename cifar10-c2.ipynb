{
  "nbformat": 4,
  "nbformat_minor": 0,
  "metadata": {
    "colab": {
      "name": "keras-cifar10.ipynb",
      "provenance": [],
      "include_colab_link": true
    },
    "kernelspec": {
      "name": "python3",
      "display_name": "Python 3"
    },
    "accelerator": "GPU"
  },
  "cells": [
    {
      "cell_type": "markdown",
      "metadata": {
        "id": "view-in-github",
        "colab_type": "text"
      },
      "source": [
        "<a href=\"https://colab.research.google.com/github/hikmatfarhat-ndu/CSC645/blob/master/cifar10-c2.ipynb\" target=\"_parent\"><img src=\"https://colab.research.google.com/assets/colab-badge.svg\" alt=\"Open In Colab\"/></a>"
      ]
    },
    {
      "cell_type": "markdown",
      "metadata": {
        "id": "JVqy8wi_uqbW"
      },
      "source": [
        "# Convolution Network\n",
        "\n",
        "Convolution Neural Networks (CNN) have been very successful especially when modeling images. In this notebook we introduce CNNs and use Keras to learn the CIFAR10 data set"
      ]
    },
    {
      "cell_type": "markdown",
      "metadata": {
        "id": "CAWSu-88vYRO"
      },
      "source": [
        "### Packages"
      ]
    },
    {
      "cell_type": "code",
      "metadata": {
        "id": "qt8YKxqnC2vI"
      },
      "source": [
        "import numpy as np\n",
        "import matplotlib.pyplot as plt\n",
        "import tensorflow as tf\n",
        "from tensorflow import keras\n",
        "from tensorflow.keras import layers,datasets,models\n",
        "from tensorflow.keras.models import Sequential\n",
        "from tensorflow.keras.layers import Dense, Conv2D, MaxPooling2D, Dropout, Flatten,BatchNormalization\n",
        "## For embedding files in the notebook\n",
        "#from IPython.display import IFrame"
      ],
      "execution_count": 1,
      "outputs": []
    },
    {
      "cell_type": "markdown",
      "metadata": {
        "id": "iYohKtgX1MAY"
      },
      "source": [
        "### Convolution Operations\n",
        "We start with a simple example. Let I be an input image. Typically $I$ would be represented by a tensor of shape $(H,W,C)$ where $H$, $W$, and $C$ are the height, width, and color channel respectively. Therefore,  $I[h,w,c]$ refers to the value of channel $c$ in pixel $(h,w)$. Let $K$ be a filter with shape $(m,n)$ then the convolution operation produces the following tensor\n",
        "\\begin{align*}\n",
        "T_{i,j}=\\sum_c\\sum_{m,n}X_{i+m,j+n,c}*K_{m,n}\n",
        "\\end{align*}\n",
        "The above operation is illustrated in the example below. Click on the figures to see the sequence of operations.\n",
        "\n"
      ]
    },
    {
      "cell_type": "code",
      "metadata": {
        "id": "iKb-d5U7TVit",
        "colab": {
          "base_uri": "https://localhost:8080/",
          "height": 321
        },
        "outputId": "0be2a51b-2db7-4083-c990-dbb94aea1124"
      },
      "source": [
        "\n",
        "%%HTML\n",
        "<iframe src=\"https://docs.google.com/presentation/d/e/2PACX-1vQBSo0SLsiigeXPOP4MGOS55ez9hvRT0xWocjs16K7U4JMTD1UnHXrNAu43qRo_GQ/embed?start=true&loop=true&delayms=3000\" frameborder=\"0\" width=\"500\" height=\"300\" allowfullscreen=\"true\" mozallowfullscreen=\"true\" webkitallowfullscreen=\"true\"></iframe>"
      ],
      "execution_count": 2,
      "outputs": [
        {
          "output_type": "display_data",
          "data": {
            "text/html": [
              "<iframe src=\"https://docs.google.com/presentation/d/e/2PACX-1vQBSo0SLsiigeXPOP4MGOS55ez9hvRT0xWocjs16K7U4JMTD1UnHXrNAu43qRo_GQ/embed?start=true&loop=true&delayms=3000\" frameborder=\"0\" width=\"500\" height=\"300\" allowfullscreen=\"true\" mozallowfullscreen=\"true\" webkitallowfullscreen=\"true\"></iframe>"
            ],
            "text/plain": [
              "<IPython.core.display.HTML object>"
            ]
          },
          "metadata": {
            "tags": []
          }
        }
      ]
    },
    {
      "cell_type": "markdown",
      "metadata": {
        "id": "ot0uhl0eTbPp"
      },
      "source": [
        "In __general__ a convolution layer has multiple filters and each filter can have multiple output channels.\n",
        "\n",
        "The input image data usually can be represented by a tensor of the form $X_{s,i,j,c}$ where $s$ is the index of the sample,$i$ the height,$j$ the width and $c$ the channel(color).\n",
        "\n",
        "Let $s,i,j,f$ be the number of samples,output height index,output weight index, and the filter index respectively. The convolution operation is defined as\n",
        "\\begin{align*}\n",
        "O_{s,i,j,f}=\\sum_c\\sum_{m,n}X_{s,i+m,j+n,c}*K_{m,n,c,f}\n",
        "\\end{align*}\n",
        "\n",
        "Below we implement the operation we presented visually in the slides where a 2x2 filter operated on a 4x4 matrix (\"image\"). We use __one__ \"image\" sample with a __single__ color channel therefore the input has shape $(1,4,4,1)$.\n",
        "\n",
        "Usually Keras(tensorflow) initializes the weigths of the filter using some random function but since we would like to use the kernel we showed in the visual example we need to supply an initialization function for the kernel\n",
        "\n",
        "### Example\n"
      ]
    },
    {
      "cell_type": "code",
      "metadata": {
        "id": "8qzhuSJZnC3Z",
        "colab": {
          "base_uri": "https://localhost:8080/"
        },
        "outputId": "42a81986-3870-4d60-c4c0-b5ec3b0c387b"
      },
      "source": [
        "# This is used to initialize the weights\n",
        "# of the kernel to the values we showed above\n",
        "# on the slides\n",
        "def my_init(shape,dtype=None):\n",
        "  # since the input is of shape (1,2,2,1)\n",
        "  # and we are using a single filter\n",
        "  # we should return a tensor of shape (2,2,1,1)=(height,width,channel,filter)\n",
        "  w=np.array([[1,-2],[-3,4]])\n",
        "  # we add dimensions 3 and 4 for the input  channels and number of filters\n",
        "  w=w.reshape(2,2,1,1)\n",
        "  return w\n",
        "\n",
        "\n",
        "\n",
        "input=np.array([[1,2,4,3],[5,6,8,7],[9,10,12,11],[13,14,16,2]],dtype=np.float32)\n",
        "#since the first dimension is for the samples and the last is for the channels\n",
        "#we reshape the input\n",
        "input=input.reshape(1,4,4,1)\n",
        "y= tf.keras.layers.Conv2D(1, (2,2) ,kernel_initializer=my_init,input_shape=input.shape[1:])(input)\n",
        "print(y.shape)\n",
        "#print sample 0 (it is the only one) first index=0 (row)\n",
        "print(y)\n",
        "\n"
      ],
      "execution_count": 3,
      "outputs": [
        {
          "output_type": "stream",
          "text": [
            "(1, 3, 3, 1)\n",
            "tf.Tensor(\n",
            "[[[[  6.]\n",
            "   [  8.]\n",
            "   [  2.]]\n",
            "\n",
            "  [[  6.]\n",
            "   [  8.]\n",
            "   [  2.]]\n",
            "\n",
            "  [[  6.]\n",
            "   [  8.]\n",
            "   [-50.]]]], shape=(1, 3, 3, 1), dtype=float32)\n"
          ],
          "name": "stdout"
        }
      ]
    },
    {
      "cell_type": "markdown",
      "metadata": {
        "id": "5_vri4z9Yiom"
      },
      "source": [
        "### Another example\n",
        "We modify the previous example to include three channels, similar to color images. To simplify, the \"image\" has the same value for all three color channels"
      ]
    },
    {
      "cell_type": "code",
      "metadata": {
        "id": "X7TdGFoPQ1SI",
        "colab": {
          "base_uri": "https://localhost:8080/"
        },
        "outputId": "ea099737-82cb-4bc6-9638-726f0616082d"
      },
      "source": [
        "def my_init(shape,dtype=None):\n",
        "  x=np.array([[1,-2],[-3,4]])\n",
        "  x=x.reshape(2,2,1)\n",
        "  #stack three copies of x together, one for each channel\n",
        "  #The shape is (height=axis 0,width=axis 1,channels=axis 2,num_filters=axis 3)\n",
        "  x=np.stack([x,x,x],axis=2)\n",
        "  return x\n",
        "#x=np.ones((1,4,4),dtype=np.float32)\n",
        "#print(x.shape)\n",
        "#layer=tf.keras.layers.Conv2D(1,(2,2),input_shape=(4,4),kernel_initializer=tf.keras.initializers.Ones())\n",
        "#y=layer(x[1:])\n",
        "## expects the input shape of at least 4 dims=nsamples,height,width,depth\n",
        "input=np.array([[1,2,4,3],[5,6,8,7],[9,10,12,11],[13,14,16,2]],dtype=np.float32)\n",
        "input=input.reshape((1,4,4))\n",
        "input=np.stack([input,input,input],axis=3)\n",
        "y= tf.keras.layers.Conv2D(1, (2,2) ,kernel_initializer=my_init,input_shape=input.shape[1:])(input)\n",
        "#print(y[0,2,:,:])\n",
        "print(np.squeeze(y.numpy()))"
      ],
      "execution_count": 4,
      "outputs": [
        {
          "output_type": "stream",
          "text": [
            "[[  18.   24.    6.]\n",
            " [  18.   24.    6.]\n",
            " [  18.   24. -150.]]\n"
          ],
          "name": "stdout"
        }
      ]
    },
    {
      "cell_type": "markdown",
      "metadata": {
        "id": "f_nDqWzaPvLt"
      },
      "source": [
        "### Pooling\n",
        "Pooling replaces a region of the input with a \"summary\" statistic, usually the maximum. This makes the computation almost translation invariant."
      ]
    },
    {
      "cell_type": "code",
      "metadata": {
        "id": "4mABuJbKP_nH",
        "colab": {
          "base_uri": "https://localhost:8080/"
        },
        "outputId": "d1e1cf3c-34df-4eff-dabd-9a8b700db92b"
      },
      "source": [
        "input=np.array([[1,2,4,3],[5,6,8,7],[9,10,12,11],[13,14,16,2]],dtype=np.float32)\n",
        "input=input.reshape(1,4,4,1)\n",
        "mp=MaxPooling2D(pool_size=(2,2))(input)\n",
        "print(np.squeeze(input))\n",
        "print(np.squeeze(mp.numpy()))"
      ],
      "execution_count": 5,
      "outputs": [
        {
          "output_type": "stream",
          "text": [
            "[[ 1.  2.  4.  3.]\n",
            " [ 5.  6.  8.  7.]\n",
            " [ 9. 10. 12. 11.]\n",
            " [13. 14. 16.  2.]]\n",
            "[[ 6.  8.]\n",
            " [14. 16.]]\n"
          ],
          "name": "stdout"
        }
      ]
    },
    {
      "cell_type": "markdown",
      "metadata": {
        "id": "WymTijAKvZ0u"
      },
      "source": [
        "## CNN for CIFAR 10\n",
        "\n",
        "Now that we know what a convolution operation is and how the conv2D layer in Keras works we will build a Convolution Neural Network to recognize CIFAR10 images\n",
        "\n",
        "### Data\n",
        "\n",
        "The data is already included in the Keras datasets so retrieving it is simple"
      ]
    },
    {
      "cell_type": "code",
      "metadata": {
        "id": "GDJ1ldS4DMLH",
        "colab": {
          "base_uri": "https://localhost:8080/"
        },
        "outputId": "c22cff42-b7cd-4102-ab94-7dba3f9ca727"
      },
      "source": [
        "(img_train,label_train),(img_test,label_test)=tf.keras.datasets.cifar10.load_data()\n",
        "img_train=img_train/255.0\n",
        "img_test=img_test/255.0"
      ],
      "execution_count": 6,
      "outputs": [
        {
          "output_type": "stream",
          "text": [
            "Downloading data from https://www.cs.toronto.edu/~kriz/cifar-10-python.tar.gz\n",
            "170500096/170498071 [==============================] - 4s 0us/step\n"
          ],
          "name": "stdout"
        }
      ]
    },
    {
      "cell_type": "code",
      "metadata": {
        "id": "pkPVJET7Ds6Y",
        "colab": {
          "base_uri": "https://localhost:8080/"
        },
        "outputId": "3dc13d14-4717-4c83-cb3b-bae70a1c5543"
      },
      "source": [
        "print(\"img_train shape={},label_train shape={}\".format(img_train.shape,label_train.shape))\n",
        "print(\"img_test shape={},label_test shape={}\".format(img_test.shape,label_test.shape))\n"
      ],
      "execution_count": 7,
      "outputs": [
        {
          "output_type": "stream",
          "text": [
            "img_train shape=(50000, 32, 32, 3),label_train shape=(50000, 1)\n",
            "img_test shape=(10000, 32, 32, 3),label_test shape=(10000, 1)\n"
          ],
          "name": "stdout"
        }
      ]
    },
    {
      "cell_type": "markdown",
      "metadata": {
        "id": "4pO1rl6OwCF7"
      },
      "source": [
        "We have dealt with this dataset before but it is helpful to recall some of its properties. As can be seen from the above the training data contains 50000 samples and test data contains 10000 samples. The labels are numbers from 0 to 9. Below we plot the first 10 images and their corresponding labels."
      ]
    },
    {
      "cell_type": "code",
      "metadata": {
        "id": "jrdCVq5nwtwY",
        "colab": {
          "base_uri": "https://localhost:8080/",
          "height": 233
        },
        "outputId": "8ce5ae59-19e6-477d-d05d-6687b9ad29c5"
      },
      "source": [
        "fig=plt.figure()\n",
        "fig.tight_layout()\n",
        "plt.subplots_adjust( wspace=1, hspace=1)\n",
        "\n",
        "for i in range(0,10):\n",
        "    img=img_train[i]    \n",
        "    t=fig.add_subplot(2,5,i+1)\n",
        "    t.set_title(str(label_train[i]))\n",
        "    t.axes.get_xaxis().set_visible(False)\n",
        "    t.axes.get_yaxis().set_visible(False)\n",
        "    plt.imshow(img)"
      ],
      "execution_count": 8,
      "outputs": [
        {
          "output_type": "display_data",
          "data": {
            "image/png": "[encoded data removed]",
            "text/plain": [
              "<Figure size 432x288 with 10 Axes>"
            ]
          },
          "metadata": {
            "tags": [],
            "needs_background": "light"
          }
        }
      ]
    },
    {
      "cell_type": "markdown",
      "metadata": {
        "id": "AxnPOQFVGcX4"
      },
      "source": [
        "# Model\n",
        "\n",
        "One can think of the input and output of convolution layers as **boxes** of the form (width,height,depth). Usually the depth of the input is the number of variables used for colors e.g. 3. The output of a Conv2D of nfilters of size (x,y) is (width-x+1, height-y+1,nfilters) where we have assumed that the stride is 1"
      ]
    },
    {
      "cell_type": "code",
      "metadata": {
        "id": "lClgW_GYH42o"
      },
      "source": [
        "def createModel():\n",
        "    model = models.Sequential()\n",
        "    model.add(BatchNormalization())\n",
        "    model.add(layers.Conv2D(64, (5, 5),padding='same', strides=(2,2), activation='relu', input_shape=(32, 32, 3)))\n",
        "    model.add(layers.MaxPooling2D(pool_size=(3, 3)))\n",
        "    model.add(BatchNormalization())\n",
        "\n",
        "    model.add(layers.Conv2D(64, (5, 5),padding='same',strides=(2,2),  activation='relu'))\n",
        "    model.add(layers.MaxPooling2D(pool_size=(3, 3)))\n",
        "    model.add(BatchNormalization())\n",
        "\n",
        "    model.add(layers.Flatten())\n",
        "    model.add(layers.Dense(384, activation='relu'))\n",
        "    model.add(layers.Dropout(0.5))\n",
        "    model.add(BatchNormalization())\n",
        "\n",
        "    model.add(layers.Dense(192, activation='relu'))\n",
        "    model.add(BatchNormalization())\n",
        "\n",
        "    model.add(layers.Dropout(0.5))\n",
        "    model.add(layers.Dense(10,activation='softmax'))\n",
        "    \n",
        "    return model\n",
        "def createModelC2():\n",
        "    model = models.Sequential()\n",
        "    model.add(BatchNormalization())\n",
        "    \n",
        "    model.add(layers.Conv2D(64, (3, 3),padding='same', activation='relu', input_shape=(32, 32, 3)))\n",
        "    model.add(BatchNormalization())\n",
        "    model.add(layers.Conv2D(64, (3, 3),padding='same', activation='relu', input_shape=(32, 32, 3)))\n",
        "    model.add(BatchNormalization())\n",
        "    model.add(layers.MaxPooling2D(pool_size=(2, 2)))\n",
        "\n",
        "    model.add(layers.Conv2D(128, (3, 3),padding='same', activation='relu', input_shape=(32, 32, 3)))\n",
        "    model.add(BatchNormalization())\n",
        "\n",
        "    model.add(layers.Conv2D(128, (3, 3),padding='same', activation='relu', input_shape=(32, 32, 3)))\n",
        "    model.add(BatchNormalization())\n",
        "\n",
        "    model.add(layers.MaxPooling2D(pool_size=(2, 2)))\n",
        "    model.add(BatchNormalization())\n",
        "\n",
        "    model.add(layers.Conv2D(256, (3, 3),padding='same', activation='relu', input_shape=(32, 32, 3)))\n",
        "    model.add(BatchNormalization())\n",
        "\n",
        "    model.add(layers.Conv2D(256, (3, 3),padding='same', activation='relu', input_shape=(32, 32, 3)))\n",
        "    model.add(BatchNormalization())\n",
        "\n",
        "    model.add(layers.MaxPooling2D(pool_size=(2, 2)))\n",
        "    model.add(BatchNormalization())\n",
        "\n",
        "    model.add(layers.Conv2D(512, (3, 3),padding='same', activation='relu', input_shape=(32, 32, 3)))\n",
        "    model.add(BatchNormalization())\n",
        "\n",
        "    model.add(layers.Conv2D(512, (3, 3),padding='same', activation='relu', input_shape=(32, 32, 3)))\n",
        "    model.add(BatchNormalization())\n",
        "\n",
        "    model.add(layers.Conv2D(512, (3, 3),padding='same', activation='relu', input_shape=(32, 32, 3)))\n",
        "    model.add(BatchNormalization())\n",
        "\n",
        "    model.add(layers.MaxPooling2D(pool_size=(2, 2)))\n",
        "    model.add(BatchNormalization())\n",
        "\n",
        "    model.add(layers.Conv2D(512, (3, 3),padding='same', activation='relu', input_shape=(32, 32, 3)))\n",
        "    model.add(BatchNormalization())\n",
        "\n",
        "    model.add(layers.Conv2D(512, (3, 3),padding='same', activation='relu', input_shape=(32, 32, 3)))\n",
        "    model.add(BatchNormalization())\n",
        "\n",
        "    model.add(layers.Conv2D(512, (3, 3),padding='same', activation='relu', input_shape=(32, 32, 3)))\n",
        "    model.add(BatchNormalization())\n",
        "\n",
        "    model.add(layers.MaxPooling2D(pool_size=(2, 2)))\n",
        "    model.add(BatchNormalization())\n",
        "\n",
        "   \n",
        "\n",
        "    model.add(layers.Flatten())\n",
        "    model.add(layers.Dense(512, activation='relu'))\n",
        "    model.add(layers.Dropout(0.5))\n",
        "    model.add(BatchNormalization())\n",
        "    model.add(layers.Dense(10,activation='softmax'))\n",
        "    \n",
        "    return model"
      ],
      "execution_count": 22,
      "outputs": []
    },
    {
      "cell_type": "code",
      "metadata": {
        "id": "rbrJYUhSEu_z",
        "colab": {
          "base_uri": "https://localhost:8080/",
          "height": 77
        },
        "outputId": "5450af01-5853-4e74-b21f-ceb0fe0e14d8"
      },
      "source": [
        "model=createModelC2()\n",
        "tf.keras.utils.plot_model(model,show_shapes=True)"
      ],
      "execution_count": 23,
      "outputs": [
        {
          "output_type": "execute_result",
          "data": {
            "image/png": "[encoded data removed]",
            "text/plain": [
              "<IPython.core.display.Image object>"
            ]
          },
          "metadata": {
            "tags": []
          },
          "execution_count": 23
        }
      ]
    },
    {
      "cell_type": "markdown",
      "metadata": {
        "id": "pYUxWKQr6Kjl"
      },
      "source": [
        "## Optimization\n",
        "\n",
        "Keras can use many optimization method. In this notebook we use the __Adam__ method which can be described loosely as __adaptive__ gradient descent.\n",
        "\n",
        "Also since the labels are __NOT__ in one_hot_encoding we use the \"Sparse\" version of the crossentropy loss: __SparseCategoricalCrossentropy__. Finally, if we don't specify from_logits=False then the loss function would compute softwmax before computing the loss. Since we are computing softwmax in our model already we turn this step off by specifying from_logits=False"
      ]
    },
    {
      "cell_type": "code",
      "metadata": {
        "id": "9DbRaKJKFvug",
        "colab": {
          "base_uri": "https://localhost:8080/"
        },
        "outputId": "0ccbad02-0410-4f44-de31-4e16a4de743b"
      },
      "source": [
        "# if we don't use softmax in the last layer, i.e. if the output of the\n",
        "# model is NOT probabilities then use from_logits=True\n",
        "model.compile(optimizer='adam',\n",
        "              loss=tf.keras.losses.SparseCategoricalCrossentropy(from_logits=False),\n",
        "              metrics=['accuracy'])\n",
        "\n",
        "history = model.fit(img_train,label_train, batch_size=64,epochs=20, \n",
        "                    validation_data=(img_test, label_test))\n"
      ],
      "execution_count": 24,
      "outputs": [
        {
          "output_type": "stream",
          "text": [
            "Epoch 1/20\n",
            "782/782 [==============================] - 20s 26ms/step - loss: 1.5269 - accuracy: 0.4669 - val_loss: 1.1255 - val_accuracy: 0.6359\n",
            "Epoch 2/20\n",
            "782/782 [==============================] - 20s 25ms/step - loss: 0.8852 - accuracy: 0.6981 - val_loss: 0.8911 - val_accuracy: 0.7088\n",
            "Epoch 3/20\n",
            "782/782 [==============================] - 20s 26ms/step - loss: 0.6821 - accuracy: 0.7711 - val_loss: 0.6606 - val_accuracy: 0.7762\n",
            "Epoch 4/20\n",
            "782/782 [==============================] - 20s 26ms/step - loss: 0.5561 - accuracy: 0.8146 - val_loss: 0.5880 - val_accuracy: 0.8096\n",
            "Epoch 5/20\n",
            "782/782 [==============================] - 20s 26ms/step - loss: 0.4572 - accuracy: 0.8481 - val_loss: 0.6251 - val_accuracy: 0.7935\n",
            "Epoch 6/20\n",
            "782/782 [==============================] - 20s 25ms/step - loss: 0.3668 - accuracy: 0.8795 - val_loss: 0.5802 - val_accuracy: 0.8216\n",
            "Epoch 7/20\n",
            "782/782 [==============================] - 20s 25ms/step - loss: 0.2907 - accuracy: 0.9049 - val_loss: 0.5785 - val_accuracy: 0.8196\n",
            "Epoch 8/20\n",
            "782/782 [==============================] - 20s 25ms/step - loss: 0.2400 - accuracy: 0.9221 - val_loss: 0.6681 - val_accuracy: 0.8211\n",
            "Epoch 9/20\n",
            "782/782 [==============================] - 20s 25ms/step - loss: 0.1832 - accuracy: 0.9406 - val_loss: 0.5532 - val_accuracy: 0.8396\n",
            "Epoch 10/20\n",
            "782/782 [==============================] - 20s 25ms/step - loss: 0.1537 - accuracy: 0.9506 - val_loss: 0.6055 - val_accuracy: 0.8377\n",
            "Epoch 11/20\n",
            "782/782 [==============================] - 20s 25ms/step - loss: 0.1247 - accuracy: 0.9603 - val_loss: 0.6573 - val_accuracy: 0.8309\n",
            "Epoch 12/20\n",
            "782/782 [==============================] - 20s 25ms/step - loss: 0.1012 - accuracy: 0.9670 - val_loss: 0.7308 - val_accuracy: 0.8280\n",
            "Epoch 13/20\n",
            "782/782 [==============================] - 20s 25ms/step - loss: 0.0911 - accuracy: 0.9704 - val_loss: 0.6434 - val_accuracy: 0.8448\n",
            "Epoch 14/20\n",
            "782/782 [==============================] - 20s 25ms/step - loss: 0.0849 - accuracy: 0.9725 - val_loss: 0.6572 - val_accuracy: 0.8465\n",
            "Epoch 15/20\n",
            "782/782 [==============================] - 20s 25ms/step - loss: 0.0755 - accuracy: 0.9763 - val_loss: 0.7410 - val_accuracy: 0.8274\n",
            "Epoch 16/20\n",
            "782/782 [==============================] - 20s 25ms/step - loss: 0.0661 - accuracy: 0.9795 - val_loss: 0.7013 - val_accuracy: 0.8416\n",
            "Epoch 17/20\n",
            "782/782 [==============================] - 20s 25ms/step - loss: 0.0610 - accuracy: 0.9807 - val_loss: 0.7082 - val_accuracy: 0.8484\n",
            "Epoch 18/20\n",
            "782/782 [==============================] - 20s 25ms/step - loss: 0.0565 - accuracy: 0.9816 - val_loss: 0.6811 - val_accuracy: 0.8517\n",
            "Epoch 19/20\n",
            "782/782 [==============================] - 20s 25ms/step - loss: 0.0498 - accuracy: 0.9839 - val_loss: 0.7448 - val_accuracy: 0.8376\n",
            "Epoch 20/20\n",
            "782/782 [==============================] - 20s 25ms/step - loss: 0.0491 - accuracy: 0.9844 - val_loss: 0.7290 - val_accuracy: 0.8450\n"
          ],
          "name": "stdout"
        }
      ]
    },
    {
      "cell_type": "markdown",
      "metadata": {
        "id": "iLe-ndQpqbPj"
      },
      "source": [
        "### Testing the Accuracy"
      ]
    },
    {
      "cell_type": "code",
      "metadata": {
        "id": "WuvWaksuYAKi"
      },
      "source": [
        "_,test_accuracy=model.evaluate(img_test,label_test)"
      ],
      "execution_count": null,
      "outputs": []
    }
  ]
}