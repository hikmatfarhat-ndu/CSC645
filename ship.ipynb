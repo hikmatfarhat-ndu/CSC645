{
  "nbformat": 4,
  "nbformat_minor": 0,
  "metadata": {
    "orig_nbformat": 2,
    "kernelspec": {
      "name": "python3",
      "display_name": "Python 3"
    },
    "colab": {
      "name": "ship.ipynb",
      "provenance": []
    },
    "accelerator": "GPU"
  },
  "cells": [
    {
      "cell_type": "markdown",
      "metadata": {
        "id": "EMl5OP9t3CeN",
        "colab_type": "text"
      },
      "source": [
        "<a href=\"https://colab.research.google.com/github/hikmatfarhat-ndu/CSC645/blob/master/ship.ipynb\" target=\"_parent\"><img src=\"https://colab.research.google.com/assets/colab-badge.svg\" alt=\"Open In Colab\"/></a>"
      ]
    },
    {
      "cell_type": "code",
      "metadata": {
        "id": "4Uk5mr3L3CeS",
        "colab_type": "code",
        "colab": {}
      },
      "source": [
        "import cupy as np \n",
        "#import numpy as np\n",
        "import matplotlib.pyplot as plt\n",
        "import tensorflow as tf"
      ],
      "execution_count": 11,
      "outputs": []
    },
    {
      "cell_type": "code",
      "metadata": {
        "tags": [],
        "id": "m70hk4cc3Cej",
        "colab_type": "code",
        "colab": {}
      },
      "source": [
        "(img_train,label_train),(img_test,label_test)=tf.keras.datasets.cifar10.load_data()\n"
      ],
      "execution_count": 12,
      "outputs": []
    },
    {
      "cell_type": "code",
      "metadata": {
        "tags": [],
        "id": "QRAYR6DU3Cev",
        "colab_type": "code",
        "colab": {
          "base_uri": "https://localhost:8080/",
          "height": 51
        },
        "outputId": "dc5041b6-0c3b-45c7-c796-41eca82d1d46"
      },
      "source": [
        "img_train=np.array(img_train.reshape(50000,32*32*3)/255.)\n",
        "img_test=np.array(img_test.reshape(10000,32*32*3)/255.)\n",
        "label_train=np.array(label_train.reshape(50000))\n",
        "label_test=np.array(label_test.reshape(10000))\n",
        "\n",
        "#img_train=img_train[:10000]\n",
        "#label_train=label_train[:10000]\n",
        "img_train=img_train.T\n",
        "img_test=img_test.T\n",
        "\n",
        "#print(img_train.shape)\n",
        "print(label_train.shape)\n",
        "#print(label_train[0])\n",
        "#print(one_hot[0])\n",
        "\n",
        "print(type(img_train))"
      ],
      "execution_count": 13,
      "outputs": [
        {
          "output_type": "stream",
          "text": [
            "(50000,)\n",
            "<class 'cupy.core.core.ndarray'>\n"
          ],
          "name": "stdout"
        }
      ]
    },
    {
      "cell_type": "markdown",
      "metadata": {
        "id": "Nsu_YVsm3Ce-",
        "colab_type": "text"
      },
      "source": [
        "There are ten types of images labeled from 0 to 9 where 8 is for ships. Since we are doing binary classification, i.e. ship or not ship we convert anything that is 8 to 1 and everything else to 0"
      ]
    },
    {
      "cell_type": "code",
      "metadata": {
        "id": "zB5AbuWa3CfA",
        "colab_type": "code",
        "colab": {}
      },
      "source": [
        "\n",
        "feature=8\n",
        "for i in range(label_train.shape[0]):\n",
        "    if label_train[i]==feature:\n",
        "        label_train[i]=1\n",
        "    else:\n",
        "        label_train[i]=0\n",
        "\n",
        "for i in range(label_test.shape[0]):\n",
        "    if label_test[i]==feature:\n",
        "        label_test[i]=1\n",
        "    else:\n",
        "        label_test[i]=0        \n"
      ],
      "execution_count": 14,
      "outputs": []
    },
    {
      "cell_type": "code",
      "metadata": {
        "id": "e-VCy7S_3CfL",
        "colab_type": "code",
        "colab": {}
      },
      "source": [
        "def sigmoid(z):\n",
        "\n",
        "    s = 1/(1+np.exp(-z))\n",
        "\n",
        "    return s\n"
      ],
      "execution_count": 15,
      "outputs": []
    },
    {
      "cell_type": "code",
      "metadata": {
        "id": "ZZtUVolZ3CfW",
        "colab_type": "code",
        "colab": {}
      },
      "source": [
        "def initialize_with_zeros(dim):\n",
        "    \n",
        "#w is a column vector. later on we take the transpose before operating on w\n",
        "    w = np.zeros((1,dim))\n",
        "    b = 0\n",
        "    \n",
        "    return w, b"
      ],
      "execution_count": 16,
      "outputs": []
    },
    {
      "cell_type": "code",
      "metadata": {
        "id": "AaogpCm63Cfg",
        "colab_type": "code",
        "colab": {}
      },
      "source": [
        "def propagate(w, b, X, Y):\n",
        "# m is the number of samples which is the number of columns in X\n",
        "    m = X.shape[1]\n",
        "    A = sigmoid(np.dot(w,X)+b)   # compute activation\n",
        "    cost=-np.sum(Y*np.log(A)+(1-Y)*np.log(1-A))/m\n",
        "    # Compute Derivatives\n",
        "\n",
        "    dw = np.dot(X,(A-Y).T)/m\n",
        "\n",
        "    db = np.sum(A-Y)/m\n",
        "\n",
        "    cost = np.squeeze(cost)\n",
        "#    assert(dw.shape == w.shape)\n",
        "    assert(db.dtype == float)\n",
        "    \n",
        "    assert(cost.shape == ())\n",
        "    \n",
        "    grads = {\"dw\": dw,\n",
        "             \"db\": db}\n",
        "    \n",
        "    return grads, cost\n"
      ],
      "execution_count": 17,
      "outputs": []
    },
    {
      "cell_type": "code",
      "metadata": {
        "id": "i-2mL8fC3Cfr",
        "colab_type": "code",
        "colab": {}
      },
      "source": [
        "def learn(w, b, X, Y, num_iterations,learning_rate, print_cost = False):\n",
        "    \n",
        "    for i in range(num_iterations):\n",
        "        # Cost and gradient calculation \n",
        "        grads, cost = propagate(w,b,X,Y)\n",
        "        # Retrieve derivatives from grads\n",
        "        dw = grads['dw']\n",
        "        db = grads['db']\n",
        "        # update rule\n",
        "        w = w-learning_rate*dw.T\n",
        "        b = b-learning_rate*db\n",
        "\n",
        "        if print_cost and i % 100 == 0:\n",
        "            print (\"Cost after iteration %i: %f\" %(i, cost))\n",
        "    \n",
        "    params = {\"w\": w,\n",
        "              \"b\": b}\n",
        "    \n",
        "    grads = {\"dw\": dw,\n",
        "             \"db\": db}\n",
        "    \n",
        "    return params,grads\n"
      ],
      "execution_count": 18,
      "outputs": []
    },
    {
      "cell_type": "code",
      "metadata": {
        "id": "24YgreCj3Cf1",
        "colab_type": "code",
        "colab": {}
      },
      "source": [
        "def predict(w, b, X):\n",
        "    \n",
        "    m = X.shape[1]\n",
        "    Y_prediction = np.zeros((1,m))\n",
        "    \n",
        "    # Compute vector \"A\" predicting\n",
        "    #    the probabilities of a ship being present in the picture\n",
        "\n",
        "    A = sigmoid(np.dot(w,X)+b)\n",
        "\n",
        "    for i in range(A.shape[1]):\n",
        "        \n",
        "        # Convert probabilities A[0,i] to actual predictions p[0,i]\n",
        "        if A[0,i]>=0.5:\n",
        "            Y_prediction[0,i]=1\n",
        "        else:\n",
        "            Y_prediction[0,i]=0\n",
        "    \n",
        "    assert(Y_prediction.shape == (1, m))\n",
        "\n",
        "    return Y_prediction\n"
      ],
      "execution_count": 19,
      "outputs": []
    },
    {
      "cell_type": "code",
      "metadata": {
        "tags": [],
        "id": "iCNQrbHd3Cf8",
        "colab_type": "code",
        "colab": {
          "base_uri": "https://localhost:8080/",
          "height": 918
        },
        "outputId": "382e3c34-365e-437a-e57c-fa483e1b98cb"
      },
      "source": [
        "\n",
        "\n",
        "\n",
        "num_iterations = 5000\n",
        "learning_rate = 0.026\n",
        "print_cost = True\n",
        "\n",
        "    \n",
        "# initialize parameters with zeros \n",
        "w, b = initialize_with_zeros(img_train.shape[0])\n",
        "\n",
        "# Gradient descent \n",
        "parameters, grads= learn(w, b, img_train, label_train, num_iterations, learning_rate, print_cost)\n",
        "\n",
        "\n",
        "# Retrieve parameters w and b from dictionary \"parameters\"\n",
        "w = parameters[\"w\"]\n",
        "b = parameters[\"b\"]\n",
        "\n",
        "# Predict test/train set examples\n",
        "Y_prediction_test = predict(w, b, img_test)\n",
        "Y_prediction_train = predict(w, b, img_train)\n",
        "\n",
        "# Print train/test Errors\n",
        "\n",
        "\n",
        "print(\"train accuracy:\"+str((100 - np.mean(np.abs(Y_prediction_train - label_train)) * 100)))\n",
        "print(\"test accuracy:\"+str((100 - np.mean(np.abs(Y_prediction_test - label_test)) * 100)))\n",
        "\n",
        "\n",
        "\n",
        "\n"
      ],
      "execution_count": 20,
      "outputs": [
        {
          "output_type": "stream",
          "text": [
            "Cost after iteration 0: 0.693147\n",
            "Cost after iteration 100: 0.278183\n",
            "Cost after iteration 200: 0.274052\n",
            "Cost after iteration 300: 0.271784\n",
            "Cost after iteration 400: 0.269959\n",
            "Cost after iteration 500: 0.268390\n",
            "Cost after iteration 600: 0.266999\n",
            "Cost after iteration 700: 0.265740\n",
            "Cost after iteration 800: 0.264583\n",
            "Cost after iteration 900: 0.263509\n",
            "Cost after iteration 1000: 0.262504\n",
            "Cost after iteration 1100: 0.261557\n",
            "Cost after iteration 1200: 0.260661\n",
            "Cost after iteration 1300: 0.259809\n",
            "Cost after iteration 1400: 0.258997\n",
            "Cost after iteration 1500: 0.258221\n",
            "Cost after iteration 1600: 0.257478\n",
            "Cost after iteration 1700: 0.256764\n",
            "Cost after iteration 1800: 0.256077\n",
            "Cost after iteration 1900: 0.255416\n",
            "Cost after iteration 2000: 0.254778\n",
            "Cost after iteration 2100: 0.254162\n",
            "Cost after iteration 2200: 0.253566\n",
            "Cost after iteration 2300: 0.252990\n",
            "Cost after iteration 2400: 0.252431\n",
            "Cost after iteration 2500: 0.251889\n",
            "Cost after iteration 2600: 0.251363\n",
            "Cost after iteration 2700: 0.250852\n",
            "Cost after iteration 2800: 0.250356\n",
            "Cost after iteration 2900: 0.249873\n",
            "Cost after iteration 3000: 0.249403\n",
            "Cost after iteration 3100: 0.248945\n",
            "Cost after iteration 3200: 0.248499\n",
            "Cost after iteration 3300: 0.248064\n",
            "Cost after iteration 3400: 0.247641\n",
            "Cost after iteration 3500: 0.247227\n",
            "Cost after iteration 3600: 0.246823\n",
            "Cost after iteration 3700: 0.246429\n",
            "Cost after iteration 3800: 0.246044\n",
            "Cost after iteration 3900: 0.245668\n",
            "Cost after iteration 4000: 0.245301\n",
            "Cost after iteration 4100: 0.244941\n",
            "Cost after iteration 4200: 0.244590\n",
            "Cost after iteration 4300: 0.244246\n",
            "Cost after iteration 4400: 0.243910\n",
            "Cost after iteration 4500: 0.243581\n",
            "Cost after iteration 4600: 0.243258\n",
            "Cost after iteration 4700: 0.242943\n",
            "Cost after iteration 4800: 0.242634\n",
            "Cost after iteration 4900: 0.242331\n",
            "train accuracy:90.482\n",
            "test accuracy:90.27\n"
          ],
          "name": "stdout"
        }
      ]
    },
    {
      "cell_type": "code",
      "metadata": {
        "id": "sUCWt5S33CgC",
        "colab_type": "code",
        "colab": {}
      },
      "source": [
        ""
      ],
      "execution_count": 20,
      "outputs": []
    }
  ]
}