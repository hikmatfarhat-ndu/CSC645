{
  "nbformat": 4,
  "nbformat_minor": 0,
  "metadata": {
    "kernelspec": {
      "name": "python3",
      "display_name": "Python 3"
    },
    "colab": {
      "name": "shallow-tensorflow-answer.ipynb",
      "provenance": [],
      "collapsed_sections": [],
      "include_colab_link": true
    }
  },
  "cells": [
    {
      "cell_type": "markdown",
      "metadata": {
        "id": "view-in-github",
        "colab_type": "text"
      },
      "source": [
        "<a href=\"https://colab.research.google.com/github/hikmatfarhat-ndu/CSC645/blob/master/shallow_tensorflow_answer.ipynb\" target=\"_parent\"><img src=\"https://colab.research.google.com/assets/colab-badge.svg\" alt=\"Open In Colab\"/></a>"
      ]
    },
    {
      "cell_type": "markdown",
      "metadata": {
        "id": "B1GbGYpm8pb4",
        "colab_type": "text"
      },
      "source": [
        "## Using Tensorflow to model the shallow network\n",
        "In this exercise will we redo, using tensorflow the shallow network that we trained from first\n",
        "principles before to recognize the \"flower\" shape.\n"
      ]
    },
    {
      "cell_type": "markdown",
      "metadata": {
        "id": "Yc6230u28pb8",
        "colab_type": "text"
      },
      "source": [
        "### Reading the data\n",
        "First recall that tensorflow stacks the samples row-wise instead of column-wise\n",
        "as we have been doing when we did the gradient descent oursleves. Therefore in the last line of the\n",
        "function load_dataset() below we don't take the transpose of X and Y as we did before."
      ]
    },
    {
      "cell_type": "code",
      "metadata": {
        "id": "E0ObDaVD8pb_",
        "colab_type": "code",
        "colab": {}
      },
      "source": [
        "import tensorflow as tf\n",
        "import numpy as np\n",
        "\n",
        "def load_dataset(n):\n",
        "    np.random.seed(1)\n",
        "    m = n # number of examples\n",
        "    N = int(m/2) # number of points per class\n",
        "    D = 2 # dimensionality\n",
        "    X = np.zeros((m,D),dtype='float32') # data matrix where each row is a single example\n",
        "    Y = np.zeros((m,1), dtype='float32') # labels vector (0 for red, 1 for blue)\n",
        "    a = 4 # maximum ray of the flower\n",
        "\n",
        "    for j in range(2):\n",
        "        ix = range(N*j,N*(j+1))\n",
        "        t = np.linspace(j*3.12,(j+1)*3.12,N) + np.random.randn(N)*0.2 # theta\n",
        "        r = a*np.sin(4*t) + np.random.randn(N)*0.2 # radius\n",
        "        X[ix] = np.c_[r*np.sin(t), r*np.cos(t)]\n",
        "        Y[ix] = j\n",
        "\n",
        "    return X, Y\n",
        "\n"
      ],
      "execution_count": 147,
      "outputs": []
    },
    {
      "cell_type": "markdown",
      "metadata": {
        "id": "5ZL7owU98pcP",
        "colab_type": "text"
      },
      "source": [
        "### Defining the parameters\n",
        "Below we define the parameters that are needed. We know that n_x=2 and n_y=1 but we extract them from the shape of\n",
        "X_data and Y_data after we call load_dataset() . We also set the number\n",
        "of data points to 500."
      ]
    },
    {
      "cell_type": "code",
      "metadata": {
        "id": "TZl1BVG48pcR",
        "colab_type": "code",
        "colab": {}
      },
      "source": [
        "learning_rate = 10\n",
        "nb_iterations = 5000\n",
        "num_data=500 #number of data points\n",
        "#X_data,Y_data=load_dataset(num_data)# load data\n",
        "# Network Parameters\n",
        "n_h = 4 # number of neurons in hidden layer\n",
        "n_x = X_data.shape[1] #number of neurons in input\n",
        "n_y = Y_data.shape[1] #number of neurons in ouput\n"
      ],
      "execution_count": 148,
      "outputs": []
    },
    {
      "cell_type": "markdown",
      "metadata": {
        "id": "a_ZUQKDd8pce",
        "colab_type": "text"
      },
      "source": [
        "### Initialization\n",
        "\n",
        "Since tensorflow stacks the data row-wise the forward propagation is slightly different then we are used to.\n",
        "Let $W^1$,$W^2$,$b^1$,$b^2$ be the weights and biases of the first and second layer respectively then forward propagation is define as\n",
        "\\begin{align*}\n",
        "Z^1&=X\\cdot W^1+b^1\\\\\n",
        "A^1 &=\\sigma(Z^1)\\\\\n",
        "Z^2 &=A^1\\cdot W^2+b2\\\\\n",
        "A^2 &=\\sigma(Z^2)\n",
        "\\end{align*}\n",
        "Accorging to the above equations you have to define the tensorflow variables that will hold the weights and biases. \n",
        "The biases are set to zero using the tensorflow function tf.zeros([size]) and the weights randomly using tf.random_normal([size1,size2]) using the appropriate sizes.\n",
        "Also we have to define two placeholders for the data X and Y"
      ]
    },
    {
      "cell_type": "code",
      "metadata": {
        "id": "MY46Q5c38pch",
        "colab_type": "code",
        "colab": {
          "base_uri": "https://localhost:8080/",
          "height": 34
        },
        "outputId": "bdbc13ec-7ed3-465e-a9a9-73f6cfd07813"
      },
      "source": [
        "\n",
        "initializer = tf.initializers.glorot_uniform()\n",
        "\n",
        "#W1=tf.Variable(tf.random.normal([n_x,n_h]),dtype='float32')#Weights of the first layer\n",
        "W1=tf.Variable(initializer([n_x,n_h]),trainable=True,dtype=tf.float32)\n",
        "W2=tf.Variable(initializer([n_h,n_y]),trainable=True,dtype=tf.float32)\n",
        "\n",
        "#W2=tf.Variable(tf.random.normal([n_h,n_y]),dtype='float32')#weights of the second layer\n",
        "b1=tf.Variable(tf.zeros([n_h]))            #biases of the first layer\n",
        "b2=tf.Variable(tf.zeros([n_y]))            #biases of the second layer\n",
        "print(n_y)"
      ],
      "execution_count": 149,
      "outputs": [
        {
          "output_type": "stream",
          "text": [
            "1\n"
          ],
          "name": "stdout"
        }
      ]
    },
    {
      "cell_type": "markdown",
      "metadata": {
        "id": "W0PPEanu8pct",
        "colab_type": "text"
      },
      "source": [
        "### Defining the model\n",
        "Our model has two layers. The function \"model\" below should return the ouput of our model for a given input."
      ]
    },
    {
      "cell_type": "code",
      "metadata": {
        "id": "eHUGz6ki8pcv",
        "colab_type": "code",
        "colab": {}
      },
      "source": [
        "def model(input):\n",
        "    # Hidden fully connected layer with 256 neurons\n",
        "   \n",
        "    layer_1 = tf.add(tf.matmul(input, W1), b1)\n",
        "    # Output fully connected layer with a neuron for each class\n",
        "    out_layer = tf.matmul(tf.sigmoid(layer_1), W2) + b2\n",
        "    return out_layer"
      ],
      "execution_count": 150,
      "outputs": []
    },
    {
      "cell_type": "markdown",
      "metadata": {
        "id": "FYvEYQzY8pc7",
        "colab_type": "text"
      },
      "source": [
        "Once the model is defined the remaining code is similar to our previous exercise. We define the loss\n",
        "as an average over the cross-entropy but this time since it is binary classification we use the sigmoid instead\n",
        "of the softmax function. Then our optimizer uses gradient descent to minimize the loss"
      ]
    },
    {
      "cell_type": "code",
      "metadata": {
        "id": "OyOu53Aa8pdC",
        "colab_type": "code",
        "colab": {}
      },
      "source": [
        "X,Y=load_dataset(500)\n",
        "\n",
        "# Define loss and optimize\n",
        "def loss(pred,label):\n",
        "   return tf.reduce_mean(tf.nn.sigmoid_cross_entropy_with_logits(logits=pred, labels=label))\n"
      ],
      "execution_count": 151,
      "outputs": []
    },
    {
      "cell_type": "markdown",
      "metadata": {
        "id": "cyKqGz848pdQ",
        "colab_type": "text"
      },
      "source": [
        "The model is defined now we run our computation in a session."
      ]
    },
    {
      "cell_type": "code",
      "metadata": {
        "id": "v3bNNi0M8pdS",
        "colab_type": "code",
        "colab": {
          "base_uri": "https://localhost:8080/",
          "height": 1000
        },
        "outputId": "3bb9bad6-ee61-43d3-9cc5-cf520e64efc6"
      },
      "source": [
        "# Initializing the variables\n",
        "optimizer=tf.optimizers.SGD(10)\n",
        "def train(model,input,output):\n",
        "  with tf.GradientTape() as tape:\n",
        "    diff=loss(model(X),Y)\n",
        "  grad=tape.gradient(diff,[W1,W2,b1,b2])\n",
        "  optimizer.apply_gradients( zip( grad , [W1,W2,b1,b2] ) )\n",
        "print(loss(model(X),Y))\n",
        "\n",
        "for i in range(10000):\n",
        " if(i%100==0):\n",
        "   print(loss(model(X),Y))\n",
        " train(model,X,Y)\n",
        " \n",
        "def prediction(X):\n",
        "  a=tf.math.sigmoid(model(X))\n",
        "  return tf.cast((a>0.5),tf.int32)\n",
        "pT=tf.transpose(prediction(X))\n",
        "print(np.dot(pT,Y))\n",
        "print(np.dot(1-pT,1-Y))\n",
        "correct=np.dot(pT,Y)+np.dot(1-pT,1-Y)\n",
        "accuracy=100*float(np.squeeze(correct))/float(Y.shape[0])\n",
        "print(\"Accuracy=\"+str(accuracy))\n"
      ],
      "execution_count": 152,
      "outputs": [
        {
          "output_type": "stream",
          "text": [
            "tf.Tensor(0.7982348, shape=(), dtype=float32)\n",
            "tf.Tensor(0.7982348, shape=(), dtype=float32)\n",
            "tf.Tensor(0.8112121, shape=(), dtype=float32)\n",
            "tf.Tensor(0.2727505, shape=(), dtype=float32)\n",
            "tf.Tensor(0.24509008, shape=(), dtype=float32)\n",
            "tf.Tensor(0.2329626, shape=(), dtype=float32)\n",
            "tf.Tensor(0.22663277, shape=(), dtype=float32)\n",
            "tf.Tensor(0.22244875, shape=(), dtype=float32)\n",
            "tf.Tensor(0.21942827, shape=(), dtype=float32)\n",
            "tf.Tensor(0.21714225, shape=(), dtype=float32)\n",
            "tf.Tensor(0.21535343, shape=(), dtype=float32)\n",
            "tf.Tensor(0.21387869, shape=(), dtype=float32)\n",
            "tf.Tensor(0.21254776, shape=(), dtype=float32)\n",
            "tf.Tensor(0.21137862, shape=(), dtype=float32)\n",
            "tf.Tensor(0.21038045, shape=(), dtype=float32)\n",
            "tf.Tensor(0.20949772, shape=(), dtype=float32)\n",
            "tf.Tensor(0.20869692, shape=(), dtype=float32)\n",
            "tf.Tensor(0.20796372, shape=(), dtype=float32)\n",
            "tf.Tensor(0.20729032, shape=(), dtype=float32)\n",
            "tf.Tensor(0.20667076, shape=(), dtype=float32)\n",
            "tf.Tensor(0.20609923, shape=(), dtype=float32)\n",
            "tf.Tensor(0.2055704, shape=(), dtype=float32)\n",
            "tf.Tensor(0.20507935, shape=(), dtype=float32)\n",
            "tf.Tensor(0.20462158, shape=(), dtype=float32)\n",
            "tf.Tensor(0.20419313, shape=(), dtype=float32)\n",
            "tf.Tensor(0.2037907, shape=(), dtype=float32)\n",
            "tf.Tensor(0.20341118, shape=(), dtype=float32)\n",
            "tf.Tensor(0.20305225, shape=(), dtype=float32)\n",
            "tf.Tensor(0.20271155, shape=(), dtype=float32)\n",
            "tf.Tensor(0.20238744, shape=(), dtype=float32)\n",
            "tf.Tensor(0.20207833, shape=(), dtype=float32)\n",
            "tf.Tensor(0.20178269, shape=(), dtype=float32)\n",
            "tf.Tensor(0.2014995, shape=(), dtype=float32)\n",
            "tf.Tensor(0.2012277, shape=(), dtype=float32)\n",
            "tf.Tensor(0.20096637, shape=(), dtype=float32)\n",
            "tf.Tensor(0.20071492, shape=(), dtype=float32)\n",
            "tf.Tensor(0.20047255, shape=(), dtype=float32)\n",
            "tf.Tensor(0.20023875, shape=(), dtype=float32)\n",
            "tf.Tensor(0.2000131, shape=(), dtype=float32)\n",
            "tf.Tensor(0.19979532, shape=(), dtype=float32)\n",
            "tf.Tensor(0.19958511, shape=(), dtype=float32)\n",
            "tf.Tensor(0.19938254, shape=(), dtype=float32)\n",
            "tf.Tensor(0.19918796, shape=(), dtype=float32)\n",
            "tf.Tensor(0.19900222, shape=(), dtype=float32)\n",
            "tf.Tensor(0.198827, shape=(), dtype=float32)\n",
            "tf.Tensor(0.19866495, shape=(), dtype=float32)\n",
            "tf.Tensor(0.1985196, shape=(), dtype=float32)\n",
            "tf.Tensor(0.19839288, shape=(), dtype=float32)\n",
            "tf.Tensor(0.1982819, shape=(), dtype=float32)\n",
            "tf.Tensor(0.19817999, shape=(), dtype=float32)\n",
            "tf.Tensor(0.19808196, shape=(), dtype=float32)\n",
            "tf.Tensor(0.19798602, shape=(), dtype=float32)\n",
            "tf.Tensor(0.19789179, shape=(), dtype=float32)\n",
            "tf.Tensor(0.19779915, shape=(), dtype=float32)\n",
            "tf.Tensor(0.19770798, shape=(), dtype=float32)\n",
            "tf.Tensor(0.19761825, shape=(), dtype=float32)\n",
            "tf.Tensor(0.19752984, shape=(), dtype=float32)\n",
            "tf.Tensor(0.19744265, shape=(), dtype=float32)\n",
            "tf.Tensor(0.1973567, shape=(), dtype=float32)\n",
            "tf.Tensor(0.19727191, shape=(), dtype=float32)\n",
            "tf.Tensor(0.19718818, shape=(), dtype=float32)\n",
            "tf.Tensor(0.1971055, shape=(), dtype=float32)\n",
            "tf.Tensor(0.19702384, shape=(), dtype=float32)\n",
            "tf.Tensor(0.19694309, shape=(), dtype=float32)\n",
            "tf.Tensor(0.19686326, shape=(), dtype=float32)\n",
            "tf.Tensor(0.1967843, shape=(), dtype=float32)\n",
            "tf.Tensor(0.19670618, shape=(), dtype=float32)\n",
            "tf.Tensor(0.19662882, shape=(), dtype=float32)\n",
            "tf.Tensor(0.1965523, shape=(), dtype=float32)\n",
            "tf.Tensor(0.19647649, shape=(), dtype=float32)\n",
            "tf.Tensor(0.19640143, shape=(), dtype=float32)\n",
            "tf.Tensor(0.19632703, shape=(), dtype=float32)\n",
            "tf.Tensor(0.19625328, shape=(), dtype=float32)\n",
            "tf.Tensor(0.19618025, shape=(), dtype=float32)\n",
            "tf.Tensor(0.19610779, shape=(), dtype=float32)\n",
            "tf.Tensor(0.19603595, shape=(), dtype=float32)\n",
            "tf.Tensor(0.1959647, shape=(), dtype=float32)\n",
            "tf.Tensor(0.19589402, shape=(), dtype=float32)\n",
            "tf.Tensor(0.19582391, shape=(), dtype=float32)\n",
            "tf.Tensor(0.19575433, shape=(), dtype=float32)\n",
            "tf.Tensor(0.19568527, shape=(), dtype=float32)\n",
            "tf.Tensor(0.19561675, shape=(), dtype=float32)\n",
            "tf.Tensor(0.19554873, shape=(), dtype=float32)\n",
            "tf.Tensor(0.19548115, shape=(), dtype=float32)\n",
            "tf.Tensor(0.19541408, shape=(), dtype=float32)\n",
            "tf.Tensor(0.19534744, shape=(), dtype=float32)\n",
            "tf.Tensor(0.1952813, shape=(), dtype=float32)\n",
            "tf.Tensor(0.19521558, shape=(), dtype=float32)\n",
            "tf.Tensor(0.1951503, shape=(), dtype=float32)\n",
            "tf.Tensor(0.19508545, shape=(), dtype=float32)\n",
            "tf.Tensor(0.19502102, shape=(), dtype=float32)\n",
            "tf.Tensor(0.19495699, shape=(), dtype=float32)\n",
            "tf.Tensor(0.19489338, shape=(), dtype=float32)\n",
            "tf.Tensor(0.19483013, shape=(), dtype=float32)\n",
            "tf.Tensor(0.1947673, shape=(), dtype=float32)\n",
            "tf.Tensor(0.19470485, shape=(), dtype=float32)\n",
            "tf.Tensor(0.19464278, shape=(), dtype=float32)\n",
            "tf.Tensor(0.19458108, shape=(), dtype=float32)\n",
            "tf.Tensor(0.19451971, shape=(), dtype=float32)\n",
            "tf.Tensor(0.19445877, shape=(), dtype=float32)\n",
            "tf.Tensor(0.19439813, shape=(), dtype=float32)\n",
            "[[236.]]\n",
            "[[231.]]\n",
            "Accuracy=93.4\n"
          ],
          "name": "stdout"
        }
      ]
    },
    {
      "cell_type": "code",
      "metadata": {
        "id": "amjTFhXd8pdh",
        "colab_type": "code",
        "colab": {}
      },
      "source": [
        ""
      ],
      "execution_count": 152,
      "outputs": []
    }
  ]
}