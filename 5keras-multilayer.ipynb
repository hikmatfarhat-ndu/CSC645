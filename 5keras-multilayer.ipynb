{
  "nbformat": 4,
  "nbformat_minor": 0,
  "metadata": {
    "colab": {
      "name": "keras-multilayer.ipynb",
      "provenance": [],
      "collapsed_sections": [],
      "include_colab_link": true
    },
    "kernelspec": {
      "name": "python3",
      "display_name": "Python 3"
    },
    "accelerator": "GPU"
  },
  "cells": [
    {
      "cell_type": "markdown",
      "metadata": {
        "id": "view-in-github",
        "colab_type": "text"
      },
      "source": [
        "<a href=\"https://colab.research.google.com/github/hikmatfarhat-ndu/CSC645/blob/master/5keras-multilayer.ipynb\" target=\"_parent\"><img src=\"https://colab.research.google.com/assets/colab-badge.svg\" alt=\"Open In Colab\"/></a>"
      ]
    },
    {
      "cell_type": "markdown",
      "metadata": {
        "id": "jJZCA1yWDMPU"
      },
      "source": [
        "# Multilayer Feedforward Using Keras Functional API\n",
        "\n",
        "\n",
        "In this exercise we train our keras model on the MNIST dataset again. But this time we use keras instead and specifically we use the keras functional API"
      ]
    },
    {
      "cell_type": "code",
      "metadata": {
        "id": "Wxn309X9dUHT"
      },
      "source": [
        "import numpy as np\n",
        "import matplotlib.pyplot as plt\n",
        "import tensorflow as tf\n",
        "from tensorflow.keras.models import Sequential\n",
        "from tensorflow.keras.layers import Input,Dense,Flatten,Conv2D"
      ],
      "execution_count": 4,
      "outputs": []
    },
    {
      "cell_type": "code",
      "metadata": {
        "id": "-R5raOpLdkRs"
      },
      "source": [
        "def load_dataset():\n",
        "  # tensorflow assumes the input and output are row vectors\n",
        "  # where as in our implementation we use them as column vectors\n",
        "    tr,te=keras.datasets.mnist.load_data()\n",
        "    X=tr[0].astype(\"float32\")/255\n",
        "    Y=tr[1]\n",
        "    #X=X.T\n",
        "    Y=Y.reshape(1,len(Y))\n",
        "    V=np.zeros((10,Y.shape[1]))\n",
        "    for j in range(Y.shape[1]):\n",
        "        V[Y[0,j],j]=1\n",
        "        \n",
        "    Y=V.astype(\"float32\")\n",
        "    test_data=te[0].astype(\"float32\")/255\n",
        "    test_labels=te[1].astype(\"float32\")\n",
        "    test_labels=test_labels.reshape(1,len(test_labels))\n",
        "    return X,Y.T,test_data,test_labels.T\n"
      ],
      "execution_count": 2,
      "outputs": []
    },
    {
      "cell_type": "markdown",
      "metadata": {
        "id": "gvEmfFo74Gqe"
      },
      "source": [
        "## Keras Functional API\n",
        "\n",
        "Even though our model for this exercise is also __Sequential__ we will introduce the more flexible __functional__ API.\n",
        "If we use the __Sequential__ model then our model would be\n",
        "```\n",
        "model= Sequential()\n",
        "model.add(Input(shape=(784,)))\n",
        "model.add(Dense(128,activation=\"relu\"))\n",
        "model.add(Dense(64,activation=\"relu\"))\n",
        "model.add(Dense(10,activation=\"softmax\"))\n",
        "```"
      ]
    },
    {
      "cell_type": "markdown",
      "metadata": {
        "id": "_rjOERSpCEvE"
      },
      "source": [
        "### Equivalent model using the functional API"
      ]
    },
    {
      "cell_type": "code",
      "metadata": {
        "id": "I2TO1rtdfxFj"
      },
      "source": [
        "input=tf.keras.layers.Input(shape=(784,))\n",
        "first_dense=tf.keras.layers.Dense(128,activation=\"relu\")(input)\n",
        "second_dense=tf.keras.layers.Dense(64,activation=\"relu\")(first_dense)\n",
        "last_layer=tf.keras.layers.Dense(10,activation=\"softmax\")(second_dense)\n",
        "\n",
        "model=tf.keras.Model(inputs=input,outputs=last_layer)"
      ],
      "execution_count": 3,
      "outputs": []
    },
    {
      "cell_type": "code",
      "metadata": {
        "id": "lZ-fcE1gf6Di"
      },
      "source": [
        "X,Y,test_data,test_labels = load_dataset()\n",
        "\n",
        "X=X.reshape(60000,784)\n",
        "test_data=test_data.reshape(10000,784)\n"
      ],
      "execution_count": 4,
      "outputs": []
    },
    {
      "cell_type": "markdown",
      "metadata": {
        "id": "8x2me_zYCYmf"
      },
      "source": [
        "### Using the function call instead of names\n",
        "\n",
        "__NOTE__: the labels are in one-hot encoding. If they were not then we use\n",
        "```\n",
        "SparseCategoricalCrossentropy instead of CategoricalCrossentropy\n",
        "```\n"
      ]
    },
    {
      "cell_type": "code",
      "metadata": {
        "id": "oO72TEvcgNmK"
      },
      "source": [
        "model.compile(\n",
        "    optimizer=keras.optimizers.Adam(),  # Optimizer\n",
        "    # Loss function to minimize\n",
        "    #loss=keras.losses.SparseCategoricalCrossentropy(),\n",
        "    loss=keras.losses.CategoricalCrossentropy(),\n",
        "    # List of metrics to monitor\n",
        "    metrics=[\"accuracy\"]\n",
        ")\n"
      ],
      "execution_count": 10,
      "outputs": []
    },
    {
      "cell_type": "markdown",
      "metadata": {
        "id": "wnmeq1DHC1uc"
      },
      "source": [
        "### Fit model to data"
      ]
    },
    {
      "cell_type": "code",
      "metadata": {
        "id": "O3fi-5KogPCp",
        "outputId": "d544dcde-2343-44e7-f1db-ec52f3fad742",
        "colab": {
          "base_uri": "https://localhost:8080/"
        }
      },
      "source": [
        "history = model.fit(\n",
        "    X,\n",
        "    Y,\n",
        "    batch_size=64,\n",
        "    epochs=10,\n",
        "   \n",
        ")"
      ],
      "execution_count": 9,
      "outputs": [
        {
          "output_type": "stream",
          "text": [
            "Fit model on training data\n",
            "Epoch 1/10\n",
            "938/938 [==============================] - 3s 3ms/step - loss: 0.0217 - accuracy: 0.9937\n",
            "Epoch 2/10\n",
            "938/938 [==============================] - 3s 3ms/step - loss: 0.0178 - accuracy: 0.9944\n",
            "Epoch 3/10\n",
            "938/938 [==============================] - 3s 3ms/step - loss: 0.0153 - accuracy: 0.9951\n",
            "Epoch 4/10\n",
            "938/938 [==============================] - 3s 3ms/step - loss: 0.0135 - accuracy: 0.9958\n",
            "Epoch 5/10\n",
            "938/938 [==============================] - 3s 3ms/step - loss: 0.0125 - accuracy: 0.9963\n",
            "Epoch 6/10\n",
            "938/938 [==============================] - 3s 3ms/step - loss: 0.0102 - accuracy: 0.9970\n",
            "Epoch 7/10\n",
            "938/938 [==============================] - 3s 3ms/step - loss: 0.0094 - accuracy: 0.9972\n",
            "Epoch 8/10\n",
            "938/938 [==============================] - 3s 3ms/step - loss: 0.0086 - accuracy: 0.9973\n",
            "Epoch 9/10\n",
            "938/938 [==============================] - 3s 3ms/step - loss: 0.0078 - accuracy: 0.9977\n",
            "Epoch 10/10\n",
            "938/938 [==============================] - 3s 3ms/step - loss: 0.0071 - accuracy: 0.9977\n"
          ],
          "name": "stdout"
        }
      ]
    },
    {
      "cell_type": "markdown",
      "metadata": {
        "id": "BKe136ej359z"
      },
      "source": [
        "## Evaluate on test data\n",
        "\n",
        "Note that the test_labels are **not** in one_hot encoding. We convert them to one-hot using the function\n",
        "```\n",
        "tf.one_hot\n",
        "```"
      ]
    },
    {
      "cell_type": "code",
      "metadata": {
        "id": "k9pqSbriuiXb",
        "outputId": "8d4612b4-60c5-4b9b-d157-9dfc4d581252",
        "colab": {
          "base_uri": "https://localhost:8080/"
        }
      },
      "source": [
        "test_labels_one_hot=tf.one_hot(test_labels.flatten(),depth=10)\n",
        "model.evaluate(test_data,test_labels_one_hot)"
      ],
      "execution_count": 7,
      "outputs": [
        {
          "output_type": "stream",
          "text": [
            "313/313 [==============================] - 0s 1ms/step - loss: 0.1011 - categorical_accuracy: 0.9764\n"
          ],
          "name": "stdout"
        },
        {
          "output_type": "execute_result",
          "data": {
            "text/plain": [
              "[0.10110843181610107, 0.9764000177383423]"
            ]
          },
          "metadata": {
            "tags": []
          },
          "execution_count": 7
        }
      ]
    },
    {
      "cell_type": "markdown",
      "metadata": {
        "id": "79U-gNJJIBGz"
      },
      "source": [
        "### CIFAR10"
      ]
    },
    {
      "cell_type": "code",
      "metadata": {
        "id": "eHI53tMjHnhN",
        "outputId": "e0b7acc9-a414-4568-8394-7c4fced9e824",
        "colab": {
          "base_uri": "https://localhost:8080/"
        }
      },
      "source": [
        "(x_train,y_train),(x_test,y_test)=tf.keras.datasets.cifar10.load_data()"
      ],
      "execution_count": 5,
      "outputs": [
        {
          "output_type": "stream",
          "text": [
            "Downloading data from https://www.cs.toronto.edu/~kriz/cifar-10-python.tar.gz\n",
            "170500096/170498071 [==============================] - 4s 0us/step\n"
          ],
          "name": "stdout"
        }
      ]
    },
    {
      "cell_type": "code",
      "metadata": {
        "id": "_zhMoxSbJmd1",
        "outputId": "c9acffc1-c276-4bd7-85c7-3135f5d01dc8",
        "colab": {
          "base_uri": "https://localhost:8080/"
        }
      },
      "source": [
        "print(x_train.shape)\n",
        "print(y_train.shape)\n",
        "print(y_train[0:10])"
      ],
      "execution_count": 21,
      "outputs": [
        {
          "output_type": "stream",
          "text": [
            "(50000, 32, 32, 3)\n",
            "(50000, 1)\n",
            "[[6]\n",
            " [9]\n",
            " [9]\n",
            " [4]\n",
            " [1]\n",
            " [1]\n",
            " [2]\n",
            " [7]\n",
            " [8]\n",
            " [3]]\n"
          ],
          "name": "stdout"
        }
      ]
    },
    {
      "cell_type": "code",
      "metadata": {
        "id": "bpPwKQ3JH1S3"
      },
      "source": [
        "input=tf.keras.layers.Input(shape=(32,32,3))\n",
        "first_layer=tf.keras.layers.Conv2D(32,(3,3),activation=\"relu\")(input)\n",
        "second_layer=tf.keras.layers.Conv2D(64,(3,3))(first_layer)\n",
        "third_layer=tf.keras.layers.Flatten()(second_layer)\n",
        "output=tf.keras.layers.Dense(10,activation=\"softmax\")(third_layer)\n",
        "#first_layer=Flatten()(input)\n",
        "#second_layer=Dense(128,activation=\"relu\")(first_layer)\n",
        "#third_layer=Dense(64,activation=\"relu\")(second_layer)\n",
        "#output=Dense(10,activation=\"softmax\")(third_layer)\n",
        "model=tf.keras.Model(inputs=input,outputs=output)"
      ],
      "execution_count": 6,
      "outputs": []
    },
    {
      "cell_type": "code",
      "metadata": {
        "id": "vOOLjL5PH5qi"
      },
      "source": [
        "model.compile(optimizer=\"Adam\",loss=\"sparse_categorical_crossentropy\",metrics=[\"accuracy\"])"
      ],
      "execution_count": 7,
      "outputs": []
    },
    {
      "cell_type": "code",
      "metadata": {
        "id": "buMAkL5nH7eY",
        "outputId": "33312fd1-4ed9-4267-ffb5-27dd9801a93a",
        "colab": {
          "base_uri": "https://localhost:8080/"
        }
      },
      "source": [
        "model.fit(x_train,y_train,batch_size=128,epochs=50)"
      ],
      "execution_count": 8,
      "outputs": [
        {
          "output_type": "stream",
          "text": [
            "Epoch 1/50\n",
            "391/391 [==============================] - 3s 7ms/step - loss: 38.0224 - accuracy: 0.3261\n",
            "Epoch 2/50\n",
            "391/391 [==============================] - 3s 7ms/step - loss: 2.4739 - accuracy: 0.4295\n",
            "Epoch 3/50\n",
            "391/391 [==============================] - 3s 7ms/step - loss: 1.6548 - accuracy: 0.5042\n",
            "Epoch 4/50\n",
            "391/391 [==============================] - 3s 7ms/step - loss: 1.3980 - accuracy: 0.5611\n",
            "Epoch 5/50\n",
            "391/391 [==============================] - 3s 7ms/step - loss: 1.2308 - accuracy: 0.6056\n",
            "Epoch 6/50\n",
            "391/391 [==============================] - 3s 7ms/step - loss: 1.1070 - accuracy: 0.6381\n",
            "Epoch 7/50\n",
            "391/391 [==============================] - 3s 7ms/step - loss: 1.0325 - accuracy: 0.6607\n",
            "Epoch 8/50\n",
            "391/391 [==============================] - 3s 7ms/step - loss: 0.9466 - accuracy: 0.6870\n",
            "Epoch 9/50\n",
            "391/391 [==============================] - 3s 7ms/step - loss: 0.8989 - accuracy: 0.7021\n",
            "Epoch 10/50\n",
            "391/391 [==============================] - 3s 7ms/step - loss: 0.8511 - accuracy: 0.7177\n",
            "Epoch 11/50\n",
            "391/391 [==============================] - 3s 7ms/step - loss: 0.8390 - accuracy: 0.7268\n",
            "Epoch 12/50\n",
            "391/391 [==============================] - 3s 7ms/step - loss: 0.8253 - accuracy: 0.7329\n",
            "Epoch 13/50\n",
            "391/391 [==============================] - 3s 7ms/step - loss: 0.8042 - accuracy: 0.7412\n",
            "Epoch 14/50\n",
            "391/391 [==============================] - 3s 7ms/step - loss: 0.8285 - accuracy: 0.7401\n",
            "Epoch 15/50\n",
            "391/391 [==============================] - 3s 7ms/step - loss: 0.8317 - accuracy: 0.7424\n",
            "Epoch 16/50\n",
            "391/391 [==============================] - 3s 7ms/step - loss: 0.7875 - accuracy: 0.7547\n",
            "Epoch 17/50\n",
            "391/391 [==============================] - 3s 7ms/step - loss: 0.8325 - accuracy: 0.7496\n",
            "Epoch 18/50\n",
            "391/391 [==============================] - 3s 7ms/step - loss: 0.8170 - accuracy: 0.7533\n",
            "Epoch 19/50\n",
            "391/391 [==============================] - 3s 7ms/step - loss: 0.8151 - accuracy: 0.7580\n",
            "Epoch 20/50\n",
            "391/391 [==============================] - 3s 7ms/step - loss: 0.8180 - accuracy: 0.7609\n",
            "Epoch 21/50\n",
            "391/391 [==============================] - 3s 8ms/step - loss: 0.8187 - accuracy: 0.7601\n",
            "Epoch 22/50\n",
            "391/391 [==============================] - 3s 8ms/step - loss: 0.7695 - accuracy: 0.7713\n",
            "Epoch 23/50\n",
            "391/391 [==============================] - 3s 8ms/step - loss: 0.8188 - accuracy: 0.7641\n",
            "Epoch 24/50\n",
            "391/391 [==============================] - 3s 8ms/step - loss: 0.8471 - accuracy: 0.7601\n",
            "Epoch 25/50\n",
            "391/391 [==============================] - 3s 7ms/step - loss: 0.8242 - accuracy: 0.7649\n",
            "Epoch 26/50\n",
            "391/391 [==============================] - 3s 7ms/step - loss: 0.7736 - accuracy: 0.7775\n",
            "Epoch 27/50\n",
            "391/391 [==============================] - 3s 7ms/step - loss: 0.7685 - accuracy: 0.7811\n",
            "Epoch 28/50\n",
            "391/391 [==============================] - 3s 7ms/step - loss: 0.7266 - accuracy: 0.7955\n",
            "Epoch 29/50\n",
            "391/391 [==============================] - 3s 7ms/step - loss: 0.9625 - accuracy: 0.7433\n",
            "Epoch 30/50\n",
            "391/391 [==============================] - 3s 7ms/step - loss: 0.8342 - accuracy: 0.7643\n",
            "Epoch 31/50\n",
            "391/391 [==============================] - 3s 7ms/step - loss: 0.7696 - accuracy: 0.7766\n",
            "Epoch 32/50\n",
            "391/391 [==============================] - 3s 7ms/step - loss: 0.7295 - accuracy: 0.7873\n",
            "Epoch 33/50\n",
            "391/391 [==============================] - 3s 7ms/step - loss: 0.7497 - accuracy: 0.7879\n",
            "Epoch 34/50\n",
            "391/391 [==============================] - 3s 7ms/step - loss: 0.7520 - accuracy: 0.7900\n",
            "Epoch 35/50\n",
            "391/391 [==============================] - 3s 7ms/step - loss: 0.8871 - accuracy: 0.7609\n",
            "Epoch 36/50\n",
            "391/391 [==============================] - 3s 7ms/step - loss: 0.6729 - accuracy: 0.8086\n",
            "Epoch 37/50\n",
            "391/391 [==============================] - 3s 7ms/step - loss: 0.7743 - accuracy: 0.7871\n",
            "Epoch 38/50\n",
            "391/391 [==============================] - 3s 7ms/step - loss: 0.6940 - accuracy: 0.8065\n",
            "Epoch 39/50\n",
            "391/391 [==============================] - 3s 7ms/step - loss: 0.7554 - accuracy: 0.7977\n",
            "Epoch 40/50\n",
            "391/391 [==============================] - 3s 7ms/step - loss: 0.6902 - accuracy: 0.8120\n",
            "Epoch 41/50\n",
            "391/391 [==============================] - 3s 7ms/step - loss: 0.6913 - accuracy: 0.8113\n",
            "Epoch 42/50\n",
            "391/391 [==============================] - 3s 7ms/step - loss: 0.7045 - accuracy: 0.8094\n",
            "Epoch 43/50\n",
            "391/391 [==============================] - 3s 7ms/step - loss: 0.7569 - accuracy: 0.8030\n",
            "Epoch 44/50\n",
            "391/391 [==============================] - 3s 7ms/step - loss: 0.7461 - accuracy: 0.8085\n",
            "Epoch 45/50\n",
            "391/391 [==============================] - 3s 7ms/step - loss: 0.7062 - accuracy: 0.8161\n",
            "Epoch 46/50\n",
            "391/391 [==============================] - 3s 7ms/step - loss: 0.6846 - accuracy: 0.8234\n",
            "Epoch 47/50\n",
            "391/391 [==============================] - 3s 7ms/step - loss: 0.6252 - accuracy: 0.8362\n",
            "Epoch 48/50\n",
            "391/391 [==============================] - 3s 8ms/step - loss: 0.7061 - accuracy: 0.8251\n",
            "Epoch 49/50\n",
            "391/391 [==============================] - 3s 7ms/step - loss: 0.6559 - accuracy: 0.8341\n",
            "Epoch 50/50\n",
            "391/391 [==============================] - 3s 7ms/step - loss: 0.7127 - accuracy: 0.8249\n"
          ],
          "name": "stdout"
        },
        {
          "output_type": "execute_result",
          "data": {
            "text/plain": [
              "<tensorflow.python.keras.callbacks.History at 0x7ff0a04b6710>"
            ]
          },
          "metadata": {
            "tags": []
          },
          "execution_count": 8
        }
      ]
    },
    {
      "cell_type": "code",
      "metadata": {
        "id": "iSB9JHdCH97g"
      },
      "source": [
        ""
      ],
      "execution_count": null,
      "outputs": []
    }
  ]
}